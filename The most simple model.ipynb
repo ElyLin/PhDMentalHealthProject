{
 "cells": [
  {
   "cell_type": "markdown",
   "metadata": {},
   "source": [
    "Columns: \n",
    "\n",
    "- dual degree yes or no 'Q1'\n",
    "- bullying yes or no 'Q31'\n",
    "- job yes or no 'Q13'\n",
    "- studying in your country yes or no 'Q4'\n",
    "- discrimination or harrassment 'Q34'\n",
    "\n"
   ]
  },
  {
   "cell_type": "markdown",
   "metadata": {},
   "source": [
    "### EDA"
   ]
  },
  {
   "cell_type": "code",
   "execution_count": 1,
   "metadata": {},
   "outputs": [],
   "source": [
    "import pandas as pd"
   ]
  },
  {
   "cell_type": "code",
   "execution_count": 2,
   "metadata": {},
   "outputs": [],
   "source": [
    "# load dataframe\n",
    "df=pd.read_csv('data.csv',dtype='str')"
   ]
  },
  {
   "cell_type": "code",
   "execution_count": 3,
   "metadata": {},
   "outputs": [
    {
     "data": {
      "text/html": [
       "<div>\n",
       "<style scoped>\n",
       "    .dataframe tbody tr th:only-of-type {\n",
       "        vertical-align: middle;\n",
       "    }\n",
       "\n",
       "    .dataframe tbody tr th {\n",
       "        vertical-align: top;\n",
       "    }\n",
       "\n",
       "    .dataframe thead th {\n",
       "        text-align: right;\n",
       "    }\n",
       "</style>\n",
       "<table border=\"1\" class=\"dataframe\">\n",
       "  <thead>\n",
       "    <tr style=\"text-align: right;\">\n",
       "      <th></th>\n",
       "      <th>ID.format</th>\n",
       "      <th>ID.completed</th>\n",
       "      <th>ID.language</th>\n",
       "      <th>ID.site</th>\n",
       "      <th>ID.date</th>\n",
       "      <th>ID.start</th>\n",
       "      <th>ID.endDate</th>\n",
       "      <th>ID.end</th>\n",
       "      <th>ID.time</th>\n",
       "      <th>Q1</th>\n",
       "      <th>...</th>\n",
       "      <th>Q59:4</th>\n",
       "      <th>Q59:5</th>\n",
       "      <th>Q59.a</th>\n",
       "      <th>Q60</th>\n",
       "      <th>Q61</th>\n",
       "      <th>Q62</th>\n",
       "      <th>Q63</th>\n",
       "      <th>Q64</th>\n",
       "      <th>Q65.a</th>\n",
       "      <th>Q65.b</th>\n",
       "    </tr>\n",
       "  </thead>\n",
       "  <tbody>\n",
       "    <tr>\n",
       "      <th>0</th>\n",
       "      <td>The published format which was employed</td>\n",
       "      <td>Case completed in Snap Interviewer</td>\n",
       "      <td>What language would you like to complete the s...</td>\n",
       "      <td>Questionnaire location</td>\n",
       "      <td>Date of interview</td>\n",
       "      <td>Time interview started</td>\n",
       "      <td>Completion date of interview</td>\n",
       "      <td>Time interview ended</td>\n",
       "      <td>Duration of interview</td>\n",
       "      <td>Which, if any, of the following degrees are yo...</td>\n",
       "      <td>...</td>\n",
       "      <td>Do you have any caring responsibilities?</td>\n",
       "      <td>Do you have any caring responsibilities?</td>\n",
       "      <td>If other, please specify</td>\n",
       "      <td>Thank you for taking part in the survey. Are t...</td>\n",
       "      <td>Would you like to be entered into the prize dr...</td>\n",
       "      <td>Nature may want to contact you again to ask fo...</td>\n",
       "      <td>Springer Nature is keen to update PhD students...</td>\n",
       "      <td>Shift Learning carry out paid research in the ...</td>\n",
       "      <td>Name:</td>\n",
       "      <td>Email address:</td>\n",
       "    </tr>\n",
       "    <tr>\n",
       "      <th>1</th>\n",
       "      <td>SNAP 2015 SHIFT</td>\n",
       "      <td>completed</td>\n",
       "      <td>Spanish</td>\n",
       "      <td>NaN</td>\n",
       "      <td>06/14/2019</td>\n",
       "      <td>16:46:41</td>\n",
       "      <td>06/14/2019</td>\n",
       "      <td>17:36:11</td>\n",
       "      <td>49.5</td>\n",
       "      <td>Doctorate degree (PhD/DPhil/MD)</td>\n",
       "      <td>...</td>\n",
       "      <td>NaN</td>\n",
       "      <td>NaN</td>\n",
       "      <td>NaN</td>\n",
       "      <td>Felicidades por esta encuesta. Pienso que se h...</td>\n",
       "      <td>Yes</td>\n",
       "      <td>Yes</td>\n",
       "      <td>Yes, I would like Nature Careers to contact me...</td>\n",
       "      <td>Yes, I would like to join the Shift Learning r...</td>\n",
       "      <td>1</td>\n",
       "      <td>NaN</td>\n",
       "    </tr>\n",
       "    <tr>\n",
       "      <th>2</th>\n",
       "      <td>SNAP 2015 SHIFT</td>\n",
       "      <td>completed</td>\n",
       "      <td>English</td>\n",
       "      <td>NaN</td>\n",
       "      <td>06/14/2019</td>\n",
       "      <td>17:10:02</td>\n",
       "      <td>06/14/2019</td>\n",
       "      <td>17:38:25</td>\n",
       "      <td>28.38</td>\n",
       "      <td>Doctorate degree (PhD/DPhil/MD)</td>\n",
       "      <td>...</td>\n",
       "      <td>No</td>\n",
       "      <td>NaN</td>\n",
       "      <td>NaN</td>\n",
       "      <td>NaN</td>\n",
       "      <td>Yes</td>\n",
       "      <td>Yes</td>\n",
       "      <td>Yes, I would like Nature Careers to contact me...</td>\n",
       "      <td>Yes, I would like to join the Shift Learning r...</td>\n",
       "      <td>2</td>\n",
       "      <td>NaN</td>\n",
       "    </tr>\n",
       "    <tr>\n",
       "      <th>3</th>\n",
       "      <td>SNAP 2015 SHIFT</td>\n",
       "      <td>completed</td>\n",
       "      <td>English</td>\n",
       "      <td>NaN</td>\n",
       "      <td>06/14/2019</td>\n",
       "      <td>17:15:21</td>\n",
       "      <td>06/14/2019</td>\n",
       "      <td>17:39:13</td>\n",
       "      <td>23.87</td>\n",
       "      <td>Doctorate degree (PhD/DPhil/MD)</td>\n",
       "      <td>...</td>\n",
       "      <td>No</td>\n",
       "      <td>NaN</td>\n",
       "      <td>NaN</td>\n",
       "      <td>NaN</td>\n",
       "      <td>Yes</td>\n",
       "      <td>Yes</td>\n",
       "      <td>NaN</td>\n",
       "      <td>NaN</td>\n",
       "      <td>3</td>\n",
       "      <td>NaN</td>\n",
       "    </tr>\n",
       "    <tr>\n",
       "      <th>4</th>\n",
       "      <td>SNAP 2015 SHIFT</td>\n",
       "      <td>completed</td>\n",
       "      <td>English</td>\n",
       "      <td>NaN</td>\n",
       "      <td>06/14/2019</td>\n",
       "      <td>16:51:28</td>\n",
       "      <td>06/14/2019</td>\n",
       "      <td>17:46:58</td>\n",
       "      <td>55.5</td>\n",
       "      <td>Doctorate degree (PhD/DPhil/MD)</td>\n",
       "      <td>...</td>\n",
       "      <td>No</td>\n",
       "      <td>NaN</td>\n",
       "      <td>NaN</td>\n",
       "      <td>NaN</td>\n",
       "      <td>Yes</td>\n",
       "      <td>Yes</td>\n",
       "      <td>Yes, I would like Nature Careers to contact me...</td>\n",
       "      <td>Yes, I would like to join the Shift Learning r...</td>\n",
       "      <td>4</td>\n",
       "      <td>NaN</td>\n",
       "    </tr>\n",
       "    <tr>\n",
       "      <th>...</th>\n",
       "      <td>...</td>\n",
       "      <td>...</td>\n",
       "      <td>...</td>\n",
       "      <td>...</td>\n",
       "      <td>...</td>\n",
       "      <td>...</td>\n",
       "      <td>...</td>\n",
       "      <td>...</td>\n",
       "      <td>...</td>\n",
       "      <td>...</td>\n",
       "      <td>...</td>\n",
       "      <td>...</td>\n",
       "      <td>...</td>\n",
       "      <td>...</td>\n",
       "      <td>...</td>\n",
       "      <td>...</td>\n",
       "      <td>...</td>\n",
       "      <td>...</td>\n",
       "      <td>...</td>\n",
       "      <td>...</td>\n",
       "      <td>...</td>\n",
       "    </tr>\n",
       "    <tr>\n",
       "      <th>6808</th>\n",
       "      <td>SNAP 2015 SHIFT</td>\n",
       "      <td>completed</td>\n",
       "      <td>English</td>\n",
       "      <td>NaN</td>\n",
       "      <td>06/14/2019</td>\n",
       "      <td>16:51:46</td>\n",
       "      <td>06/14/2019</td>\n",
       "      <td>17:07:47</td>\n",
       "      <td>16.02</td>\n",
       "      <td>Doctorate degree (PhD/DPhil/MD)</td>\n",
       "      <td>...</td>\n",
       "      <td>No</td>\n",
       "      <td>NaN</td>\n",
       "      <td>NaN</td>\n",
       "      <td>NaN</td>\n",
       "      <td>Yes</td>\n",
       "      <td>Yes</td>\n",
       "      <td>NaN</td>\n",
       "      <td>NaN</td>\n",
       "      <td>9835</td>\n",
       "      <td>NaN</td>\n",
       "    </tr>\n",
       "    <tr>\n",
       "      <th>6809</th>\n",
       "      <td>SNAP 2015 SHIFT</td>\n",
       "      <td>completed</td>\n",
       "      <td>English</td>\n",
       "      <td>NaN</td>\n",
       "      <td>06/14/2019</td>\n",
       "      <td>16:54:50</td>\n",
       "      <td>06/14/2019</td>\n",
       "      <td>17:08:17</td>\n",
       "      <td>13.45</td>\n",
       "      <td>Doctorate degree (PhD/DPhil/MD)</td>\n",
       "      <td>...</td>\n",
       "      <td>No</td>\n",
       "      <td>NaN</td>\n",
       "      <td>NaN</td>\n",
       "      <td>NaN</td>\n",
       "      <td>Yes</td>\n",
       "      <td>Yes</td>\n",
       "      <td>Yes, I would like Nature Careers to contact me...</td>\n",
       "      <td>Yes, I would like to join the Shift Learning r...</td>\n",
       "      <td>9836</td>\n",
       "      <td>NaN</td>\n",
       "    </tr>\n",
       "    <tr>\n",
       "      <th>6810</th>\n",
       "      <td>SNAP 2015 SHIFT</td>\n",
       "      <td>completed</td>\n",
       "      <td>English</td>\n",
       "      <td>NaN</td>\n",
       "      <td>06/14/2019</td>\n",
       "      <td>16:58:30</td>\n",
       "      <td>06/14/2019</td>\n",
       "      <td>17:19:23</td>\n",
       "      <td>20.88</td>\n",
       "      <td>Doctorate degree (PhD/DPhil/MD)</td>\n",
       "      <td>...</td>\n",
       "      <td>No</td>\n",
       "      <td>NaN</td>\n",
       "      <td>NaN</td>\n",
       "      <td>NaN</td>\n",
       "      <td>Yes</td>\n",
       "      <td>No</td>\n",
       "      <td>NaN</td>\n",
       "      <td>NaN</td>\n",
       "      <td>9837</td>\n",
       "      <td>NaN</td>\n",
       "    </tr>\n",
       "    <tr>\n",
       "      <th>6811</th>\n",
       "      <td>SNAP 2015 SHIFT</td>\n",
       "      <td>completed</td>\n",
       "      <td>English</td>\n",
       "      <td>NaN</td>\n",
       "      <td>06/14/2019</td>\n",
       "      <td>15:10:17</td>\n",
       "      <td>06/14/2019</td>\n",
       "      <td>17:21:02</td>\n",
       "      <td>130.75</td>\n",
       "      <td>Doctorate degree (PhD/DPhil/MD)</td>\n",
       "      <td>...</td>\n",
       "      <td>No</td>\n",
       "      <td>NaN</td>\n",
       "      <td>NaN</td>\n",
       "      <td>NaN</td>\n",
       "      <td>Yes</td>\n",
       "      <td>Yes</td>\n",
       "      <td>Yes, I would like Nature Careers to contact me...</td>\n",
       "      <td>Yes, I would like to join the Shift Learning r...</td>\n",
       "      <td>9838</td>\n",
       "      <td>NaN</td>\n",
       "    </tr>\n",
       "    <tr>\n",
       "      <th>6812</th>\n",
       "      <td>SNAP 2015 SHIFT</td>\n",
       "      <td>completed</td>\n",
       "      <td>English</td>\n",
       "      <td>NaN</td>\n",
       "      <td>06/14/2019</td>\n",
       "      <td>17:11:57</td>\n",
       "      <td>06/14/2019</td>\n",
       "      <td>17:27:22</td>\n",
       "      <td>15.42</td>\n",
       "      <td>Doctorate degree (PhD/DPhil/MD)</td>\n",
       "      <td>...</td>\n",
       "      <td>NaN</td>\n",
       "      <td>NaN</td>\n",
       "      <td>NaN</td>\n",
       "      <td>NaN</td>\n",
       "      <td>Yes</td>\n",
       "      <td>Yes</td>\n",
       "      <td>NaN</td>\n",
       "      <td>NaN</td>\n",
       "      <td>9839</td>\n",
       "      <td>NaN</td>\n",
       "    </tr>\n",
       "  </tbody>\n",
       "</table>\n",
       "<p>6813 rows × 274 columns</p>\n",
       "</div>"
      ],
      "text/plain": [
       "                                    ID.format  \\\n",
       "0     The published format which was employed   \n",
       "1                            SNAP 2015 SHIFT    \n",
       "2                            SNAP 2015 SHIFT    \n",
       "3                            SNAP 2015 SHIFT    \n",
       "4                            SNAP 2015 SHIFT    \n",
       "...                                       ...   \n",
       "6808                         SNAP 2015 SHIFT    \n",
       "6809                         SNAP 2015 SHIFT    \n",
       "6810                         SNAP 2015 SHIFT    \n",
       "6811                         SNAP 2015 SHIFT    \n",
       "6812                         SNAP 2015 SHIFT    \n",
       "\n",
       "                            ID.completed  \\\n",
       "0     Case completed in Snap Interviewer   \n",
       "1                              completed   \n",
       "2                              completed   \n",
       "3                              completed   \n",
       "4                              completed   \n",
       "...                                  ...   \n",
       "6808                           completed   \n",
       "6809                           completed   \n",
       "6810                           completed   \n",
       "6811                           completed   \n",
       "6812                           completed   \n",
       "\n",
       "                                            ID.language  \\\n",
       "0     What language would you like to complete the s...   \n",
       "1                                               Spanish   \n",
       "2                                               English   \n",
       "3                                               English   \n",
       "4                                               English   \n",
       "...                                                 ...   \n",
       "6808                                            English   \n",
       "6809                                            English   \n",
       "6810                                            English   \n",
       "6811                                            English   \n",
       "6812                                            English   \n",
       "\n",
       "                     ID.site            ID.date                ID.start  \\\n",
       "0     Questionnaire location  Date of interview  Time interview started   \n",
       "1                        NaN         06/14/2019                16:46:41   \n",
       "2                        NaN         06/14/2019                17:10:02   \n",
       "3                        NaN         06/14/2019                17:15:21   \n",
       "4                        NaN         06/14/2019                16:51:28   \n",
       "...                      ...                ...                     ...   \n",
       "6808                     NaN         06/14/2019                16:51:46   \n",
       "6809                     NaN         06/14/2019                16:54:50   \n",
       "6810                     NaN         06/14/2019                16:58:30   \n",
       "6811                     NaN         06/14/2019                15:10:17   \n",
       "6812                     NaN         06/14/2019                17:11:57   \n",
       "\n",
       "                        ID.endDate                ID.end  \\\n",
       "0     Completion date of interview  Time interview ended   \n",
       "1                       06/14/2019              17:36:11   \n",
       "2                       06/14/2019              17:38:25   \n",
       "3                       06/14/2019              17:39:13   \n",
       "4                       06/14/2019              17:46:58   \n",
       "...                            ...                   ...   \n",
       "6808                    06/14/2019              17:07:47   \n",
       "6809                    06/14/2019              17:08:17   \n",
       "6810                    06/14/2019              17:19:23   \n",
       "6811                    06/14/2019              17:21:02   \n",
       "6812                    06/14/2019              17:27:22   \n",
       "\n",
       "                    ID.time  \\\n",
       "0     Duration of interview   \n",
       "1                      49.5   \n",
       "2                     28.38   \n",
       "3                     23.87   \n",
       "4                      55.5   \n",
       "...                     ...   \n",
       "6808                  16.02   \n",
       "6809                  13.45   \n",
       "6810                  20.88   \n",
       "6811                 130.75   \n",
       "6812                  15.42   \n",
       "\n",
       "                                                     Q1  ...  \\\n",
       "0     Which, if any, of the following degrees are yo...  ...   \n",
       "1                       Doctorate degree (PhD/DPhil/MD)  ...   \n",
       "2                       Doctorate degree (PhD/DPhil/MD)  ...   \n",
       "3                       Doctorate degree (PhD/DPhil/MD)  ...   \n",
       "4                       Doctorate degree (PhD/DPhil/MD)  ...   \n",
       "...                                                 ...  ...   \n",
       "6808                    Doctorate degree (PhD/DPhil/MD)  ...   \n",
       "6809                    Doctorate degree (PhD/DPhil/MD)  ...   \n",
       "6810                    Doctorate degree (PhD/DPhil/MD)  ...   \n",
       "6811                    Doctorate degree (PhD/DPhil/MD)  ...   \n",
       "6812                    Doctorate degree (PhD/DPhil/MD)  ...   \n",
       "\n",
       "                                         Q59:4  \\\n",
       "0     Do you have any caring responsibilities?   \n",
       "1                                          NaN   \n",
       "2                                           No   \n",
       "3                                           No   \n",
       "4                                           No   \n",
       "...                                        ...   \n",
       "6808                                        No   \n",
       "6809                                        No   \n",
       "6810                                        No   \n",
       "6811                                        No   \n",
       "6812                                       NaN   \n",
       "\n",
       "                                         Q59:5                     Q59.a  \\\n",
       "0     Do you have any caring responsibilities?  If other, please specify   \n",
       "1                                          NaN                       NaN   \n",
       "2                                          NaN                       NaN   \n",
       "3                                          NaN                       NaN   \n",
       "4                                          NaN                       NaN   \n",
       "...                                        ...                       ...   \n",
       "6808                                       NaN                       NaN   \n",
       "6809                                       NaN                       NaN   \n",
       "6810                                       NaN                       NaN   \n",
       "6811                                       NaN                       NaN   \n",
       "6812                                       NaN                       NaN   \n",
       "\n",
       "                                                    Q60  \\\n",
       "0     Thank you for taking part in the survey. Are t...   \n",
       "1     Felicidades por esta encuesta. Pienso que se h...   \n",
       "2                                                   NaN   \n",
       "3                                                   NaN   \n",
       "4                                                   NaN   \n",
       "...                                                 ...   \n",
       "6808                                                NaN   \n",
       "6809                                                NaN   \n",
       "6810                                                NaN   \n",
       "6811                                                NaN   \n",
       "6812                                                NaN   \n",
       "\n",
       "                                                    Q61  \\\n",
       "0     Would you like to be entered into the prize dr...   \n",
       "1                                                   Yes   \n",
       "2                                                   Yes   \n",
       "3                                                   Yes   \n",
       "4                                                   Yes   \n",
       "...                                                 ...   \n",
       "6808                                                Yes   \n",
       "6809                                                Yes   \n",
       "6810                                                Yes   \n",
       "6811                                                Yes   \n",
       "6812                                                Yes   \n",
       "\n",
       "                                                    Q62  \\\n",
       "0     Nature may want to contact you again to ask fo...   \n",
       "1                                                   Yes   \n",
       "2                                                   Yes   \n",
       "3                                                   Yes   \n",
       "4                                                   Yes   \n",
       "...                                                 ...   \n",
       "6808                                                Yes   \n",
       "6809                                                Yes   \n",
       "6810                                                 No   \n",
       "6811                                                Yes   \n",
       "6812                                                Yes   \n",
       "\n",
       "                                                    Q63  \\\n",
       "0     Springer Nature is keen to update PhD students...   \n",
       "1     Yes, I would like Nature Careers to contact me...   \n",
       "2     Yes, I would like Nature Careers to contact me...   \n",
       "3                                                   NaN   \n",
       "4     Yes, I would like Nature Careers to contact me...   \n",
       "...                                                 ...   \n",
       "6808                                                NaN   \n",
       "6809  Yes, I would like Nature Careers to contact me...   \n",
       "6810                                                NaN   \n",
       "6811  Yes, I would like Nature Careers to contact me...   \n",
       "6812                                                NaN   \n",
       "\n",
       "                                                    Q64  Q65.a           Q65.b  \n",
       "0     Shift Learning carry out paid research in the ...  Name:  Email address:  \n",
       "1     Yes, I would like to join the Shift Learning r...      1             NaN  \n",
       "2     Yes, I would like to join the Shift Learning r...      2             NaN  \n",
       "3                                                   NaN      3             NaN  \n",
       "4     Yes, I would like to join the Shift Learning r...      4             NaN  \n",
       "...                                                 ...    ...             ...  \n",
       "6808                                                NaN   9835             NaN  \n",
       "6809  Yes, I would like to join the Shift Learning r...   9836             NaN  \n",
       "6810                                                NaN   9837             NaN  \n",
       "6811  Yes, I would like to join the Shift Learning r...   9838             NaN  \n",
       "6812                                                NaN   9839             NaN  \n",
       "\n",
       "[6813 rows x 274 columns]"
      ]
     },
     "execution_count": 3,
     "metadata": {},
     "output_type": "execute_result"
    }
   ],
   "source": [
    "df"
   ]
  },
  {
   "cell_type": "markdown",
   "metadata": {},
   "source": [
    "The first row is the questions."
   ]
  },
  {
   "cell_type": "code",
   "execution_count": 4,
   "metadata": {},
   "outputs": [
    {
     "data": {
      "text/plain": [
       "(6813, 274)"
      ]
     },
     "execution_count": 4,
     "metadata": {},
     "output_type": "execute_result"
    }
   ],
   "source": [
    "# check the size of the dataset\n",
    "df.shape"
   ]
  },
  {
   "cell_type": "markdown",
   "metadata": {},
   "source": [
    "The dataset has 6812 data points and 274 columns. There are a lot of columns so our main goal is to clean it up."
   ]
  },
  {
   "cell_type": "code",
   "execution_count": 5,
   "metadata": {},
   "outputs": [
    {
     "data": {
      "text/plain": [
       "['ID.format',\n",
       " 'ID.completed',\n",
       " 'ID.language',\n",
       " 'ID.site',\n",
       " 'ID.date',\n",
       " 'ID.start',\n",
       " 'ID.endDate',\n",
       " 'ID.end',\n",
       " 'ID.time',\n",
       " 'Q1',\n",
       " 'Q1.a',\n",
       " 'Q2',\n",
       " 'Q3',\n",
       " 'Q3.a',\n",
       " 'Q4',\n",
       " 'Q5',\n",
       " 'Q6',\n",
       " 'Q6.a',\n",
       " 'Q7',\n",
       " 'Q7.a',\n",
       " 'Q8',\n",
       " 'Q8.a',\n",
       " 'Q9',\n",
       " 'Q9.a',\n",
       " 'Q10',\n",
       " 'Q10.a',\n",
       " 'Q11',\n",
       " 'Q11.a',\n",
       " 'Q12:1',\n",
       " 'Q12:2',\n",
       " 'Q12:3',\n",
       " 'Q12:4',\n",
       " 'Q12:5',\n",
       " 'Q12:6',\n",
       " 'Q12:7',\n",
       " 'Q12:8',\n",
       " 'Q12:9',\n",
       " 'Q12:10',\n",
       " 'Q12:11',\n",
       " 'Q12.a',\n",
       " 'Q13',\n",
       " 'Q14',\n",
       " 'Q14.a',\n",
       " 'Q15.a',\n",
       " 'Q15.b',\n",
       " 'Q15.c',\n",
       " 'Q15.d',\n",
       " 'Q15.e',\n",
       " 'Q15.f',\n",
       " 'Q15.g',\n",
       " 'Q15.h',\n",
       " 'Q15.i',\n",
       " 'Q15.j',\n",
       " 'Q15.k',\n",
       " 'Q15.l',\n",
       " 'Q15.m',\n",
       " 'Q15.n',\n",
       " 'Q16',\n",
       " 'Q17',\n",
       " 'Q17.a',\n",
       " 'Q18.a',\n",
       " 'Q19.a',\n",
       " 'Q20',\n",
       " 'Q21.a',\n",
       " 'Q21.b',\n",
       " 'Q21.c',\n",
       " 'Q21.d',\n",
       " 'Q21.e',\n",
       " 'Q21.f',\n",
       " 'Q21.g',\n",
       " 'Q21.h',\n",
       " 'Q21.i',\n",
       " 'Q22.a',\n",
       " 'Q22.b',\n",
       " 'Q22.c',\n",
       " 'Q22.d',\n",
       " 'Q22.e',\n",
       " 'Q22.f',\n",
       " 'Q22.g',\n",
       " 'Q22.h',\n",
       " 'Q22.i',\n",
       " 'Q23',\n",
       " 'Q24',\n",
       " 'Q25',\n",
       " 'Q25.a',\n",
       " 'Q26',\n",
       " 'Q27.a',\n",
       " 'Q27.b',\n",
       " 'Q27.c',\n",
       " 'Q27.d',\n",
       " 'Q27.e',\n",
       " 'Q27.f',\n",
       " 'Q28',\n",
       " 'Q29',\n",
       " 'Q29.a',\n",
       " 'Q30.a',\n",
       " 'Q30.b',\n",
       " 'Q30.c',\n",
       " 'Q30.d',\n",
       " 'Q30.e',\n",
       " 'Q30.f',\n",
       " 'Q31',\n",
       " 'Q32:1',\n",
       " 'Q32:2',\n",
       " 'Q32:3',\n",
       " 'Q32:4',\n",
       " 'Q32:5',\n",
       " 'Q32:6',\n",
       " 'Q32:7',\n",
       " 'Q32.a',\n",
       " 'Q33',\n",
       " 'Q34',\n",
       " 'Q35:1',\n",
       " 'Q35:2',\n",
       " 'Q35:3',\n",
       " 'Q35:4',\n",
       " 'Q35:5',\n",
       " 'Q35:6',\n",
       " 'Q35:7',\n",
       " 'Q35:8',\n",
       " 'Q35:9',\n",
       " 'Q35.a',\n",
       " 'Q36.a',\n",
       " 'Q37.a',\n",
       " 'Q37.b',\n",
       " 'Q37.c',\n",
       " 'Q37.d',\n",
       " 'Q37.e',\n",
       " 'Q38.a',\n",
       " 'Q38.b',\n",
       " 'Q38.c',\n",
       " 'Q38.d',\n",
       " 'Q38.e',\n",
       " 'Q38.f',\n",
       " 'Q38.g',\n",
       " 'Q39:1',\n",
       " 'Q39:2',\n",
       " 'Q39:3',\n",
       " 'Q39:4',\n",
       " 'Q39:5',\n",
       " 'Q39:6',\n",
       " 'Q39:7',\n",
       " 'Q39:8',\n",
       " 'Q39:9',\n",
       " 'Q39.a',\n",
       " 'Q40',\n",
       " 'Q40.a',\n",
       " 'Q41',\n",
       " 'Q42',\n",
       " 'Q43.a',\n",
       " 'Q44',\n",
       " 'Q44.a',\n",
       " 'Q45:1',\n",
       " 'Q45:2',\n",
       " 'Q45:3',\n",
       " 'Q45:4',\n",
       " 'Q45:5',\n",
       " 'Q45:6',\n",
       " 'Q45:7',\n",
       " 'Q45:8',\n",
       " 'Q45:9',\n",
       " 'Q45:10',\n",
       " 'Q45:11',\n",
       " 'Q45.a',\n",
       " 'Q46:1',\n",
       " 'Q46:2',\n",
       " 'Q46:3',\n",
       " 'Q46:4',\n",
       " 'Q46:5',\n",
       " 'Q46:6',\n",
       " 'Q46:7',\n",
       " 'Q46:8',\n",
       " 'Q46:9',\n",
       " 'Q46:10',\n",
       " 'Q46:11',\n",
       " 'Q46:12',\n",
       " 'Q46:13',\n",
       " 'Q46:14',\n",
       " 'Q46.a',\n",
       " 'Q47:1',\n",
       " 'Q47:2',\n",
       " 'Q47:3',\n",
       " 'Q47:4',\n",
       " 'Q47:5',\n",
       " 'Q47:6',\n",
       " 'Q47:7',\n",
       " 'Q47:8',\n",
       " 'Q47:9',\n",
       " 'Q47.a',\n",
       " 'Q48:1',\n",
       " 'Q48:2',\n",
       " 'Q48:3',\n",
       " 'Q48:4',\n",
       " 'Q48:5',\n",
       " 'Q48:6',\n",
       " 'Q48:7',\n",
       " 'Q48.a',\n",
       " 'Q49:1',\n",
       " 'Q49:2',\n",
       " 'Q49:3',\n",
       " 'Q49:4',\n",
       " 'Q49:5',\n",
       " 'Q49:6',\n",
       " 'Q49:7',\n",
       " 'Q49:8',\n",
       " 'Q49.a',\n",
       " 'Q50.a',\n",
       " 'Q50.b',\n",
       " 'Q50.c',\n",
       " 'Q50.d',\n",
       " 'Q50.e',\n",
       " 'Q50.f',\n",
       " 'Q50.g',\n",
       " 'Q50.h',\n",
       " 'Q50.i',\n",
       " 'Q50.j',\n",
       " 'Q50.k',\n",
       " 'Q50.l',\n",
       " 'Q50.m',\n",
       " 'Q51.a',\n",
       " 'Q51.b',\n",
       " 'Q51.c',\n",
       " 'Q52:1',\n",
       " 'Q52:2',\n",
       " 'Q52:3',\n",
       " 'Q52:4',\n",
       " 'Q52:5',\n",
       " 'Q52:6',\n",
       " 'Q52:7',\n",
       " 'Q52:8',\n",
       " 'Q52.a',\n",
       " 'Q53:1',\n",
       " 'Q53:2',\n",
       " 'Q53:3',\n",
       " 'Q53:4',\n",
       " 'Q53:5',\n",
       " 'Q53:6',\n",
       " 'Q53:7',\n",
       " 'Q53.a',\n",
       " 'Q54:1',\n",
       " 'Q54:2',\n",
       " 'Q54:3',\n",
       " 'Q54:4',\n",
       " 'Q54:5',\n",
       " 'Q54.a',\n",
       " 'Q55',\n",
       " 'Q56',\n",
       " 'Q57',\n",
       " 'Q58:1',\n",
       " 'Q58:2',\n",
       " 'Q58:3',\n",
       " 'Q58:4',\n",
       " 'Q58:5',\n",
       " 'Q58:6',\n",
       " 'Q58:7',\n",
       " 'Q58:8',\n",
       " 'Q58:9',\n",
       " 'Q58:10',\n",
       " 'Q58:11',\n",
       " 'Q58:12',\n",
       " 'Q58.a',\n",
       " 'Q59:1',\n",
       " 'Q59:2',\n",
       " 'Q59:3',\n",
       " 'Q59:4',\n",
       " 'Q59:5',\n",
       " 'Q59.a',\n",
       " 'Q60',\n",
       " 'Q61',\n",
       " 'Q62',\n",
       " 'Q63',\n",
       " 'Q64',\n",
       " 'Q65.a',\n",
       " 'Q65.b']"
      ]
     },
     "execution_count": 5,
     "metadata": {},
     "output_type": "execute_result"
    }
   ],
   "source": [
    "# check column names\n",
    "list(df.columns)"
   ]
  },
  {
   "cell_type": "markdown",
   "metadata": {},
   "source": [
    "Questions start from the 10th column."
   ]
  },
  {
   "cell_type": "code",
   "execution_count": 6,
   "metadata": {},
   "outputs": [
    {
     "name": "stdout",
     "output_type": "stream",
     "text": [
      "********\n",
      "Q1\n",
      "Which, if any, of the following degrees are you currently studying for?\n",
      "********\n",
      "Q1.a\n",
      "If other, please specify\n",
      "********\n",
      "Q2\n",
      "Hidden\n",
      "********\n",
      "Q3\n",
      "Which was the most important reason you decided to enrol in a PhD programme?\n",
      "********\n",
      "Q3.a\n",
      "If other, please specify\n",
      "********\n",
      "Q4\n",
      "Are you studying in the country you grew up in?   \n",
      "********\n",
      "Q5\n",
      "Where do you currently live?\n",
      "********\n",
      "Q6\n",
      "Which region in Asia?\n",
      "********\n",
      "Q6.a\n",
      "If other, please specify\n",
      "********\n",
      "Q7\n",
      "Which country in Australasia?\n",
      "********\n",
      "Q7.a\n",
      "If other, please specify\n",
      "********\n",
      "Q8\n",
      "Which country in Africa?\n",
      "********\n",
      "Q8.a\n",
      "If other, please specify\n",
      "********\n",
      "Q9\n",
      "Which country in Europe?\n",
      "********\n",
      "Q9.a\n",
      "If other, please specify\n",
      "********\n",
      "Q10\n",
      "Which country in North or Central America?\n",
      "********\n",
      "Q10.a\n",
      "If other, please specify\n",
      "********\n",
      "Q11\n",
      "Which country in South America?\n",
      "********\n",
      "Q11.a\n",
      "If other, please specify\n",
      "********\n",
      "Q12:1\n",
      "What prompted you to study outside your country of upbringing? \n",
      "********\n",
      "Q12:2\n",
      "What prompted you to study outside your country of upbringing? \n",
      "********\n",
      "Q12:3\n",
      "What prompted you to study outside your country of upbringing? \n",
      "********\n",
      "Q12:4\n",
      "What prompted you to study outside your country of upbringing? \n",
      "********\n",
      "Q12:5\n",
      "What prompted you to study outside your country of upbringing? \n",
      "********\n",
      "Q12:6\n",
      "What prompted you to study outside your country of upbringing? \n",
      "********\n",
      "Q12:7\n",
      "What prompted you to study outside your country of upbringing? \n",
      "********\n",
      "Q12:8\n",
      "What prompted you to study outside your country of upbringing? \n",
      "********\n",
      "Q12:9\n",
      "What prompted you to study outside your country of upbringing? \n",
      "********\n",
      "Q12:10\n",
      "What prompted you to study outside your country of upbringing? \n",
      "********\n",
      "Q12:11\n",
      "What prompted you to study outside your country of upbringing? \n",
      "********\n",
      "Q12.a\n",
      "If other, please specify\n",
      "********\n",
      "Q13\n",
      "Do you have a job alongside your studies?\n",
      "********\n",
      "Q14\n",
      "What is your main reason for having a job?\n",
      "********\n",
      "Q14.a\n",
      "If other, please specify\n",
      "********\n",
      "Q15.a\n",
      "The difficulty of getting funding / low success rates for grant applications\n",
      "********\n",
      "Q15.b\n",
      "Inability to finish my studies in the time period I had set out to \n",
      "********\n",
      "Q15.c\n",
      "Impact of a poor relationship with my supervisor/PI\n",
      "********\n",
      "Q15.d\n",
      "The number of available faculty research jobs beyond postdoc\n",
      "********\n",
      "Q15.e\n",
      "The high numbers of PhD holders who are doing or have done multiple postdocs\n",
      "********\n",
      "Q15.f\n",
      "The difficulty of maintaining a work/life balance\n",
      "********\n",
      "Q15.g\n",
      "Uncertainty about the value of a PhD\n",
      "********\n",
      "Q15.h\n",
      "Uncertainty about my job/career prospects\n",
      "********\n",
      "Q15.i\n",
      "Student debt during my PhD\n",
      "********\n",
      "Q15.j\n",
      "Financial worries after my PhD (cost of living, inability to save for a house, children, retirement)\n",
      "********\n",
      "Q15.k\n",
      "Political landscape \n",
      "********\n",
      "Q15.l\n",
      "Impostor syndrome\n",
      "********\n",
      "Q15.m\n",
      "Concern about my mental health as a result of PhD study\n",
      "********\n",
      "Q15.n\n",
      "Poor support and acknowledgement of my parenting/elder care responsibilities \n",
      "********\n",
      "Q16\n",
      "Is there anything else not mentioned that has concerned you since you started your PhD? \n",
      "********\n",
      "Q17\n",
      "Overall, what do you enjoy most about life as a PhD student?       \n",
      "********\n",
      "Q17.a\n",
      "If other, please specify\n",
      "********\n",
      "Q18.a\n",
      "How satisfied are you with your decision to pursue a PhD?\n",
      "********\n",
      "Q19.a\n",
      "How satisfied are you with your PhD experience?\n",
      "********\n",
      "Q20\n",
      "Since the very start of your graduate school experience, would you say your level of satisfaction has:\n",
      "********\n",
      "Q21.a\n",
      "Availability of funding\n",
      "********\n",
      "Q21.b\n",
      "Hours worked\n",
      "********\n",
      "Q21.c\n",
      "Social environment\n",
      "********\n",
      "Q21.d\n",
      "Degree of independence\n",
      "********\n",
      "Q21.e\n",
      "Recognition from supervisor/PI \n",
      "********\n",
      "Q21.f\n",
      "Overall relationship with supervisor/PI\n",
      "********\n",
      "Q21.g\n",
      "Opportunities to collaborate\n",
      "********\n",
      "Q21.h\n",
      "Number of publications\n",
      "********\n",
      "Q21.i\n",
      "Stipend / financial support\n",
      "********\n",
      "Q22.a\n",
      "Vacation time\n",
      "********\n",
      "Q22.b\n",
      "Benefits (health care, leave, etc.)\n",
      "********\n",
      "Q22.c\n",
      "Teaching duties\n",
      "********\n",
      "Q22.d\n",
      "Guidance received from adviser in lab/research\n",
      "********\n",
      "Q22.e\n",
      "Guidance received from other mentors in lab/research\n",
      "********\n",
      "Q22.f\n",
      "Ability to attend meetings and conferences\n",
      "********\n",
      "Q22.g\n",
      "Ability to present research at conferences\n",
      "********\n",
      "Q22.h\n",
      "Work-life balance\n",
      "********\n",
      "Q22.i\n",
      "Career pathway guidance and advice\n",
      "********\n",
      "Q23\n",
      "To what extent does your PhD programme compare to your original expectations?\n",
      "********\n",
      "Q24\n",
      "On average, how many hours a week do you typically spend on your PhD programme?\n",
      "********\n",
      "Q25\n",
      "On average, how much one-on-one contact time do you spend with your supervisor each week?\n",
      "********\n",
      "Q25.a\n",
      "If other, please specify\n",
      "********\n",
      "Q26\n",
      "Overall, how would you describe the academic system, based on your PhD experience so far? \n",
      "********\n",
      "Q27.a\n",
      "Members of my department make time for frank conversations about my career\n",
      "********\n",
      "Q27.b\n",
      "Members of my department are open to the idea of me pursuing a career outside academia\n",
      "********\n",
      "Q27.c\n",
      "Members of my department have useful advice for careers outside academia\n",
      "********\n",
      "Q27.d\n",
      "Members of my department have contacted potential employers on my behalf\n",
      "********\n",
      "Q27.e\n",
      "Members of my department have encouraged me to attend career-promoting training and events\n",
      "********\n",
      "Q27.f\n",
      "Members of my department have discouraged me from attending career-promoting training and events\n",
      "********\n",
      "Q28\n",
      "Have you ever sought help for anxiety or depression caused by PhD study?\n",
      "********\n",
      "Q29\n",
      "Did you seek help for anxiety or depression within your institution? \n",
      "********\n",
      "Q29.a\n",
      "If other, please specify\n",
      "********\n",
      "Q30.a\n",
      "Mental health and wellbeing services in my university are tailored and appropriate to the needs of PhD students\n",
      "********\n",
      "Q30.b\n",
      "My supervisor/PI has a good awareness of support services and was able to signpost me to them if needed\n",
      "********\n",
      "Q30.c\n",
      "My university offers adequate one-to-one mental health support\n",
      "********\n",
      "Q30.d\n",
      "My university offers  different types of support to promote mental health and wellbeing beyond one-to-one support (e.g. workshops, seminars, activities)\n",
      "********\n",
      "Q30.e\n",
      "My university supports good work-life balance\n",
      "********\n",
      "Q30.f\n",
      "There is a long-hours culture at my university, including sometimes working through the night\n",
      "********\n",
      "Q31\n",
      "Do you feel that you have experienced bullying in your PhD program?\n",
      "********\n",
      "Q32:1\n",
      "Who was the perpetrator(s)?\n",
      "********\n",
      "Q32:2\n",
      "Who was the perpetrator(s)?\n",
      "********\n",
      "Q32:3\n",
      "Who was the perpetrator(s)?\n",
      "********\n",
      "Q32:4\n",
      "Who was the perpetrator(s)?\n",
      "********\n",
      "Q32:5\n",
      "Who was the perpetrator(s)?\n",
      "********\n",
      "Q32:6\n",
      "Who was the perpetrator(s)?\n",
      "********\n",
      "Q32:7\n",
      "Who was the perpetrator(s)?\n",
      "********\n",
      "Q32.a\n",
      "If other, please specify\n",
      "********\n",
      "Q33\n",
      "Do you feel able to speak out about your experiences of bullying without personal repercussions?\n",
      "********\n",
      "Q34\n",
      "Do you feel that you have experienced discrimination or harassment in your PhD program?\n",
      "********\n",
      "Q35:1\n",
      "Which of the following have you experienced? \n",
      "********\n",
      "Q35:2\n",
      "Which of the following have you experienced? \n",
      "********\n",
      "Q35:3\n",
      "Which of the following have you experienced? \n",
      "********\n",
      "Q35:4\n",
      "Which of the following have you experienced? \n",
      "********\n",
      "Q35:5\n",
      "Which of the following have you experienced? \n",
      "********\n",
      "Q35:6\n",
      "Which of the following have you experienced? \n",
      "********\n",
      "Q35:7\n",
      "Which of the following have you experienced? \n",
      "********\n",
      "Q35:8\n",
      "Which of the following have you experienced? \n",
      "********\n",
      "Q35:9\n",
      "Which of the following have you experienced? \n",
      "********\n",
      "Q35.a\n",
      "If other, please specify\n",
      "********\n",
      "Q36.a\n",
      "nan\n",
      "********\n",
      "Q37.a\n",
      "Academia\n",
      "********\n",
      "Q37.b\n",
      "Industry\n",
      "********\n",
      "Q37.c\n",
      "Government\n",
      "********\n",
      "Q37.d\n",
      "Non-profit\n",
      "********\n",
      "Q37.e\n",
      "Medical\n",
      "********\n",
      "Q38.a\n",
      "Research in academia \n",
      "********\n",
      "Q38.b\n",
      "Research in industry\n",
      "********\n",
      "Q38.c\n",
      "Research within government or non-profit\n",
      "********\n",
      "Q38.d\n",
      "Non-research in academia\n",
      "********\n",
      "Q38.e\n",
      "Medical research\n",
      "********\n",
      "Q38.f\n",
      "Non-research in industry\n",
      "********\n",
      "Q38.g\n",
      "Non-research in government or non-profit\n",
      "********\n",
      "Q39:1\n",
      "If you’re unlikely to pursue an academic research career, what are the main reasons? \n",
      "********\n",
      "Q39:2\n",
      "If you’re unlikely to pursue an academic research career, what are the main reasons? \n",
      "********\n",
      "Q39:3\n",
      "If you’re unlikely to pursue an academic research career, what are the main reasons? \n",
      "********\n",
      "Q39:4\n",
      "If you’re unlikely to pursue an academic research career, what are the main reasons? \n",
      "********\n",
      "Q39:5\n",
      "If you’re unlikely to pursue an academic research career, what are the main reasons? \n",
      "********\n",
      "Q39:6\n",
      "If you’re unlikely to pursue an academic research career, what are the main reasons? \n",
      "********\n",
      "Q39:7\n",
      "If you’re unlikely to pursue an academic research career, what are the main reasons? \n",
      "********\n",
      "Q39:8\n",
      "If you’re unlikely to pursue an academic research career, what are the main reasons? \n",
      "********\n",
      "Q39:9\n",
      "If you’re unlikely to pursue an academic research career, what are the main reasons? \n",
      "********\n",
      "Q39.a\n",
      "If other, please specify\n",
      "********\n",
      "Q40\n",
      "What position do you most expect to occupy immediately after you complete your degree?\n",
      "********\n",
      "Q40.a\n",
      "If other, please specify\n",
      "********\n",
      "Q41\n",
      "What type of career you are interested in pursuing after your graduate degree?\n",
      "********\n",
      "Q42\n",
      "After completing your PhD, how long do you think it will take you to find a permanent (non-trainee) position?\n",
      "********\n",
      "Q43.a\n",
      "How much more likely are you now to pursue a research career than when you launched your PhD programme?\n",
      "********\n",
      "Q44\n",
      "What is the main reason why you are more likely to pursue a research career? \n",
      "********\n",
      "Q44.a\n",
      "If other, please specify\n",
      "********\n",
      "Q45:1\n",
      "How did you arrive at your current career decision?  Plea...\n",
      "********\n",
      "Q45:2\n",
      "How did you arrive at your current career decision?  Plea...\n",
      "********\n",
      "Q45:3\n",
      "How did you arrive at your current career decision?  Plea...\n",
      "********\n",
      "Q45:4\n",
      "How did you arrive at your current career decision?  Plea...\n",
      "********\n",
      "Q45:5\n",
      "How did you arrive at your current career decision?  Plea...\n",
      "********\n",
      "Q45:6\n",
      "How did you arrive at your current career decision?  Plea...\n",
      "********\n",
      "Q45:7\n",
      "How did you arrive at your current career decision?  Plea...\n",
      "********\n",
      "Q45:8\n",
      "How did you arrive at your current career decision?  Plea...\n",
      "********\n",
      "Q45:9\n",
      "How did you arrive at your current career decision?  Plea...\n",
      "********\n",
      "Q45:10\n",
      "How did you arrive at your current career decision?  Plea...\n",
      "********\n",
      "Q45:11\n",
      "How did you arrive at your current career decision?  Plea...\n",
      "********\n",
      "Q45.a\n",
      "If other, please specify\n",
      "********\n",
      "Q46:1\n",
      "How do you learn about available career opportunities that are beyond academia?\n",
      "********\n",
      "Q46:2\n",
      "How do you learn about available career opportunities that are beyond academia?\n",
      "********\n",
      "Q46:3\n",
      "How do you learn about available career opportunities that are beyond academia?\n",
      "********\n",
      "Q46:4\n",
      "How do you learn about available career opportunities that are beyond academia?\n",
      "********\n",
      "Q46:5\n",
      "How do you learn about available career opportunities that are beyond academia?\n",
      "********\n",
      "Q46:6\n",
      "How do you learn about available career opportunities that are beyond academia?\n",
      "********\n",
      "Q46:7\n",
      "How do you learn about available career opportunities that are beyond academia?\n",
      "********\n",
      "Q46:8\n",
      "How do you learn about available career opportunities that are beyond academia?\n",
      "********\n",
      "Q46:9\n",
      "How do you learn about available career opportunities that are beyond academia?\n",
      "********\n",
      "Q46:10\n",
      "How do you learn about available career opportunities that are beyond academia?\n",
      "********\n",
      "Q46:11\n",
      "How do you learn about available career opportunities that are beyond academia?\n",
      "********\n",
      "Q46:12\n",
      "How do you learn about available career opportunities that are beyond academia?\n",
      "********\n",
      "Q46:13\n",
      "How do you learn about available career opportunities that are beyond academia?\n",
      "********\n",
      "Q46:14\n",
      "How do you learn about available career opportunities that are beyond academia?\n",
      "********\n",
      "Q46.a\n",
      "If other, please specify\n",
      "********\n",
      "Q47:1\n",
      "Which of the following 3 things would you say are the most difficult for PhD students in your discipline?  \n",
      "********\n",
      "Q47:2\n",
      "Which of the following 3 things would you say are the most difficult for PhD students in your discipline?  \n",
      "********\n",
      "Q47:3\n",
      "Which of the following 3 things would you say are the most difficult for PhD students in your discipline?  \n",
      "********\n",
      "Q47:4\n",
      "Which of the following 3 things would you say are the most difficult for PhD students in your discipline?  \n",
      "********\n",
      "Q47:5\n",
      "Which of the following 3 things would you say are the most difficult for PhD students in your discipline?  \n",
      "********\n",
      "Q47:6\n",
      "Which of the following 3 things would you say are the most difficult for PhD students in your discipline?  \n",
      "********\n",
      "Q47:7\n",
      "Which of the following 3 things would you say are the most difficult for PhD students in your discipline?  \n",
      "********\n",
      "Q47:8\n",
      "Which of the following 3 things would you say are the most difficult for PhD students in your discipline?  \n",
      "********\n",
      "Q47:9\n",
      "Which of the following 3 things would you say are the most difficult for PhD students in your discipline?  \n",
      "********\n",
      "Q47.a\n",
      "If other, please specify\n",
      "********\n",
      "Q48:1\n",
      "Which of the following would you say are the most difficult for PhD students in the country where you are studying?\n",
      "********\n",
      "Q48:2\n",
      "Which of the following would you say are the most difficult for PhD students in the country where you are studying?\n",
      "********\n",
      "Q48:3\n",
      "Which of the following would you say are the most difficult for PhD students in the country where you are studying?\n",
      "********\n",
      "Q48:4\n",
      "Which of the following would you say are the most difficult for PhD students in the country where you are studying?\n",
      "********\n",
      "Q48:5\n",
      "Which of the following would you say are the most difficult for PhD students in the country where you are studying?\n",
      "********\n",
      "Q48:6\n",
      "Which of the following would you say are the most difficult for PhD students in the country where you are studying?\n",
      "********\n",
      "Q48:7\n",
      "Which of the following would you say are the most difficult for PhD students in the country where you are studying?\n",
      "********\n",
      "Q48.a\n",
      "If other, please specify\n",
      "********\n",
      "Q49:1\n",
      "Which of the following resources do you think PhD students need the most in order to establish a satisfying career? \n",
      "********\n",
      "Q49:2\n",
      "Which of the following resources do you think PhD students need the most in order to establish a satisfying career? \n",
      "********\n",
      "Q49:3\n",
      "Which of the following resources do you think PhD students need the most in order to establish a satisfying career? \n",
      "********\n",
      "Q49:4\n",
      "Which of the following resources do you think PhD students need the most in order to establish a satisfying career? \n",
      "********\n",
      "Q49:5\n",
      "Which of the following resources do you think PhD students need the most in order to establish a satisfying career? \n",
      "********\n",
      "Q49:6\n",
      "Which of the following resources do you think PhD students need the most in order to establish a satisfying career? \n",
      "********\n",
      "Q49:7\n",
      "Which of the following resources do you think PhD students need the most in order to establish a satisfying career? \n",
      "********\n",
      "Q49:8\n",
      "Which of the following resources do you think PhD students need the most in order to establish a satisfying career? \n",
      "********\n",
      "Q49.a\n",
      "If other, please specify\n",
      "********\n",
      "Q50.a\n",
      "Collecting data\n",
      "********\n",
      "Q50.b\n",
      "Analysing data\n",
      "********\n",
      "Q50.c\n",
      "Designing robust reproducible experiments\n",
      "********\n",
      "Q50.d\n",
      "Writing a paper for publication in a peer-reviewed journal\n",
      "********\n",
      "Q50.e\n",
      "Developing  resilience to manage rejection by a peer review panel\n",
      "********\n",
      "Q50.f\n",
      "Presenting findings to a specialist audience\n",
      "********\n",
      "Q50.g\n",
      "Presenting findings to a non-specialist (public) audience\n",
      "********\n",
      "Q50.h\n",
      "Applying for funding\n",
      "********\n",
      "Q50.i\n",
      "Finding a satisfying career\n",
      "********\n",
      "Q50.j\n",
      "Managing complex projects\n",
      "********\n",
      "Q50.k\n",
      "Developing a business plan\n",
      "********\n",
      "Q50.l\n",
      "Managing people\n",
      "********\n",
      "Q50.m\n",
      "Managing a large operational budget\n",
      "********\n",
      "Q51.a\n",
      "I feel that my programme is preparing me well for a research career\n",
      "********\n",
      "Q51.b\n",
      "I feel that my programme is preparing me well for a non-research science-related career \n",
      "********\n",
      "Q51.c\n",
      "I feel that my programme is preparing me well for a career that straddles both industry and academia\n",
      "********\n",
      "Q52:1\n",
      "Which, if any, of the following activities have you done to advance your career? \n",
      "********\n",
      "Q52:2\n",
      "Which, if any, of the following activities have you done to advance your career? \n",
      "********\n",
      "Q52:3\n",
      "Which, if any, of the following activities have you done to advance your career? \n",
      "********\n",
      "Q52:4\n",
      "Which, if any, of the following activities have you done to advance your career? \n",
      "********\n",
      "Q52:5\n",
      "Which, if any, of the following activities have you done to advance your career? \n",
      "********\n",
      "Q52:6\n",
      "Which, if any, of the following activities have you done to advance your career? \n",
      "********\n",
      "Q52:7\n",
      "Which, if any, of the following activities have you done to advance your career? \n",
      "********\n",
      "Q52:8\n",
      "Which, if any, of the following activities have you done to advance your career? \n",
      "********\n",
      "Q52.a\n",
      "If other, please specify\n",
      "********\n",
      "Q53:1\n",
      "Which of the following social media networks have you used to build your professional network? \n",
      "********\n",
      "Q53:2\n",
      "Which of the following social media networks have you used to build your professional network? \n",
      "********\n",
      "Q53:3\n",
      "Which of the following social media networks have you used to build your professional network? \n",
      "********\n",
      "Q53:4\n",
      "Which of the following social media networks have you used to build your professional network? \n",
      "********\n",
      "Q53:5\n",
      "Which of the following social media networks have you used to build your professional network? \n",
      "********\n",
      "Q53:6\n",
      "Which of the following social media networks have you used to build your professional network? \n",
      "********\n",
      "Q53:7\n",
      "Which of the following social media networks have you used to build your professional network? \n",
      "********\n",
      "Q53.a\n",
      "If other, please specify\n",
      "********\n",
      "Q54:1\n",
      "What would you do differently right now if you were starting your programme? \n",
      "********\n",
      "Q54:2\n",
      "What would you do differently right now if you were starting your programme? \n",
      "********\n",
      "Q54:3\n",
      "What would you do differently right now if you were starting your programme? \n",
      "********\n",
      "Q54:4\n",
      "What would you do differently right now if you were starting your programme? \n",
      "********\n",
      "Q54:5\n",
      "What would you do differently right now if you were starting your programme? \n",
      "********\n",
      "Q54.a\n",
      "If other, please specify\n",
      "********\n",
      "Q55\n",
      "With the benefit of hindsight, what one thing do you know now which you wish you’d known about when you started your PhD?\n",
      "********\n",
      "Q56\n",
      "What is your age?\n",
      "********\n",
      "Q57\n",
      "Are you…\n",
      "********\n",
      "Q58:1\n",
      "Which of the following best describes you?\n",
      "********\n",
      "Q58:2\n",
      "Which of the following best describes you?\n",
      "********\n",
      "Q58:3\n",
      "Which of the following best describes you?\n",
      "********\n",
      "Q58:4\n",
      "Which of the following best describes you?\n",
      "********\n",
      "Q58:5\n",
      "Which of the following best describes you?\n",
      "********\n",
      "Q58:6\n",
      "Which of the following best describes you?\n",
      "********\n",
      "Q58:7\n",
      "Which of the following best describes you?\n",
      "********\n",
      "Q58:8\n",
      "Which of the following best describes you?\n",
      "********\n",
      "Q58:9\n",
      "Which of the following best describes you?\n",
      "********\n",
      "Q58:10\n",
      "Which of the following best describes you?\n",
      "********\n",
      "Q58:11\n",
      "Which of the following best describes you?\n",
      "********\n",
      "Q58:12\n",
      "Which of the following best describes you?\n",
      "********\n",
      "Q58.a\n",
      "If other, please specify\n",
      "********\n",
      "Q59:1\n",
      "Do you have any caring responsibilities?\n",
      "********\n",
      "Q59:2\n",
      "Do you have any caring responsibilities?\n",
      "********\n",
      "Q59:3\n",
      "Do you have any caring responsibilities?\n",
      "********\n",
      "Q59:4\n",
      "Do you have any caring responsibilities?\n",
      "********\n",
      "Q59:5\n",
      "Do you have any caring responsibilities?\n",
      "********\n",
      "Q59.a\n",
      "If other, please specify\n",
      "********\n",
      "Q60\n",
      "Thank you for taking part in the survey. Are there any mo...\n",
      "********\n",
      "Q61\n",
      "Would you like to be entered into the prize draw to win G...\n",
      "********\n",
      "Q62\n",
      "Nature may want to contact you again to ask for more info...\n",
      "********\n",
      "Q63\n",
      "Springer Nature is keen to update PhD students with advic...\n",
      "********\n",
      "Q64\n",
      "Shift Learning carry out paid research in the education s...\n",
      "********\n",
      "Q65.a\n",
      "Name:\n",
      "********\n",
      "Q65.b\n",
      "Email address:\n"
     ]
    }
   ],
   "source": [
    "# print out a list of the questions\n",
    "question_list=list(df.columns)[9:]\n",
    "for q in question_list:\n",
    "    print('********')\n",
    "    print(q)\n",
    "    print(df[q][0])"
   ]
  },
  {
   "cell_type": "markdown",
   "metadata": {},
   "source": [
    "#### Target"
   ]
  },
  {
   "cell_type": "markdown",
   "metadata": {},
   "source": [
    "Our target column is Q28"
   ]
  },
  {
   "cell_type": "code",
   "execution_count": 7,
   "metadata": {},
   "outputs": [
    {
     "data": {
      "text/plain": [
       "No                                                                          4083\n",
       "Yes                                                                         2429\n",
       "Prefer not to say                                                            292\n",
       "Have you ever sought help for anxiety or depression caused by PhD study?       1\n",
       "Name: Q28, dtype: int64"
      ]
     },
     "execution_count": 7,
     "metadata": {},
     "output_type": "execute_result"
    }
   ],
   "source": [
    "# check values for target\n",
    "df['Q28'].value_counts()"
   ]
  },
  {
   "cell_type": "code",
   "execution_count": 8,
   "metadata": {},
   "outputs": [
    {
     "data": {
      "text/plain": [
       "No                                                                          0.600000\n",
       "Yes                                                                         0.356943\n",
       "Prefer not to say                                                           0.042910\n",
       "Have you ever sought help for anxiety or depression caused by PhD study?    0.000147\n",
       "Name: Q28, dtype: float64"
      ]
     },
     "execution_count": 8,
     "metadata": {},
     "output_type": "execute_result"
    }
   ],
   "source": [
    "df['Q28'].value_counts(normalize=True)"
   ]
  },
  {
   "cell_type": "markdown",
   "metadata": {},
   "source": [
    "There are 4083 Nos and 2429 Yeses. There's a little bit of class imbalance, but not too bad."
   ]
  },
  {
   "cell_type": "code",
   "execution_count": 9,
   "metadata": {},
   "outputs": [
    {
     "data": {
      "text/plain": [
       "8"
      ]
     },
     "execution_count": 9,
     "metadata": {},
     "output_type": "execute_result"
    }
   ],
   "source": [
    "# check null values\n",
    "df['Q28'].isna().sum()"
   ]
  },
  {
   "cell_type": "markdown",
   "metadata": {},
   "source": [
    "There are not many \"prefer not to say\"s or null values, so we can safely drop them."
   ]
  },
  {
   "cell_type": "code",
   "execution_count": 10,
   "metadata": {},
   "outputs": [
    {
     "data": {
      "text/html": [
       "<div>\n",
       "<style scoped>\n",
       "    .dataframe tbody tr th:only-of-type {\n",
       "        vertical-align: middle;\n",
       "    }\n",
       "\n",
       "    .dataframe tbody tr th {\n",
       "        vertical-align: top;\n",
       "    }\n",
       "\n",
       "    .dataframe thead th {\n",
       "        text-align: right;\n",
       "    }\n",
       "</style>\n",
       "<table border=\"1\" class=\"dataframe\">\n",
       "  <thead>\n",
       "    <tr style=\"text-align: right;\">\n",
       "      <th></th>\n",
       "      <th>ID.format</th>\n",
       "      <th>ID.completed</th>\n",
       "      <th>ID.language</th>\n",
       "      <th>ID.site</th>\n",
       "      <th>ID.date</th>\n",
       "      <th>ID.start</th>\n",
       "      <th>ID.endDate</th>\n",
       "      <th>ID.end</th>\n",
       "      <th>ID.time</th>\n",
       "      <th>Q1</th>\n",
       "      <th>...</th>\n",
       "      <th>Q59:4</th>\n",
       "      <th>Q59:5</th>\n",
       "      <th>Q59.a</th>\n",
       "      <th>Q60</th>\n",
       "      <th>Q61</th>\n",
       "      <th>Q62</th>\n",
       "      <th>Q63</th>\n",
       "      <th>Q64</th>\n",
       "      <th>Q65.a</th>\n",
       "      <th>Q65.b</th>\n",
       "    </tr>\n",
       "  </thead>\n",
       "  <tbody>\n",
       "    <tr>\n",
       "      <th>0</th>\n",
       "      <td>The published format which was employed</td>\n",
       "      <td>Case completed in Snap Interviewer</td>\n",
       "      <td>What language would you like to complete the s...</td>\n",
       "      <td>Questionnaire location</td>\n",
       "      <td>Date of interview</td>\n",
       "      <td>Time interview started</td>\n",
       "      <td>Completion date of interview</td>\n",
       "      <td>Time interview ended</td>\n",
       "      <td>Duration of interview</td>\n",
       "      <td>Which, if any, of the following degrees are yo...</td>\n",
       "      <td>...</td>\n",
       "      <td>Do you have any caring responsibilities?</td>\n",
       "      <td>Do you have any caring responsibilities?</td>\n",
       "      <td>If other, please specify</td>\n",
       "      <td>Thank you for taking part in the survey. Are t...</td>\n",
       "      <td>Would you like to be entered into the prize dr...</td>\n",
       "      <td>Nature may want to contact you again to ask fo...</td>\n",
       "      <td>Springer Nature is keen to update PhD students...</td>\n",
       "      <td>Shift Learning carry out paid research in the ...</td>\n",
       "      <td>Name:</td>\n",
       "      <td>Email address:</td>\n",
       "    </tr>\n",
       "    <tr>\n",
       "      <th>1</th>\n",
       "      <td>SNAP 2015 SHIFT</td>\n",
       "      <td>completed</td>\n",
       "      <td>Spanish</td>\n",
       "      <td>NaN</td>\n",
       "      <td>06/14/2019</td>\n",
       "      <td>16:46:41</td>\n",
       "      <td>06/14/2019</td>\n",
       "      <td>17:36:11</td>\n",
       "      <td>49.5</td>\n",
       "      <td>Doctorate degree (PhD/DPhil/MD)</td>\n",
       "      <td>...</td>\n",
       "      <td>NaN</td>\n",
       "      <td>NaN</td>\n",
       "      <td>NaN</td>\n",
       "      <td>Felicidades por esta encuesta. Pienso que se h...</td>\n",
       "      <td>Yes</td>\n",
       "      <td>Yes</td>\n",
       "      <td>Yes, I would like Nature Careers to contact me...</td>\n",
       "      <td>Yes, I would like to join the Shift Learning r...</td>\n",
       "      <td>1</td>\n",
       "      <td>NaN</td>\n",
       "    </tr>\n",
       "    <tr>\n",
       "      <th>2</th>\n",
       "      <td>SNAP 2015 SHIFT</td>\n",
       "      <td>completed</td>\n",
       "      <td>English</td>\n",
       "      <td>NaN</td>\n",
       "      <td>06/14/2019</td>\n",
       "      <td>17:10:02</td>\n",
       "      <td>06/14/2019</td>\n",
       "      <td>17:38:25</td>\n",
       "      <td>28.38</td>\n",
       "      <td>Doctorate degree (PhD/DPhil/MD)</td>\n",
       "      <td>...</td>\n",
       "      <td>No</td>\n",
       "      <td>NaN</td>\n",
       "      <td>NaN</td>\n",
       "      <td>NaN</td>\n",
       "      <td>Yes</td>\n",
       "      <td>Yes</td>\n",
       "      <td>Yes, I would like Nature Careers to contact me...</td>\n",
       "      <td>Yes, I would like to join the Shift Learning r...</td>\n",
       "      <td>2</td>\n",
       "      <td>NaN</td>\n",
       "    </tr>\n",
       "    <tr>\n",
       "      <th>3</th>\n",
       "      <td>SNAP 2015 SHIFT</td>\n",
       "      <td>completed</td>\n",
       "      <td>English</td>\n",
       "      <td>NaN</td>\n",
       "      <td>06/14/2019</td>\n",
       "      <td>17:15:21</td>\n",
       "      <td>06/14/2019</td>\n",
       "      <td>17:39:13</td>\n",
       "      <td>23.87</td>\n",
       "      <td>Doctorate degree (PhD/DPhil/MD)</td>\n",
       "      <td>...</td>\n",
       "      <td>No</td>\n",
       "      <td>NaN</td>\n",
       "      <td>NaN</td>\n",
       "      <td>NaN</td>\n",
       "      <td>Yes</td>\n",
       "      <td>Yes</td>\n",
       "      <td>NaN</td>\n",
       "      <td>NaN</td>\n",
       "      <td>3</td>\n",
       "      <td>NaN</td>\n",
       "    </tr>\n",
       "    <tr>\n",
       "      <th>4</th>\n",
       "      <td>SNAP 2015 SHIFT</td>\n",
       "      <td>completed</td>\n",
       "      <td>English</td>\n",
       "      <td>NaN</td>\n",
       "      <td>06/14/2019</td>\n",
       "      <td>16:51:28</td>\n",
       "      <td>06/14/2019</td>\n",
       "      <td>17:46:58</td>\n",
       "      <td>55.5</td>\n",
       "      <td>Doctorate degree (PhD/DPhil/MD)</td>\n",
       "      <td>...</td>\n",
       "      <td>No</td>\n",
       "      <td>NaN</td>\n",
       "      <td>NaN</td>\n",
       "      <td>NaN</td>\n",
       "      <td>Yes</td>\n",
       "      <td>Yes</td>\n",
       "      <td>Yes, I would like Nature Careers to contact me...</td>\n",
       "      <td>Yes, I would like to join the Shift Learning r...</td>\n",
       "      <td>4</td>\n",
       "      <td>NaN</td>\n",
       "    </tr>\n",
       "    <tr>\n",
       "      <th>...</th>\n",
       "      <td>...</td>\n",
       "      <td>...</td>\n",
       "      <td>...</td>\n",
       "      <td>...</td>\n",
       "      <td>...</td>\n",
       "      <td>...</td>\n",
       "      <td>...</td>\n",
       "      <td>...</td>\n",
       "      <td>...</td>\n",
       "      <td>...</td>\n",
       "      <td>...</td>\n",
       "      <td>...</td>\n",
       "      <td>...</td>\n",
       "      <td>...</td>\n",
       "      <td>...</td>\n",
       "      <td>...</td>\n",
       "      <td>...</td>\n",
       "      <td>...</td>\n",
       "      <td>...</td>\n",
       "      <td>...</td>\n",
       "      <td>...</td>\n",
       "    </tr>\n",
       "    <tr>\n",
       "      <th>6808</th>\n",
       "      <td>SNAP 2015 SHIFT</td>\n",
       "      <td>completed</td>\n",
       "      <td>English</td>\n",
       "      <td>NaN</td>\n",
       "      <td>06/14/2019</td>\n",
       "      <td>16:51:46</td>\n",
       "      <td>06/14/2019</td>\n",
       "      <td>17:07:47</td>\n",
       "      <td>16.02</td>\n",
       "      <td>Doctorate degree (PhD/DPhil/MD)</td>\n",
       "      <td>...</td>\n",
       "      <td>No</td>\n",
       "      <td>NaN</td>\n",
       "      <td>NaN</td>\n",
       "      <td>NaN</td>\n",
       "      <td>Yes</td>\n",
       "      <td>Yes</td>\n",
       "      <td>NaN</td>\n",
       "      <td>NaN</td>\n",
       "      <td>9835</td>\n",
       "      <td>NaN</td>\n",
       "    </tr>\n",
       "    <tr>\n",
       "      <th>6809</th>\n",
       "      <td>SNAP 2015 SHIFT</td>\n",
       "      <td>completed</td>\n",
       "      <td>English</td>\n",
       "      <td>NaN</td>\n",
       "      <td>06/14/2019</td>\n",
       "      <td>16:54:50</td>\n",
       "      <td>06/14/2019</td>\n",
       "      <td>17:08:17</td>\n",
       "      <td>13.45</td>\n",
       "      <td>Doctorate degree (PhD/DPhil/MD)</td>\n",
       "      <td>...</td>\n",
       "      <td>No</td>\n",
       "      <td>NaN</td>\n",
       "      <td>NaN</td>\n",
       "      <td>NaN</td>\n",
       "      <td>Yes</td>\n",
       "      <td>Yes</td>\n",
       "      <td>Yes, I would like Nature Careers to contact me...</td>\n",
       "      <td>Yes, I would like to join the Shift Learning r...</td>\n",
       "      <td>9836</td>\n",
       "      <td>NaN</td>\n",
       "    </tr>\n",
       "    <tr>\n",
       "      <th>6810</th>\n",
       "      <td>SNAP 2015 SHIFT</td>\n",
       "      <td>completed</td>\n",
       "      <td>English</td>\n",
       "      <td>NaN</td>\n",
       "      <td>06/14/2019</td>\n",
       "      <td>16:58:30</td>\n",
       "      <td>06/14/2019</td>\n",
       "      <td>17:19:23</td>\n",
       "      <td>20.88</td>\n",
       "      <td>Doctorate degree (PhD/DPhil/MD)</td>\n",
       "      <td>...</td>\n",
       "      <td>No</td>\n",
       "      <td>NaN</td>\n",
       "      <td>NaN</td>\n",
       "      <td>NaN</td>\n",
       "      <td>Yes</td>\n",
       "      <td>No</td>\n",
       "      <td>NaN</td>\n",
       "      <td>NaN</td>\n",
       "      <td>9837</td>\n",
       "      <td>NaN</td>\n",
       "    </tr>\n",
       "    <tr>\n",
       "      <th>6811</th>\n",
       "      <td>SNAP 2015 SHIFT</td>\n",
       "      <td>completed</td>\n",
       "      <td>English</td>\n",
       "      <td>NaN</td>\n",
       "      <td>06/14/2019</td>\n",
       "      <td>15:10:17</td>\n",
       "      <td>06/14/2019</td>\n",
       "      <td>17:21:02</td>\n",
       "      <td>130.75</td>\n",
       "      <td>Doctorate degree (PhD/DPhil/MD)</td>\n",
       "      <td>...</td>\n",
       "      <td>No</td>\n",
       "      <td>NaN</td>\n",
       "      <td>NaN</td>\n",
       "      <td>NaN</td>\n",
       "      <td>Yes</td>\n",
       "      <td>Yes</td>\n",
       "      <td>Yes, I would like Nature Careers to contact me...</td>\n",
       "      <td>Yes, I would like to join the Shift Learning r...</td>\n",
       "      <td>9838</td>\n",
       "      <td>NaN</td>\n",
       "    </tr>\n",
       "    <tr>\n",
       "      <th>6812</th>\n",
       "      <td>SNAP 2015 SHIFT</td>\n",
       "      <td>completed</td>\n",
       "      <td>English</td>\n",
       "      <td>NaN</td>\n",
       "      <td>06/14/2019</td>\n",
       "      <td>17:11:57</td>\n",
       "      <td>06/14/2019</td>\n",
       "      <td>17:27:22</td>\n",
       "      <td>15.42</td>\n",
       "      <td>Doctorate degree (PhD/DPhil/MD)</td>\n",
       "      <td>...</td>\n",
       "      <td>NaN</td>\n",
       "      <td>NaN</td>\n",
       "      <td>NaN</td>\n",
       "      <td>NaN</td>\n",
       "      <td>Yes</td>\n",
       "      <td>Yes</td>\n",
       "      <td>NaN</td>\n",
       "      <td>NaN</td>\n",
       "      <td>9839</td>\n",
       "      <td>NaN</td>\n",
       "    </tr>\n",
       "  </tbody>\n",
       "</table>\n",
       "<p>6805 rows × 274 columns</p>\n",
       "</div>"
      ],
      "text/plain": [
       "                                    ID.format  \\\n",
       "0     The published format which was employed   \n",
       "1                            SNAP 2015 SHIFT    \n",
       "2                            SNAP 2015 SHIFT    \n",
       "3                            SNAP 2015 SHIFT    \n",
       "4                            SNAP 2015 SHIFT    \n",
       "...                                       ...   \n",
       "6808                         SNAP 2015 SHIFT    \n",
       "6809                         SNAP 2015 SHIFT    \n",
       "6810                         SNAP 2015 SHIFT    \n",
       "6811                         SNAP 2015 SHIFT    \n",
       "6812                         SNAP 2015 SHIFT    \n",
       "\n",
       "                            ID.completed  \\\n",
       "0     Case completed in Snap Interviewer   \n",
       "1                              completed   \n",
       "2                              completed   \n",
       "3                              completed   \n",
       "4                              completed   \n",
       "...                                  ...   \n",
       "6808                           completed   \n",
       "6809                           completed   \n",
       "6810                           completed   \n",
       "6811                           completed   \n",
       "6812                           completed   \n",
       "\n",
       "                                            ID.language  \\\n",
       "0     What language would you like to complete the s...   \n",
       "1                                               Spanish   \n",
       "2                                               English   \n",
       "3                                               English   \n",
       "4                                               English   \n",
       "...                                                 ...   \n",
       "6808                                            English   \n",
       "6809                                            English   \n",
       "6810                                            English   \n",
       "6811                                            English   \n",
       "6812                                            English   \n",
       "\n",
       "                     ID.site            ID.date                ID.start  \\\n",
       "0     Questionnaire location  Date of interview  Time interview started   \n",
       "1                        NaN         06/14/2019                16:46:41   \n",
       "2                        NaN         06/14/2019                17:10:02   \n",
       "3                        NaN         06/14/2019                17:15:21   \n",
       "4                        NaN         06/14/2019                16:51:28   \n",
       "...                      ...                ...                     ...   \n",
       "6808                     NaN         06/14/2019                16:51:46   \n",
       "6809                     NaN         06/14/2019                16:54:50   \n",
       "6810                     NaN         06/14/2019                16:58:30   \n",
       "6811                     NaN         06/14/2019                15:10:17   \n",
       "6812                     NaN         06/14/2019                17:11:57   \n",
       "\n",
       "                        ID.endDate                ID.end  \\\n",
       "0     Completion date of interview  Time interview ended   \n",
       "1                       06/14/2019              17:36:11   \n",
       "2                       06/14/2019              17:38:25   \n",
       "3                       06/14/2019              17:39:13   \n",
       "4                       06/14/2019              17:46:58   \n",
       "...                            ...                   ...   \n",
       "6808                    06/14/2019              17:07:47   \n",
       "6809                    06/14/2019              17:08:17   \n",
       "6810                    06/14/2019              17:19:23   \n",
       "6811                    06/14/2019              17:21:02   \n",
       "6812                    06/14/2019              17:27:22   \n",
       "\n",
       "                    ID.time  \\\n",
       "0     Duration of interview   \n",
       "1                      49.5   \n",
       "2                     28.38   \n",
       "3                     23.87   \n",
       "4                      55.5   \n",
       "...                     ...   \n",
       "6808                  16.02   \n",
       "6809                  13.45   \n",
       "6810                  20.88   \n",
       "6811                 130.75   \n",
       "6812                  15.42   \n",
       "\n",
       "                                                     Q1  ...  \\\n",
       "0     Which, if any, of the following degrees are yo...  ...   \n",
       "1                       Doctorate degree (PhD/DPhil/MD)  ...   \n",
       "2                       Doctorate degree (PhD/DPhil/MD)  ...   \n",
       "3                       Doctorate degree (PhD/DPhil/MD)  ...   \n",
       "4                       Doctorate degree (PhD/DPhil/MD)  ...   \n",
       "...                                                 ...  ...   \n",
       "6808                    Doctorate degree (PhD/DPhil/MD)  ...   \n",
       "6809                    Doctorate degree (PhD/DPhil/MD)  ...   \n",
       "6810                    Doctorate degree (PhD/DPhil/MD)  ...   \n",
       "6811                    Doctorate degree (PhD/DPhil/MD)  ...   \n",
       "6812                    Doctorate degree (PhD/DPhil/MD)  ...   \n",
       "\n",
       "                                         Q59:4  \\\n",
       "0     Do you have any caring responsibilities?   \n",
       "1                                          NaN   \n",
       "2                                           No   \n",
       "3                                           No   \n",
       "4                                           No   \n",
       "...                                        ...   \n",
       "6808                                        No   \n",
       "6809                                        No   \n",
       "6810                                        No   \n",
       "6811                                        No   \n",
       "6812                                       NaN   \n",
       "\n",
       "                                         Q59:5                     Q59.a  \\\n",
       "0     Do you have any caring responsibilities?  If other, please specify   \n",
       "1                                          NaN                       NaN   \n",
       "2                                          NaN                       NaN   \n",
       "3                                          NaN                       NaN   \n",
       "4                                          NaN                       NaN   \n",
       "...                                        ...                       ...   \n",
       "6808                                       NaN                       NaN   \n",
       "6809                                       NaN                       NaN   \n",
       "6810                                       NaN                       NaN   \n",
       "6811                                       NaN                       NaN   \n",
       "6812                                       NaN                       NaN   \n",
       "\n",
       "                                                    Q60  \\\n",
       "0     Thank you for taking part in the survey. Are t...   \n",
       "1     Felicidades por esta encuesta. Pienso que se h...   \n",
       "2                                                   NaN   \n",
       "3                                                   NaN   \n",
       "4                                                   NaN   \n",
       "...                                                 ...   \n",
       "6808                                                NaN   \n",
       "6809                                                NaN   \n",
       "6810                                                NaN   \n",
       "6811                                                NaN   \n",
       "6812                                                NaN   \n",
       "\n",
       "                                                    Q61  \\\n",
       "0     Would you like to be entered into the prize dr...   \n",
       "1                                                   Yes   \n",
       "2                                                   Yes   \n",
       "3                                                   Yes   \n",
       "4                                                   Yes   \n",
       "...                                                 ...   \n",
       "6808                                                Yes   \n",
       "6809                                                Yes   \n",
       "6810                                                Yes   \n",
       "6811                                                Yes   \n",
       "6812                                                Yes   \n",
       "\n",
       "                                                    Q62  \\\n",
       "0     Nature may want to contact you again to ask fo...   \n",
       "1                                                   Yes   \n",
       "2                                                   Yes   \n",
       "3                                                   Yes   \n",
       "4                                                   Yes   \n",
       "...                                                 ...   \n",
       "6808                                                Yes   \n",
       "6809                                                Yes   \n",
       "6810                                                 No   \n",
       "6811                                                Yes   \n",
       "6812                                                Yes   \n",
       "\n",
       "                                                    Q63  \\\n",
       "0     Springer Nature is keen to update PhD students...   \n",
       "1     Yes, I would like Nature Careers to contact me...   \n",
       "2     Yes, I would like Nature Careers to contact me...   \n",
       "3                                                   NaN   \n",
       "4     Yes, I would like Nature Careers to contact me...   \n",
       "...                                                 ...   \n",
       "6808                                                NaN   \n",
       "6809  Yes, I would like Nature Careers to contact me...   \n",
       "6810                                                NaN   \n",
       "6811  Yes, I would like Nature Careers to contact me...   \n",
       "6812                                                NaN   \n",
       "\n",
       "                                                    Q64  Q65.a           Q65.b  \n",
       "0     Shift Learning carry out paid research in the ...  Name:  Email address:  \n",
       "1     Yes, I would like to join the Shift Learning r...      1             NaN  \n",
       "2     Yes, I would like to join the Shift Learning r...      2             NaN  \n",
       "3                                                   NaN      3             NaN  \n",
       "4     Yes, I would like to join the Shift Learning r...      4             NaN  \n",
       "...                                                 ...    ...             ...  \n",
       "6808                                                NaN   9835             NaN  \n",
       "6809  Yes, I would like to join the Shift Learning r...   9836             NaN  \n",
       "6810                                                NaN   9837             NaN  \n",
       "6811  Yes, I would like to join the Shift Learning r...   9838             NaN  \n",
       "6812                                                NaN   9839             NaN  \n",
       "\n",
       "[6805 rows x 274 columns]"
      ]
     },
     "execution_count": 10,
     "metadata": {},
     "output_type": "execute_result"
    }
   ],
   "source": [
    "df=df.dropna(subset=['Q28'])\n",
    "df"
   ]
  },
  {
   "cell_type": "code",
   "execution_count": 11,
   "metadata": {},
   "outputs": [
    {
     "data": {
      "text/plain": [
       "No                                                                          4083\n",
       "Yes                                                                         2429\n",
       "Prefer not to say                                                            292\n",
       "Have you ever sought help for anxiety or depression caused by PhD study?       1\n",
       "Name: Q28, dtype: int64"
      ]
     },
     "execution_count": 11,
     "metadata": {},
     "output_type": "execute_result"
    }
   ],
   "source": [
    "# check if those rows are sucessfully dropped\n",
    "df['Q28'].value_counts()"
   ]
  },
  {
   "cell_type": "code",
   "execution_count": 12,
   "metadata": {},
   "outputs": [],
   "source": [
    "# drop \"Prefer not to say\"s\n",
    "df=df[df['Q28']!='Prefer not to say']"
   ]
  },
  {
   "cell_type": "code",
   "execution_count": 13,
   "metadata": {},
   "outputs": [
    {
     "data": {
      "text/plain": [
       "No                                                                          4083\n",
       "Yes                                                                         2429\n",
       "Have you ever sought help for anxiety or depression caused by PhD study?       1\n",
       "Name: Q28, dtype: int64"
      ]
     },
     "execution_count": 13,
     "metadata": {},
     "output_type": "execute_result"
    }
   ],
   "source": [
    "# check if those rows are sucessfully dropped \n",
    "df['Q28'].value_counts()"
   ]
  },
  {
   "cell_type": "code",
   "execution_count": 14,
   "metadata": {},
   "outputs": [],
   "source": [
    "dict_target={'Yes': 1, 'No': 0}"
   ]
  },
  {
   "cell_type": "code",
   "execution_count": 15,
   "metadata": {},
   "outputs": [
    {
     "name": "stderr",
     "output_type": "stream",
     "text": [
      "<ipython-input-15-7a5e2d789d2b>:1: SettingWithCopyWarning: \n",
      "A value is trying to be set on a copy of a slice from a DataFrame.\n",
      "Try using .loc[row_indexer,col_indexer] = value instead\n",
      "\n",
      "See the caveats in the documentation: https://pandas.pydata.org/pandas-docs/stable/user_guide/indexing.html#returning-a-view-versus-a-copy\n",
      "  df['Q28']=df['Q28'].map(dict_target)\n"
     ]
    }
   ],
   "source": [
    "df['Q28']=df['Q28'].map(dict_target)"
   ]
  },
  {
   "cell_type": "code",
   "execution_count": 16,
   "metadata": {},
   "outputs": [
    {
     "data": {
      "text/plain": [
       "dtype('float64')"
      ]
     },
     "execution_count": 16,
     "metadata": {},
     "output_type": "execute_result"
    }
   ],
   "source": [
    "df['Q28'].dtype"
   ]
  },
  {
   "cell_type": "markdown",
   "metadata": {},
   "source": [
    "#### Features"
   ]
  },
  {
   "cell_type": "code",
   "execution_count": 17,
   "metadata": {},
   "outputs": [],
   "source": [
    "def info(label):\n",
    "    '''\n",
    "    input string of column name\n",
    "    output comprehensive analysis of the column\n",
    "    '''\n",
    "    print(f'column name: {label}')\n",
    "    print('     ')\n",
    "    print(f'Question: {df[label][0]}')\n",
    "    print('     ')\n",
    "    print(f'number of null values: {df[label].isna().sum()}')\n",
    "    print('     ')\n",
    "    print('Value Count:')\n",
    "    \n",
    "    print(df[label].value_counts())"
   ]
  },
  {
   "cell_type": "code",
   "execution_count": 18,
   "metadata": {},
   "outputs": [
    {
     "name": "stdout",
     "output_type": "stream",
     "text": [
      "column name: Q1\n",
      "     \n",
      "Question: Which, if any, of the following degrees are you currently studying for?\n",
      "     \n",
      "number of null values: 0\n",
      "     \n",
      "Value Count:\n",
      "Doctorate degree (PhD/DPhil/MD)                                            6294\n",
      "Dual doctorate degree (MD-PhD, PhD-PhD or other combination)                218\n",
      "Which, if any, of the following degrees are you currently studying for?       1\n",
      "Name: Q1, dtype: int64\n"
     ]
    }
   ],
   "source": [
    "# check Q1\n",
    "info('Q1')"
   ]
  },
  {
   "cell_type": "code",
   "execution_count": 19,
   "metadata": {},
   "outputs": [],
   "source": [
    "dict_Q1={'Doctorate degree (PhD/DPhil/MD)': 0, \n",
    "         'Dual doctorate degree (MD-PhD, PhD-PhD or other combination)': 1, \n",
    "         'Which, if any, of the following degrees are you currently studying for?':'dual_degree'}"
   ]
  },
  {
   "cell_type": "code",
   "execution_count": 20,
   "metadata": {},
   "outputs": [
    {
     "name": "stderr",
     "output_type": "stream",
     "text": [
      "<ipython-input-20-53e31f3f75ed>:1: SettingWithCopyWarning: \n",
      "A value is trying to be set on a copy of a slice from a DataFrame.\n",
      "Try using .loc[row_indexer,col_indexer] = value instead\n",
      "\n",
      "See the caveats in the documentation: https://pandas.pydata.org/pandas-docs/stable/user_guide/indexing.html#returning-a-view-versus-a-copy\n",
      "  df['Q1']=df['Q1'].map(dict_Q1)\n"
     ]
    }
   ],
   "source": [
    "df['Q1']=df['Q1'].map(dict_Q1)"
   ]
  },
  {
   "cell_type": "code",
   "execution_count": 21,
   "metadata": {},
   "outputs": [
    {
     "data": {
      "text/plain": [
       "0              6294\n",
       "1               218\n",
       "dual_degree       1\n",
       "Name: Q1, dtype: int64"
      ]
     },
     "execution_count": 21,
     "metadata": {},
     "output_type": "execute_result"
    }
   ],
   "source": [
    "df['Q1'].value_counts()"
   ]
  },
  {
   "cell_type": "code",
   "execution_count": 22,
   "metadata": {},
   "outputs": [
    {
     "name": "stdout",
     "output_type": "stream",
     "text": [
      "column name: Q4\n",
      "     \n",
      "Question: Are you studying in the country you grew up in?   \n",
      "     \n",
      "number of null values: 0\n",
      "     \n",
      "Value Count:\n",
      "Yes                                                   4153\n",
      " No                                                   2359\n",
      "Are you studying in the country you grew up in?          1\n",
      "Name: Q4, dtype: int64\n"
     ]
    }
   ],
   "source": [
    "info('Q4')"
   ]
  },
  {
   "cell_type": "code",
   "execution_count": 23,
   "metadata": {},
   "outputs": [],
   "source": [
    "dict_Q4={'Yes':1, ' No':0, 'Are you studying in the country you grew up in? \\xa0 ': 'home country'}"
   ]
  },
  {
   "cell_type": "code",
   "execution_count": 24,
   "metadata": {},
   "outputs": [
    {
     "name": "stderr",
     "output_type": "stream",
     "text": [
      "<ipython-input-24-80b37a29571b>:1: SettingWithCopyWarning: \n",
      "A value is trying to be set on a copy of a slice from a DataFrame.\n",
      "Try using .loc[row_indexer,col_indexer] = value instead\n",
      "\n",
      "See the caveats in the documentation: https://pandas.pydata.org/pandas-docs/stable/user_guide/indexing.html#returning-a-view-versus-a-copy\n",
      "  df['Q4']=df['Q4'].map(dict_Q4)\n"
     ]
    }
   ],
   "source": [
    "df['Q4']=df['Q4'].map(dict_Q4)"
   ]
  },
  {
   "cell_type": "code",
   "execution_count": 25,
   "metadata": {},
   "outputs": [
    {
     "data": {
      "text/plain": [
       "1               4153\n",
       "0               2359\n",
       "home country       1\n",
       "Name: Q4, dtype: int64"
      ]
     },
     "execution_count": 25,
     "metadata": {},
     "output_type": "execute_result"
    }
   ],
   "source": [
    "df['Q4'].value_counts()"
   ]
  },
  {
   "cell_type": "code",
   "execution_count": 26,
   "metadata": {},
   "outputs": [
    {
     "name": "stdout",
     "output_type": "stream",
     "text": [
      "column name: Q13\n",
      "     \n",
      "Question: Do you have a job alongside your studies?\n",
      "     \n",
      "number of null values: 0\n",
      "     \n",
      "Value Count:\n",
      "No                                           5249\n",
      "Yes                                          1263\n",
      "Do you have a job alongside your studies?       1\n",
      "Name: Q13, dtype: int64\n"
     ]
    }
   ],
   "source": [
    "info('Q13')"
   ]
  },
  {
   "cell_type": "code",
   "execution_count": 27,
   "metadata": {},
   "outputs": [
    {
     "data": {
      "text/plain": [
       "No                                           5249\n",
       "Yes                                          1263\n",
       "Do you have a job alongside your studies?       1\n",
       "Name: Q13, dtype: int64"
      ]
     },
     "execution_count": 27,
     "metadata": {},
     "output_type": "execute_result"
    }
   ],
   "source": [
    "df['Q13'].value_counts()"
   ]
  },
  {
   "cell_type": "code",
   "execution_count": 28,
   "metadata": {},
   "outputs": [
    {
     "data": {
      "text/plain": [
       "'Yes '"
      ]
     },
     "execution_count": 28,
     "metadata": {},
     "output_type": "execute_result"
    }
   ],
   "source": [
    "df[\"Q13\"][21]"
   ]
  },
  {
   "cell_type": "code",
   "execution_count": 29,
   "metadata": {},
   "outputs": [],
   "source": [
    "dict_Q13={'Yes ':1, 'No':0, 'Do you have a job alongside your studies?': 'job'}"
   ]
  },
  {
   "cell_type": "code",
   "execution_count": 30,
   "metadata": {},
   "outputs": [
    {
     "name": "stderr",
     "output_type": "stream",
     "text": [
      "<ipython-input-30-aeb4f6ca4191>:1: SettingWithCopyWarning: \n",
      "A value is trying to be set on a copy of a slice from a DataFrame.\n",
      "Try using .loc[row_indexer,col_indexer] = value instead\n",
      "\n",
      "See the caveats in the documentation: https://pandas.pydata.org/pandas-docs/stable/user_guide/indexing.html#returning-a-view-versus-a-copy\n",
      "  df['Q13']=df['Q13'].map(dict_Q13)\n"
     ]
    }
   ],
   "source": [
    "df['Q13']=df['Q13'].map(dict_Q13)"
   ]
  },
  {
   "cell_type": "code",
   "execution_count": 31,
   "metadata": {},
   "outputs": [
    {
     "name": "stdout",
     "output_type": "stream",
     "text": [
      "column name: Q31\n",
      "     \n",
      "Question: Do you feel that you have experienced bullying in your PhD program?\n",
      "     \n",
      "number of null values: 7\n",
      "     \n",
      "Value Count:\n",
      "No                                                                     4902\n",
      "Yes                                                                    1388\n",
      "Prefer not to say                                                       215\n",
      "Do you feel that you have experienced bullying in your PhD program?       1\n",
      "Name: Q31, dtype: int64\n"
     ]
    }
   ],
   "source": [
    "info('Q31')"
   ]
  },
  {
   "cell_type": "code",
   "execution_count": 32,
   "metadata": {},
   "outputs": [],
   "source": [
    "dict_Q31={'Yes':1, 'No': 0, 'Prefer not to say': 2, 'Do you feel that you have experienced bullying in your PhD program?': 'bullying'}"
   ]
  },
  {
   "cell_type": "code",
   "execution_count": 33,
   "metadata": {},
   "outputs": [
    {
     "name": "stderr",
     "output_type": "stream",
     "text": [
      "<ipython-input-33-9b6da20be755>:1: SettingWithCopyWarning: \n",
      "A value is trying to be set on a copy of a slice from a DataFrame.\n",
      "Try using .loc[row_indexer,col_indexer] = value instead\n",
      "\n",
      "See the caveats in the documentation: https://pandas.pydata.org/pandas-docs/stable/user_guide/indexing.html#returning-a-view-versus-a-copy\n",
      "  df['Q31']=df['Q31'].map(dict_Q31)\n"
     ]
    }
   ],
   "source": [
    "df['Q31']=df['Q31'].map(dict_Q31)"
   ]
  },
  {
   "cell_type": "code",
   "execution_count": 34,
   "metadata": {},
   "outputs": [
    {
     "name": "stdout",
     "output_type": "stream",
     "text": [
      "column name: Q34\n",
      "     \n",
      "Question: Do you feel that you have experienced discrimination or harassment in your PhD program?\n",
      "     \n",
      "number of null values: 24\n",
      "     \n",
      "Value Count:\n",
      "No                                                                                         4937\n",
      "Yes                                                                                        1334\n",
      "Prefer not to say                                                                           217\n",
      "Do you feel that you have experienced discrimination or harassment in your PhD program?       1\n",
      "Name: Q34, dtype: int64\n"
     ]
    }
   ],
   "source": [
    "info('Q34')"
   ]
  },
  {
   "cell_type": "code",
   "execution_count": 35,
   "metadata": {},
   "outputs": [],
   "source": [
    "dict_Q34={'Yes':1, 'No': 0, 'Prefer not to say': 2, 'Do you feel that you have experienced discrimination or harassment in your PhD program?': 'discrimination/harrassment'}"
   ]
  },
  {
   "cell_type": "code",
   "execution_count": 36,
   "metadata": {},
   "outputs": [
    {
     "name": "stderr",
     "output_type": "stream",
     "text": [
      "<ipython-input-36-d297d21c6dae>:1: SettingWithCopyWarning: \n",
      "A value is trying to be set on a copy of a slice from a DataFrame.\n",
      "Try using .loc[row_indexer,col_indexer] = value instead\n",
      "\n",
      "See the caveats in the documentation: https://pandas.pydata.org/pandas-docs/stable/user_guide/indexing.html#returning-a-view-versus-a-copy\n",
      "  df['Q34']=df['Q34'].map(dict_Q34)\n"
     ]
    }
   ],
   "source": [
    "df['Q34']=df['Q34'].map(dict_Q34)"
   ]
  },
  {
   "cell_type": "code",
   "execution_count": 37,
   "metadata": {},
   "outputs": [],
   "source": [
    "simple_df=df[['Q1', 'Q4', 'Q13', 'Q31', 'Q34']]"
   ]
  },
  {
   "cell_type": "code",
   "execution_count": 38,
   "metadata": {},
   "outputs": [],
   "source": [
    "# make the first row column names\n",
    "simple_df.columns = simple_df.iloc[0] \n",
    "\n",
    "# drop the first row\n",
    "simple_df = simple_df.drop([0])\n"
   ]
  },
  {
   "cell_type": "code",
   "execution_count": 39,
   "metadata": {},
   "outputs": [
    {
     "data": {
      "text/html": [
       "<div>\n",
       "<style scoped>\n",
       "    .dataframe tbody tr th:only-of-type {\n",
       "        vertical-align: middle;\n",
       "    }\n",
       "\n",
       "    .dataframe tbody tr th {\n",
       "        vertical-align: top;\n",
       "    }\n",
       "\n",
       "    .dataframe thead th {\n",
       "        text-align: right;\n",
       "    }\n",
       "</style>\n",
       "<table border=\"1\" class=\"dataframe\">\n",
       "  <thead>\n",
       "    <tr style=\"text-align: right;\">\n",
       "      <th></th>\n",
       "      <th>dual_degree</th>\n",
       "      <th>home country</th>\n",
       "      <th>job</th>\n",
       "      <th>bullying</th>\n",
       "      <th>discrimination/harrassment</th>\n",
       "    </tr>\n",
       "  </thead>\n",
       "  <tbody>\n",
       "    <tr>\n",
       "      <th>1</th>\n",
       "      <td>0</td>\n",
       "      <td>1</td>\n",
       "      <td>0</td>\n",
       "      <td>0</td>\n",
       "      <td>1</td>\n",
       "    </tr>\n",
       "    <tr>\n",
       "      <th>2</th>\n",
       "      <td>0</td>\n",
       "      <td>0</td>\n",
       "      <td>0</td>\n",
       "      <td>0</td>\n",
       "      <td>1</td>\n",
       "    </tr>\n",
       "    <tr>\n",
       "      <th>3</th>\n",
       "      <td>0</td>\n",
       "      <td>1</td>\n",
       "      <td>0</td>\n",
       "      <td>0</td>\n",
       "      <td>0</td>\n",
       "    </tr>\n",
       "    <tr>\n",
       "      <th>5</th>\n",
       "      <td>0</td>\n",
       "      <td>1</td>\n",
       "      <td>0</td>\n",
       "      <td>0</td>\n",
       "      <td>0</td>\n",
       "    </tr>\n",
       "    <tr>\n",
       "      <th>6</th>\n",
       "      <td>0</td>\n",
       "      <td>1</td>\n",
       "      <td>0</td>\n",
       "      <td>0</td>\n",
       "      <td>0</td>\n",
       "    </tr>\n",
       "    <tr>\n",
       "      <th>...</th>\n",
       "      <td>...</td>\n",
       "      <td>...</td>\n",
       "      <td>...</td>\n",
       "      <td>...</td>\n",
       "      <td>...</td>\n",
       "    </tr>\n",
       "    <tr>\n",
       "      <th>6806</th>\n",
       "      <td>0</td>\n",
       "      <td>1</td>\n",
       "      <td>0</td>\n",
       "      <td>0</td>\n",
       "      <td>0</td>\n",
       "    </tr>\n",
       "    <tr>\n",
       "      <th>6807</th>\n",
       "      <td>0</td>\n",
       "      <td>0</td>\n",
       "      <td>0</td>\n",
       "      <td>0</td>\n",
       "      <td>1</td>\n",
       "    </tr>\n",
       "    <tr>\n",
       "      <th>6809</th>\n",
       "      <td>0</td>\n",
       "      <td>1</td>\n",
       "      <td>0</td>\n",
       "      <td>0</td>\n",
       "      <td>0</td>\n",
       "    </tr>\n",
       "    <tr>\n",
       "      <th>6811</th>\n",
       "      <td>0</td>\n",
       "      <td>1</td>\n",
       "      <td>0</td>\n",
       "      <td>0</td>\n",
       "      <td>0</td>\n",
       "    </tr>\n",
       "    <tr>\n",
       "      <th>6812</th>\n",
       "      <td>0</td>\n",
       "      <td>0</td>\n",
       "      <td>0</td>\n",
       "      <td>0</td>\n",
       "      <td>0</td>\n",
       "    </tr>\n",
       "  </tbody>\n",
       "</table>\n",
       "<p>6512 rows × 5 columns</p>\n",
       "</div>"
      ],
      "text/plain": [
       "0    dual_degree home country job bullying discrimination/harrassment\n",
       "1              0            1   0        0                          1\n",
       "2              0            0   0        0                          1\n",
       "3              0            1   0        0                          0\n",
       "5              0            1   0        0                          0\n",
       "6              0            1   0        0                          0\n",
       "...          ...          ...  ..      ...                        ...\n",
       "6806           0            1   0        0                          0\n",
       "6807           0            0   0        0                          1\n",
       "6809           0            1   0        0                          0\n",
       "6811           0            1   0        0                          0\n",
       "6812           0            0   0        0                          0\n",
       "\n",
       "[6512 rows x 5 columns]"
      ]
     },
     "execution_count": 39,
     "metadata": {},
     "output_type": "execute_result"
    }
   ],
   "source": [
    "simple_df"
   ]
  },
  {
   "cell_type": "code",
   "execution_count": 40,
   "metadata": {},
   "outputs": [
    {
     "name": "stdout",
     "output_type": "stream",
     "text": [
      "<class 'pandas.core.frame.DataFrame'>\n",
      "Int64Index: 6512 entries, 1 to 6812\n",
      "Data columns (total 5 columns):\n",
      " #   Column                      Non-Null Count  Dtype \n",
      "---  ------                      --------------  ----- \n",
      " 0   dual_degree                 6512 non-null   object\n",
      " 1   home country                6512 non-null   object\n",
      " 2   job                         6512 non-null   object\n",
      " 3   bullying                    6505 non-null   object\n",
      " 4   discrimination/harrassment  6488 non-null   object\n",
      "dtypes: object(5)\n",
      "memory usage: 305.2+ KB\n"
     ]
    }
   ],
   "source": [
    "simple_df.info()"
   ]
  },
  {
   "cell_type": "code",
   "execution_count": 41,
   "metadata": {},
   "outputs": [],
   "source": [
    "# fill na for 'job', 'bullying', and 'discrimination/harrassment'\n",
    "# \n",
    "# assume all nulls are 'prefer not to say'\n",
    "simple_df['bullying'].fillna(value=2,inplace=True)\n",
    "simple_df['discrimination/harrassment'].fillna(value=2,inplace=True)"
   ]
  },
  {
   "cell_type": "code",
   "execution_count": 42,
   "metadata": {},
   "outputs": [],
   "source": [
    "simple_df=simple_df.astype(int)"
   ]
  },
  {
   "cell_type": "markdown",
   "metadata": {},
   "source": [
    "### Train Test Split"
   ]
  },
  {
   "cell_type": "code",
   "execution_count": 43,
   "metadata": {},
   "outputs": [],
   "source": [
    "from sklearn.model_selection import train_test_split"
   ]
  },
  {
   "cell_type": "code",
   "execution_count": 44,
   "metadata": {},
   "outputs": [],
   "source": [
    "X=simple_df\n",
    "y=df['Q28'][1:]"
   ]
  },
  {
   "cell_type": "code",
   "execution_count": 45,
   "metadata": {},
   "outputs": [],
   "source": [
    "X_tr, X_test, y_tr, y_test = train_test_split(X, y, random_state=42)\n",
    "X_train, X_val, y_train, y_val = train_test_split(X_tr, y_tr, random_state=42)"
   ]
  },
  {
   "cell_type": "markdown",
   "metadata": {},
   "source": [
    "### Modeling"
   ]
  },
  {
   "cell_type": "markdown",
   "metadata": {},
   "source": [
    "#### Baseline Understanding: \n",
    "predict majority class"
   ]
  },
  {
   "cell_type": "code",
   "execution_count": 46,
   "metadata": {},
   "outputs": [
    {
     "data": {
      "text/plain": [
       "0.0    0.62326\n",
       "1.0    0.37674\n",
       "Name: Q28, dtype: float64"
      ]
     },
     "execution_count": 46,
     "metadata": {},
     "output_type": "execute_result"
    }
   ],
   "source": [
    "y_train.value_counts(normalize=True)"
   ]
  },
  {
   "cell_type": "markdown",
   "metadata": {},
   "source": [
    "If we predict the majority class of not going to need help for anxiety/depression as a result of PhD study (assuming that if people need help, they ask for help), we will be right 62.3% of the time."
   ]
  },
  {
   "cell_type": "markdown",
   "metadata": {},
   "source": [
    "#### Logistic Regression"
   ]
  },
  {
   "cell_type": "code",
   "execution_count": 47,
   "metadata": {},
   "outputs": [],
   "source": [
    "from sklearn.linear_model import LogisticRegression"
   ]
  },
  {
   "cell_type": "code",
   "execution_count": 48,
   "metadata": {},
   "outputs": [
    {
     "data": {
      "text/plain": [
       "LogisticRegression()"
      ]
     },
     "execution_count": 48,
     "metadata": {},
     "output_type": "execute_result"
    }
   ],
   "source": [
    "lr=LogisticRegression()\n",
    "lr.fit(X_train,y_train)"
   ]
  },
  {
   "cell_type": "code",
   "execution_count": 49,
   "metadata": {
    "scrolled": true
   },
   "outputs": [
    {
     "name": "stdout",
     "output_type": "stream",
     "text": [
      "0.6557466557466557\n",
      "0.642915642915643\n"
     ]
    }
   ],
   "source": [
    "print(lr.score(X_train,y_train))\n",
    "print(lr.score(X_val,y_val))"
   ]
  },
  {
   "cell_type": "code",
   "execution_count": 95,
   "metadata": {},
   "outputs": [
    {
     "data": {
      "text/plain": [
       "array([[-0.12413397, -0.00938523, -0.17514545,  0.66888967,  0.35927856]])"
      ]
     },
     "execution_count": 95,
     "metadata": {},
     "output_type": "execute_result"
    }
   ],
   "source": [
    "lr.coef_"
   ]
  },
  {
   "cell_type": "code",
   "execution_count": 97,
   "metadata": {},
   "outputs": [],
   "source": [
    "import numpy as np"
   ]
  },
  {
   "cell_type": "code",
   "execution_count": 98,
   "metadata": {},
   "outputs": [
    {
     "data": {
      "text/plain": [
       "1.9520686764898432"
      ]
     },
     "execution_count": 98,
     "metadata": {},
     "output_type": "execute_result"
    }
   ],
   "source": [
    "np.exp(0.66888967)"
   ]
  },
  {
   "cell_type": "code",
   "execution_count": 99,
   "metadata": {},
   "outputs": [
    {
     "data": {
      "text/plain": [
       "1.4322956403666207"
      ]
     },
     "execution_count": 99,
     "metadata": {},
     "output_type": "execute_result"
    }
   ],
   "source": [
    "np.exp(0.3592785)"
   ]
  },
  {
   "cell_type": "markdown",
   "metadata": {},
   "source": [
    "Interpretation:\n",
    "\n",
    "holding everything else constant, the odds of needing help for anxiety and depression for students that are bullied (bullied = 1)over the odds of needing help for anxiety and depression for students that are not bullied (bullied = 0) is exp(.66888967) = 1.9520.  In terms of percent change, we can say that the odds for getting anxiety and depression for students that are bullied are 95.2% higher than the odds for students that are not bullied.\n"
   ]
  },
  {
   "cell_type": "markdown",
   "metadata": {},
   "source": [
    "#### Decision Tree"
   ]
  },
  {
   "cell_type": "code",
   "execution_count": 50,
   "metadata": {},
   "outputs": [],
   "source": [
    "from sklearn.tree import DecisionTreeClassifier"
   ]
  },
  {
   "cell_type": "code",
   "execution_count": 88,
   "metadata": {},
   "outputs": [],
   "source": [
    "dt=DecisionTreeClassifier(max_depth=2,random_state=42)"
   ]
  },
  {
   "cell_type": "code",
   "execution_count": 89,
   "metadata": {},
   "outputs": [
    {
     "data": {
      "text/plain": [
       "DecisionTreeClassifier(max_depth=2, random_state=42)"
      ]
     },
     "execution_count": 89,
     "metadata": {},
     "output_type": "execute_result"
    }
   ],
   "source": [
    "dt.fit(X_train,y_train)"
   ]
  },
  {
   "cell_type": "code",
   "execution_count": 90,
   "metadata": {},
   "outputs": [
    {
     "name": "stdout",
     "output_type": "stream",
     "text": [
      "0.657930657930658\n",
      "0.6339066339066339\n"
     ]
    }
   ],
   "source": [
    "print(dt.score(X_train,y_train))\n",
    "print(dt.score(X_val,y_val))"
   ]
  },
  {
   "cell_type": "code",
   "execution_count": 91,
   "metadata": {},
   "outputs": [
    {
     "data": {
      "text/plain": [
       "<sklearn.tree._tree.Tree at 0x7ff7194a80a0>"
      ]
     },
     "execution_count": 91,
     "metadata": {},
     "output_type": "execute_result"
    }
   ],
   "source": [
    "dt.tree_"
   ]
  },
  {
   "cell_type": "code",
   "execution_count": 92,
   "metadata": {},
   "outputs": [],
   "source": [
    "from sklearn import tree\n",
    "from matplotlib import pyplot as plt"
   ]
  },
  {
   "cell_type": "code",
   "execution_count": 93,
   "metadata": {},
   "outputs": [
    {
     "data": {
      "image/png": "[encoded data removed]",
      "text/plain": [
       "<Figure size 432x288 with 1 Axes>"
      ]
     },
     "metadata": {
      "needs_background": "light"
     },
     "output_type": "display_data"
    }
   ],
   "source": [
    "tree.plot_tree(dt)\n",
    "plt.show()"
   ]
  },
  {
   "cell_type": "code",
   "execution_count": 69,
   "metadata": {},
   "outputs": [
    {
     "data": {
      "text/plain": [
       "array([0.05120034, 0.04548006, 0.04955232, 0.71347088, 0.1402964 ])"
      ]
     },
     "execution_count": 69,
     "metadata": {},
     "output_type": "execute_result"
    }
   ],
   "source": [
    "dt.feature_importances_"
   ]
  },
  {
   "cell_type": "markdown",
   "metadata": {},
   "source": [
    "So for decision tree there is only 7(?) decisions to make, and it cannot possibly improve further, add a graph to show that later."
   ]
  },
  {
   "cell_type": "markdown",
   "metadata": {},
   "source": [
    "Bullying is the most important indicator of possibility of needing help for anxiety and depression, followed by whether they are discriminated against."
   ]
  },
  {
   "cell_type": "markdown",
   "metadata": {},
   "source": [
    "#### Naive Bayes"
   ]
  },
  {
   "cell_type": "code",
   "execution_count": 54,
   "metadata": {},
   "outputs": [],
   "source": [
    "from sklearn.naive_bayes import CategoricalNB"
   ]
  },
  {
   "cell_type": "code",
   "execution_count": 55,
   "metadata": {},
   "outputs": [],
   "source": [
    "nb=CategoricalNB()"
   ]
  },
  {
   "cell_type": "code",
   "execution_count": 56,
   "metadata": {},
   "outputs": [
    {
     "data": {
      "text/plain": [
       "CategoricalNB()"
      ]
     },
     "execution_count": 56,
     "metadata": {},
     "output_type": "execute_result"
    }
   ],
   "source": [
    "nb.fit(X_train,y_train)"
   ]
  },
  {
   "cell_type": "code",
   "execution_count": 57,
   "metadata": {},
   "outputs": [
    {
     "name": "stdout",
     "output_type": "stream",
     "text": [
      "0.6546546546546547\n",
      "0.6461916461916462\n"
     ]
    }
   ],
   "source": [
    "print(nb.score(X_train,y_train))\n",
    "print(nb.score(X_val,y_val))"
   ]
  },
  {
   "cell_type": "markdown",
   "metadata": {},
   "source": [
    "#### CatBoost"
   ]
  },
  {
   "cell_type": "code",
   "execution_count": 58,
   "metadata": {},
   "outputs": [],
   "source": [
    "from catboost import CatBoostClassifier"
   ]
  },
  {
   "cell_type": "code",
   "execution_count": 59,
   "metadata": {},
   "outputs": [],
   "source": [
    "cb=CatBoostClassifier(silent=True)"
   ]
  },
  {
   "cell_type": "code",
   "execution_count": 60,
   "metadata": {},
   "outputs": [
    {
     "data": {
      "text/plain": [
       "<catboost.core.CatBoostClassifier at 0x7ff70a4a40d0>"
      ]
     },
     "execution_count": 60,
     "metadata": {},
     "output_type": "execute_result"
    }
   ],
   "source": [
    "cb.fit(X_train,y_train)"
   ]
  },
  {
   "cell_type": "code",
   "execution_count": 61,
   "metadata": {},
   "outputs": [
    {
     "name": "stdout",
     "output_type": "stream",
     "text": [
      "0.6655746655746656\n",
      "0.6478296478296478\n"
     ]
    }
   ],
   "source": [
    "print(cb.score(X_train,y_train))\n",
    "print(cb.score(X_val,y_val))"
   ]
  },
  {
   "cell_type": "markdown",
   "metadata": {},
   "source": [
    "#### XGBoost"
   ]
  },
  {
   "cell_type": "code",
   "execution_count": 62,
   "metadata": {},
   "outputs": [],
   "source": [
    "from xgboost import XGBClassifier"
   ]
  },
  {
   "cell_type": "code",
   "execution_count": 63,
   "metadata": {},
   "outputs": [],
   "source": [
    "from sklearn.model_selection import GridSearchCV"
   ]
  },
  {
   "cell_type": "code",
   "execution_count": 64,
   "metadata": {},
   "outputs": [],
   "source": [
    "xgb=XGBClassifier()"
   ]
  },
  {
   "cell_type": "code",
   "execution_count": 65,
   "metadata": {},
   "outputs": [
    {
     "data": {
      "text/plain": [
       "XGBClassifier(base_score=0.5, booster='gbtree', colsample_bylevel=1,\n",
       "              colsample_bynode=1, colsample_bytree=1, gamma=0, gpu_id=-1,\n",
       "              importance_type='gain', interaction_constraints='',\n",
       "              learning_rate=0.300000012, max_delta_step=0, max_depth=6,\n",
       "              min_child_weight=1, missing=nan, monotone_constraints='()',\n",
       "              n_estimators=100, n_jobs=0, num_parallel_tree=1, random_state=0,\n",
       "              reg_alpha=0, reg_lambda=1, scale_pos_weight=1, subsample=1,\n",
       "              tree_method='exact', validate_parameters=1, verbosity=None)"
      ]
     },
     "execution_count": 65,
     "metadata": {},
     "output_type": "execute_result"
    }
   ],
   "source": [
    "xgb.fit(X_train,y_train)"
   ]
  },
  {
   "cell_type": "code",
   "execution_count": 66,
   "metadata": {},
   "outputs": [
    {
     "name": "stdout",
     "output_type": "stream",
     "text": [
      "0.6655746655746656\n",
      "0.6461916461916462\n"
     ]
    }
   ],
   "source": [
    "print(xgb.score(X_train,y_train))\n",
    "print(xgb.score(X_val,y_val))"
   ]
  },
  {
   "cell_type": "markdown",
   "metadata": {},
   "source": [
    "Basically we didn't give the model enough information to go off on. We need to add more information to the models."
   ]
  },
  {
   "cell_type": "code",
   "execution_count": null,
   "metadata": {},
   "outputs": [],
   "source": []
  }
 ],
 "metadata": {
  "kernelspec": {
   "display_name": "Python (learn-env)",
   "language": "python",
   "name": "learn-env"
  },
  "language_info": {
   "codemirror_mode": {
    "name": "ipython",
    "version": 3
   },
   "file_extension": ".py",
   "mimetype": "text/x-python",
   "name": "python",
   "nbconvert_exporter": "python",
   "pygments_lexer": "ipython3",
   "version": "3.8.5"
  }
 },
 "nbformat": 4,
 "nbformat_minor": 4
}
