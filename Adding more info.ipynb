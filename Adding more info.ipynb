{
 "cells": [
  {
   "cell_type": "markdown",
   "metadata": {},
   "source": [
    "# PhD Student Mental Health Project"
   ]
  },
  {
   "cell_type": "markdown",
   "metadata": {},
   "source": [
    "## Overview"
   ]
  },
  {
   "cell_type": "markdown",
   "metadata": {},
   "source": [
    "This notebook contains analysis of survey data conducted by Shift Learning on PhD students. The project uses multiple machine learning models such as logistic regression, decision trees and naive bayes to draw insights into what risk factors contribute to mental health problems in PhD students and make recommendations on how to improve. "
   ]
  },
  {
   "cell_type": "markdown",
   "metadata": {},
   "source": [
    "## Business Problem"
   ]
  },
  {
   "cell_type": "markdown",
   "metadata": {},
   "source": [
    "PhD students are at high risk of mental health issues and have a high suicide rate. This project aims to help academia understand the risk factors in order to systematically improve student’s overall mental health. This project also makes recommendations on how to set up preventative measures for mental health issues among students."
   ]
  },
  {
   "cell_type": "markdown",
   "metadata": {},
   "source": [
    "#### End Users:\n",
    "- Universities, research facilities, school mental health counselors"
   ]
  },
  {
   "cell_type": "markdown",
   "metadata": {},
   "source": [
    "#### True Business Problem:\n",
    "\n",
    "- Understand risk factors that contributes to PhD students needing help for anxiety and depression.\n"
   ]
  },
  {
   "cell_type": "markdown",
   "metadata": {},
   "source": [
    "#### Context:\n",
    "- False positive: predict that a student need help for anxiety/depression when they don't \n",
    "    - Outcome: trouble and disturbance to the student\n",
    "- False negative: predict that a student doesn't need help for anxiety/depression when they actually do\n",
    "    - Outcome: student not getting the help that they need"
   ]
  },
  {
   "cell_type": "markdown",
   "metadata": {},
   "source": [
    "#### Model Evaluation\n",
    "\n",
    "We will be focusing on recall because we want to minimize false negative. "
   ]
  },
  {
   "cell_type": "markdown",
   "metadata": {},
   "source": [
    "## Data Understanding"
   ]
  },
  {
   "cell_type": "markdown",
   "metadata": {},
   "source": [
    "The data is aggregated by surveying and interviewing 6,320 current PhD students all over the world in 2019. There are around 60 questions about their personal information and their opinions and concerns about their PhD program.\n",
    "Important questions include age, country of origin, country of study, whether/by whom they were bullied, whether/reason they need to work outside of their program, whether/which kind of discrimination the student faced, their career expectations, worries about the program/their future, etc.\n",
    "\n",
    "We are modeling on the assumption that if students need help with anxiety and/or depression, they would ask for it. "
   ]
  },
  {
   "cell_type": "markdown",
   "metadata": {},
   "source": [
    "### EDA"
   ]
  },
  {
   "cell_type": "code",
   "execution_count": 1,
   "metadata": {},
   "outputs": [],
   "source": [
    "import pandas as pd"
   ]
  },
  {
   "cell_type": "code",
   "execution_count": 2,
   "metadata": {},
   "outputs": [],
   "source": [
    "# load dataframe\n",
    "df=pd.read_csv('data.csv',dtype='str')"
   ]
  },
  {
   "cell_type": "code",
   "execution_count": 3,
   "metadata": {},
   "outputs": [
    {
     "data": {
      "text/html": [
       "<div>\n",
       "<style scoped>\n",
       "    .dataframe tbody tr th:only-of-type {\n",
       "        vertical-align: middle;\n",
       "    }\n",
       "\n",
       "    .dataframe tbody tr th {\n",
       "        vertical-align: top;\n",
       "    }\n",
       "\n",
       "    .dataframe thead th {\n",
       "        text-align: right;\n",
       "    }\n",
       "</style>\n",
       "<table border=\"1\" class=\"dataframe\">\n",
       "  <thead>\n",
       "    <tr style=\"text-align: right;\">\n",
       "      <th></th>\n",
       "      <th>ID.format</th>\n",
       "      <th>ID.completed</th>\n",
       "      <th>ID.language</th>\n",
       "      <th>ID.site</th>\n",
       "      <th>ID.date</th>\n",
       "      <th>ID.start</th>\n",
       "      <th>ID.endDate</th>\n",
       "      <th>ID.end</th>\n",
       "      <th>ID.time</th>\n",
       "      <th>Q1</th>\n",
       "      <th>...</th>\n",
       "      <th>Q59:4</th>\n",
       "      <th>Q59:5</th>\n",
       "      <th>Q59.a</th>\n",
       "      <th>Q60</th>\n",
       "      <th>Q61</th>\n",
       "      <th>Q62</th>\n",
       "      <th>Q63</th>\n",
       "      <th>Q64</th>\n",
       "      <th>Q65.a</th>\n",
       "      <th>Q65.b</th>\n",
       "    </tr>\n",
       "  </thead>\n",
       "  <tbody>\n",
       "    <tr>\n",
       "      <th>0</th>\n",
       "      <td>The published format which was employed</td>\n",
       "      <td>Case completed in Snap Interviewer</td>\n",
       "      <td>What language would you like to complete the s...</td>\n",
       "      <td>Questionnaire location</td>\n",
       "      <td>Date of interview</td>\n",
       "      <td>Time interview started</td>\n",
       "      <td>Completion date of interview</td>\n",
       "      <td>Time interview ended</td>\n",
       "      <td>Duration of interview</td>\n",
       "      <td>Which, if any, of the following degrees are yo...</td>\n",
       "      <td>...</td>\n",
       "      <td>Do you have any caring responsibilities?</td>\n",
       "      <td>Do you have any caring responsibilities?</td>\n",
       "      <td>If other, please specify</td>\n",
       "      <td>Thank you for taking part in the survey. Are t...</td>\n",
       "      <td>Would you like to be entered into the prize dr...</td>\n",
       "      <td>Nature may want to contact you again to ask fo...</td>\n",
       "      <td>Springer Nature is keen to update PhD students...</td>\n",
       "      <td>Shift Learning carry out paid research in the ...</td>\n",
       "      <td>Name:</td>\n",
       "      <td>Email address:</td>\n",
       "    </tr>\n",
       "    <tr>\n",
       "      <th>1</th>\n",
       "      <td>SNAP 2015 SHIFT</td>\n",
       "      <td>completed</td>\n",
       "      <td>Spanish</td>\n",
       "      <td>NaN</td>\n",
       "      <td>06/14/2019</td>\n",
       "      <td>16:46:41</td>\n",
       "      <td>06/14/2019</td>\n",
       "      <td>17:36:11</td>\n",
       "      <td>49.5</td>\n",
       "      <td>Doctorate degree (PhD/DPhil/MD)</td>\n",
       "      <td>...</td>\n",
       "      <td>NaN</td>\n",
       "      <td>NaN</td>\n",
       "      <td>NaN</td>\n",
       "      <td>Felicidades por esta encuesta. Pienso que se h...</td>\n",
       "      <td>Yes</td>\n",
       "      <td>Yes</td>\n",
       "      <td>Yes, I would like Nature Careers to contact me...</td>\n",
       "      <td>Yes, I would like to join the Shift Learning r...</td>\n",
       "      <td>1</td>\n",
       "      <td>NaN</td>\n",
       "    </tr>\n",
       "    <tr>\n",
       "      <th>2</th>\n",
       "      <td>SNAP 2015 SHIFT</td>\n",
       "      <td>completed</td>\n",
       "      <td>English</td>\n",
       "      <td>NaN</td>\n",
       "      <td>06/14/2019</td>\n",
       "      <td>17:10:02</td>\n",
       "      <td>06/14/2019</td>\n",
       "      <td>17:38:25</td>\n",
       "      <td>28.38</td>\n",
       "      <td>Doctorate degree (PhD/DPhil/MD)</td>\n",
       "      <td>...</td>\n",
       "      <td>No</td>\n",
       "      <td>NaN</td>\n",
       "      <td>NaN</td>\n",
       "      <td>NaN</td>\n",
       "      <td>Yes</td>\n",
       "      <td>Yes</td>\n",
       "      <td>Yes, I would like Nature Careers to contact me...</td>\n",
       "      <td>Yes, I would like to join the Shift Learning r...</td>\n",
       "      <td>2</td>\n",
       "      <td>NaN</td>\n",
       "    </tr>\n",
       "    <tr>\n",
       "      <th>3</th>\n",
       "      <td>SNAP 2015 SHIFT</td>\n",
       "      <td>completed</td>\n",
       "      <td>English</td>\n",
       "      <td>NaN</td>\n",
       "      <td>06/14/2019</td>\n",
       "      <td>17:15:21</td>\n",
       "      <td>06/14/2019</td>\n",
       "      <td>17:39:13</td>\n",
       "      <td>23.87</td>\n",
       "      <td>Doctorate degree (PhD/DPhil/MD)</td>\n",
       "      <td>...</td>\n",
       "      <td>No</td>\n",
       "      <td>NaN</td>\n",
       "      <td>NaN</td>\n",
       "      <td>NaN</td>\n",
       "      <td>Yes</td>\n",
       "      <td>Yes</td>\n",
       "      <td>NaN</td>\n",
       "      <td>NaN</td>\n",
       "      <td>3</td>\n",
       "      <td>NaN</td>\n",
       "    </tr>\n",
       "    <tr>\n",
       "      <th>4</th>\n",
       "      <td>SNAP 2015 SHIFT</td>\n",
       "      <td>completed</td>\n",
       "      <td>English</td>\n",
       "      <td>NaN</td>\n",
       "      <td>06/14/2019</td>\n",
       "      <td>16:51:28</td>\n",
       "      <td>06/14/2019</td>\n",
       "      <td>17:46:58</td>\n",
       "      <td>55.5</td>\n",
       "      <td>Doctorate degree (PhD/DPhil/MD)</td>\n",
       "      <td>...</td>\n",
       "      <td>No</td>\n",
       "      <td>NaN</td>\n",
       "      <td>NaN</td>\n",
       "      <td>NaN</td>\n",
       "      <td>Yes</td>\n",
       "      <td>Yes</td>\n",
       "      <td>Yes, I would like Nature Careers to contact me...</td>\n",
       "      <td>Yes, I would like to join the Shift Learning r...</td>\n",
       "      <td>4</td>\n",
       "      <td>NaN</td>\n",
       "    </tr>\n",
       "    <tr>\n",
       "      <th>...</th>\n",
       "      <td>...</td>\n",
       "      <td>...</td>\n",
       "      <td>...</td>\n",
       "      <td>...</td>\n",
       "      <td>...</td>\n",
       "      <td>...</td>\n",
       "      <td>...</td>\n",
       "      <td>...</td>\n",
       "      <td>...</td>\n",
       "      <td>...</td>\n",
       "      <td>...</td>\n",
       "      <td>...</td>\n",
       "      <td>...</td>\n",
       "      <td>...</td>\n",
       "      <td>...</td>\n",
       "      <td>...</td>\n",
       "      <td>...</td>\n",
       "      <td>...</td>\n",
       "      <td>...</td>\n",
       "      <td>...</td>\n",
       "      <td>...</td>\n",
       "    </tr>\n",
       "    <tr>\n",
       "      <th>6808</th>\n",
       "      <td>SNAP 2015 SHIFT</td>\n",
       "      <td>completed</td>\n",
       "      <td>English</td>\n",
       "      <td>NaN</td>\n",
       "      <td>06/14/2019</td>\n",
       "      <td>16:51:46</td>\n",
       "      <td>06/14/2019</td>\n",
       "      <td>17:07:47</td>\n",
       "      <td>16.02</td>\n",
       "      <td>Doctorate degree (PhD/DPhil/MD)</td>\n",
       "      <td>...</td>\n",
       "      <td>No</td>\n",
       "      <td>NaN</td>\n",
       "      <td>NaN</td>\n",
       "      <td>NaN</td>\n",
       "      <td>Yes</td>\n",
       "      <td>Yes</td>\n",
       "      <td>NaN</td>\n",
       "      <td>NaN</td>\n",
       "      <td>9835</td>\n",
       "      <td>NaN</td>\n",
       "    </tr>\n",
       "    <tr>\n",
       "      <th>6809</th>\n",
       "      <td>SNAP 2015 SHIFT</td>\n",
       "      <td>completed</td>\n",
       "      <td>English</td>\n",
       "      <td>NaN</td>\n",
       "      <td>06/14/2019</td>\n",
       "      <td>16:54:50</td>\n",
       "      <td>06/14/2019</td>\n",
       "      <td>17:08:17</td>\n",
       "      <td>13.45</td>\n",
       "      <td>Doctorate degree (PhD/DPhil/MD)</td>\n",
       "      <td>...</td>\n",
       "      <td>No</td>\n",
       "      <td>NaN</td>\n",
       "      <td>NaN</td>\n",
       "      <td>NaN</td>\n",
       "      <td>Yes</td>\n",
       "      <td>Yes</td>\n",
       "      <td>Yes, I would like Nature Careers to contact me...</td>\n",
       "      <td>Yes, I would like to join the Shift Learning r...</td>\n",
       "      <td>9836</td>\n",
       "      <td>NaN</td>\n",
       "    </tr>\n",
       "    <tr>\n",
       "      <th>6810</th>\n",
       "      <td>SNAP 2015 SHIFT</td>\n",
       "      <td>completed</td>\n",
       "      <td>English</td>\n",
       "      <td>NaN</td>\n",
       "      <td>06/14/2019</td>\n",
       "      <td>16:58:30</td>\n",
       "      <td>06/14/2019</td>\n",
       "      <td>17:19:23</td>\n",
       "      <td>20.88</td>\n",
       "      <td>Doctorate degree (PhD/DPhil/MD)</td>\n",
       "      <td>...</td>\n",
       "      <td>No</td>\n",
       "      <td>NaN</td>\n",
       "      <td>NaN</td>\n",
       "      <td>NaN</td>\n",
       "      <td>Yes</td>\n",
       "      <td>No</td>\n",
       "      <td>NaN</td>\n",
       "      <td>NaN</td>\n",
       "      <td>9837</td>\n",
       "      <td>NaN</td>\n",
       "    </tr>\n",
       "    <tr>\n",
       "      <th>6811</th>\n",
       "      <td>SNAP 2015 SHIFT</td>\n",
       "      <td>completed</td>\n",
       "      <td>English</td>\n",
       "      <td>NaN</td>\n",
       "      <td>06/14/2019</td>\n",
       "      <td>15:10:17</td>\n",
       "      <td>06/14/2019</td>\n",
       "      <td>17:21:02</td>\n",
       "      <td>130.75</td>\n",
       "      <td>Doctorate degree (PhD/DPhil/MD)</td>\n",
       "      <td>...</td>\n",
       "      <td>No</td>\n",
       "      <td>NaN</td>\n",
       "      <td>NaN</td>\n",
       "      <td>NaN</td>\n",
       "      <td>Yes</td>\n",
       "      <td>Yes</td>\n",
       "      <td>Yes, I would like Nature Careers to contact me...</td>\n",
       "      <td>Yes, I would like to join the Shift Learning r...</td>\n",
       "      <td>9838</td>\n",
       "      <td>NaN</td>\n",
       "    </tr>\n",
       "    <tr>\n",
       "      <th>6812</th>\n",
       "      <td>SNAP 2015 SHIFT</td>\n",
       "      <td>completed</td>\n",
       "      <td>English</td>\n",
       "      <td>NaN</td>\n",
       "      <td>06/14/2019</td>\n",
       "      <td>17:11:57</td>\n",
       "      <td>06/14/2019</td>\n",
       "      <td>17:27:22</td>\n",
       "      <td>15.42</td>\n",
       "      <td>Doctorate degree (PhD/DPhil/MD)</td>\n",
       "      <td>...</td>\n",
       "      <td>NaN</td>\n",
       "      <td>NaN</td>\n",
       "      <td>NaN</td>\n",
       "      <td>NaN</td>\n",
       "      <td>Yes</td>\n",
       "      <td>Yes</td>\n",
       "      <td>NaN</td>\n",
       "      <td>NaN</td>\n",
       "      <td>9839</td>\n",
       "      <td>NaN</td>\n",
       "    </tr>\n",
       "  </tbody>\n",
       "</table>\n",
       "<p>6813 rows × 274 columns</p>\n",
       "</div>"
      ],
      "text/plain": [
       "                                    ID.format  \\\n",
       "0     The published format which was employed   \n",
       "1                            SNAP 2015 SHIFT    \n",
       "2                            SNAP 2015 SHIFT    \n",
       "3                            SNAP 2015 SHIFT    \n",
       "4                            SNAP 2015 SHIFT    \n",
       "...                                       ...   \n",
       "6808                         SNAP 2015 SHIFT    \n",
       "6809                         SNAP 2015 SHIFT    \n",
       "6810                         SNAP 2015 SHIFT    \n",
       "6811                         SNAP 2015 SHIFT    \n",
       "6812                         SNAP 2015 SHIFT    \n",
       "\n",
       "                            ID.completed  \\\n",
       "0     Case completed in Snap Interviewer   \n",
       "1                              completed   \n",
       "2                              completed   \n",
       "3                              completed   \n",
       "4                              completed   \n",
       "...                                  ...   \n",
       "6808                           completed   \n",
       "6809                           completed   \n",
       "6810                           completed   \n",
       "6811                           completed   \n",
       "6812                           completed   \n",
       "\n",
       "                                            ID.language  \\\n",
       "0     What language would you like to complete the s...   \n",
       "1                                               Spanish   \n",
       "2                                               English   \n",
       "3                                               English   \n",
       "4                                               English   \n",
       "...                                                 ...   \n",
       "6808                                            English   \n",
       "6809                                            English   \n",
       "6810                                            English   \n",
       "6811                                            English   \n",
       "6812                                            English   \n",
       "\n",
       "                     ID.site            ID.date                ID.start  \\\n",
       "0     Questionnaire location  Date of interview  Time interview started   \n",
       "1                        NaN         06/14/2019                16:46:41   \n",
       "2                        NaN         06/14/2019                17:10:02   \n",
       "3                        NaN         06/14/2019                17:15:21   \n",
       "4                        NaN         06/14/2019                16:51:28   \n",
       "...                      ...                ...                     ...   \n",
       "6808                     NaN         06/14/2019                16:51:46   \n",
       "6809                     NaN         06/14/2019                16:54:50   \n",
       "6810                     NaN         06/14/2019                16:58:30   \n",
       "6811                     NaN         06/14/2019                15:10:17   \n",
       "6812                     NaN         06/14/2019                17:11:57   \n",
       "\n",
       "                        ID.endDate                ID.end  \\\n",
       "0     Completion date of interview  Time interview ended   \n",
       "1                       06/14/2019              17:36:11   \n",
       "2                       06/14/2019              17:38:25   \n",
       "3                       06/14/2019              17:39:13   \n",
       "4                       06/14/2019              17:46:58   \n",
       "...                            ...                   ...   \n",
       "6808                    06/14/2019              17:07:47   \n",
       "6809                    06/14/2019              17:08:17   \n",
       "6810                    06/14/2019              17:19:23   \n",
       "6811                    06/14/2019              17:21:02   \n",
       "6812                    06/14/2019              17:27:22   \n",
       "\n",
       "                    ID.time  \\\n",
       "0     Duration of interview   \n",
       "1                      49.5   \n",
       "2                     28.38   \n",
       "3                     23.87   \n",
       "4                      55.5   \n",
       "...                     ...   \n",
       "6808                  16.02   \n",
       "6809                  13.45   \n",
       "6810                  20.88   \n",
       "6811                 130.75   \n",
       "6812                  15.42   \n",
       "\n",
       "                                                     Q1  ...  \\\n",
       "0     Which, if any, of the following degrees are yo...  ...   \n",
       "1                       Doctorate degree (PhD/DPhil/MD)  ...   \n",
       "2                       Doctorate degree (PhD/DPhil/MD)  ...   \n",
       "3                       Doctorate degree (PhD/DPhil/MD)  ...   \n",
       "4                       Doctorate degree (PhD/DPhil/MD)  ...   \n",
       "...                                                 ...  ...   \n",
       "6808                    Doctorate degree (PhD/DPhil/MD)  ...   \n",
       "6809                    Doctorate degree (PhD/DPhil/MD)  ...   \n",
       "6810                    Doctorate degree (PhD/DPhil/MD)  ...   \n",
       "6811                    Doctorate degree (PhD/DPhil/MD)  ...   \n",
       "6812                    Doctorate degree (PhD/DPhil/MD)  ...   \n",
       "\n",
       "                                         Q59:4  \\\n",
       "0     Do you have any caring responsibilities?   \n",
       "1                                          NaN   \n",
       "2                                           No   \n",
       "3                                           No   \n",
       "4                                           No   \n",
       "...                                        ...   \n",
       "6808                                        No   \n",
       "6809                                        No   \n",
       "6810                                        No   \n",
       "6811                                        No   \n",
       "6812                                       NaN   \n",
       "\n",
       "                                         Q59:5                     Q59.a  \\\n",
       "0     Do you have any caring responsibilities?  If other, please specify   \n",
       "1                                          NaN                       NaN   \n",
       "2                                          NaN                       NaN   \n",
       "3                                          NaN                       NaN   \n",
       "4                                          NaN                       NaN   \n",
       "...                                        ...                       ...   \n",
       "6808                                       NaN                       NaN   \n",
       "6809                                       NaN                       NaN   \n",
       "6810                                       NaN                       NaN   \n",
       "6811                                       NaN                       NaN   \n",
       "6812                                       NaN                       NaN   \n",
       "\n",
       "                                                    Q60  \\\n",
       "0     Thank you for taking part in the survey. Are t...   \n",
       "1     Felicidades por esta encuesta. Pienso que se h...   \n",
       "2                                                   NaN   \n",
       "3                                                   NaN   \n",
       "4                                                   NaN   \n",
       "...                                                 ...   \n",
       "6808                                                NaN   \n",
       "6809                                                NaN   \n",
       "6810                                                NaN   \n",
       "6811                                                NaN   \n",
       "6812                                                NaN   \n",
       "\n",
       "                                                    Q61  \\\n",
       "0     Would you like to be entered into the prize dr...   \n",
       "1                                                   Yes   \n",
       "2                                                   Yes   \n",
       "3                                                   Yes   \n",
       "4                                                   Yes   \n",
       "...                                                 ...   \n",
       "6808                                                Yes   \n",
       "6809                                                Yes   \n",
       "6810                                                Yes   \n",
       "6811                                                Yes   \n",
       "6812                                                Yes   \n",
       "\n",
       "                                                    Q62  \\\n",
       "0     Nature may want to contact you again to ask fo...   \n",
       "1                                                   Yes   \n",
       "2                                                   Yes   \n",
       "3                                                   Yes   \n",
       "4                                                   Yes   \n",
       "...                                                 ...   \n",
       "6808                                                Yes   \n",
       "6809                                                Yes   \n",
       "6810                                                 No   \n",
       "6811                                                Yes   \n",
       "6812                                                Yes   \n",
       "\n",
       "                                                    Q63  \\\n",
       "0     Springer Nature is keen to update PhD students...   \n",
       "1     Yes, I would like Nature Careers to contact me...   \n",
       "2     Yes, I would like Nature Careers to contact me...   \n",
       "3                                                   NaN   \n",
       "4     Yes, I would like Nature Careers to contact me...   \n",
       "...                                                 ...   \n",
       "6808                                                NaN   \n",
       "6809  Yes, I would like Nature Careers to contact me...   \n",
       "6810                                                NaN   \n",
       "6811  Yes, I would like Nature Careers to contact me...   \n",
       "6812                                                NaN   \n",
       "\n",
       "                                                    Q64  Q65.a           Q65.b  \n",
       "0     Shift Learning carry out paid research in the ...  Name:  Email address:  \n",
       "1     Yes, I would like to join the Shift Learning r...      1             NaN  \n",
       "2     Yes, I would like to join the Shift Learning r...      2             NaN  \n",
       "3                                                   NaN      3             NaN  \n",
       "4     Yes, I would like to join the Shift Learning r...      4             NaN  \n",
       "...                                                 ...    ...             ...  \n",
       "6808                                                NaN   9835             NaN  \n",
       "6809  Yes, I would like to join the Shift Learning r...   9836             NaN  \n",
       "6810                                                NaN   9837             NaN  \n",
       "6811  Yes, I would like to join the Shift Learning r...   9838             NaN  \n",
       "6812                                                NaN   9839             NaN  \n",
       "\n",
       "[6813 rows x 274 columns]"
      ]
     },
     "execution_count": 3,
     "metadata": {},
     "output_type": "execute_result"
    }
   ],
   "source": [
    "df"
   ]
  },
  {
   "cell_type": "markdown",
   "metadata": {},
   "source": [
    "The first row is the questions."
   ]
  },
  {
   "cell_type": "code",
   "execution_count": 4,
   "metadata": {},
   "outputs": [
    {
     "data": {
      "text/plain": [
       "(6813, 274)"
      ]
     },
     "execution_count": 4,
     "metadata": {},
     "output_type": "execute_result"
    }
   ],
   "source": [
    "# check the size of the dataset\n",
    "df.shape"
   ]
  },
  {
   "cell_type": "markdown",
   "metadata": {},
   "source": [
    "The dataset has 6812 data points and 274 columns. There are a lot of columns so our main goal is to clean it up."
   ]
  },
  {
   "cell_type": "code",
   "execution_count": 5,
   "metadata": {},
   "outputs": [
    {
     "data": {
      "text/plain": [
       "['ID.format',\n",
       " 'ID.completed',\n",
       " 'ID.language',\n",
       " 'ID.site',\n",
       " 'ID.date',\n",
       " 'ID.start',\n",
       " 'ID.endDate',\n",
       " 'ID.end',\n",
       " 'ID.time',\n",
       " 'Q1',\n",
       " 'Q1.a',\n",
       " 'Q2',\n",
       " 'Q3',\n",
       " 'Q3.a',\n",
       " 'Q4',\n",
       " 'Q5',\n",
       " 'Q6',\n",
       " 'Q6.a',\n",
       " 'Q7',\n",
       " 'Q7.a',\n",
       " 'Q8',\n",
       " 'Q8.a',\n",
       " 'Q9',\n",
       " 'Q9.a',\n",
       " 'Q10',\n",
       " 'Q10.a',\n",
       " 'Q11',\n",
       " 'Q11.a',\n",
       " 'Q12:1',\n",
       " 'Q12:2',\n",
       " 'Q12:3',\n",
       " 'Q12:4',\n",
       " 'Q12:5',\n",
       " 'Q12:6',\n",
       " 'Q12:7',\n",
       " 'Q12:8',\n",
       " 'Q12:9',\n",
       " 'Q12:10',\n",
       " 'Q12:11',\n",
       " 'Q12.a',\n",
       " 'Q13',\n",
       " 'Q14',\n",
       " 'Q14.a',\n",
       " 'Q15.a',\n",
       " 'Q15.b',\n",
       " 'Q15.c',\n",
       " 'Q15.d',\n",
       " 'Q15.e',\n",
       " 'Q15.f',\n",
       " 'Q15.g',\n",
       " 'Q15.h',\n",
       " 'Q15.i',\n",
       " 'Q15.j',\n",
       " 'Q15.k',\n",
       " 'Q15.l',\n",
       " 'Q15.m',\n",
       " 'Q15.n',\n",
       " 'Q16',\n",
       " 'Q17',\n",
       " 'Q17.a',\n",
       " 'Q18.a',\n",
       " 'Q19.a',\n",
       " 'Q20',\n",
       " 'Q21.a',\n",
       " 'Q21.b',\n",
       " 'Q21.c',\n",
       " 'Q21.d',\n",
       " 'Q21.e',\n",
       " 'Q21.f',\n",
       " 'Q21.g',\n",
       " 'Q21.h',\n",
       " 'Q21.i',\n",
       " 'Q22.a',\n",
       " 'Q22.b',\n",
       " 'Q22.c',\n",
       " 'Q22.d',\n",
       " 'Q22.e',\n",
       " 'Q22.f',\n",
       " 'Q22.g',\n",
       " 'Q22.h',\n",
       " 'Q22.i',\n",
       " 'Q23',\n",
       " 'Q24',\n",
       " 'Q25',\n",
       " 'Q25.a',\n",
       " 'Q26',\n",
       " 'Q27.a',\n",
       " 'Q27.b',\n",
       " 'Q27.c',\n",
       " 'Q27.d',\n",
       " 'Q27.e',\n",
       " 'Q27.f',\n",
       " 'Q28',\n",
       " 'Q29',\n",
       " 'Q29.a',\n",
       " 'Q30.a',\n",
       " 'Q30.b',\n",
       " 'Q30.c',\n",
       " 'Q30.d',\n",
       " 'Q30.e',\n",
       " 'Q30.f',\n",
       " 'Q31',\n",
       " 'Q32:1',\n",
       " 'Q32:2',\n",
       " 'Q32:3',\n",
       " 'Q32:4',\n",
       " 'Q32:5',\n",
       " 'Q32:6',\n",
       " 'Q32:7',\n",
       " 'Q32.a',\n",
       " 'Q33',\n",
       " 'Q34',\n",
       " 'Q35:1',\n",
       " 'Q35:2',\n",
       " 'Q35:3',\n",
       " 'Q35:4',\n",
       " 'Q35:5',\n",
       " 'Q35:6',\n",
       " 'Q35:7',\n",
       " 'Q35:8',\n",
       " 'Q35:9',\n",
       " 'Q35.a',\n",
       " 'Q36.a',\n",
       " 'Q37.a',\n",
       " 'Q37.b',\n",
       " 'Q37.c',\n",
       " 'Q37.d',\n",
       " 'Q37.e',\n",
       " 'Q38.a',\n",
       " 'Q38.b',\n",
       " 'Q38.c',\n",
       " 'Q38.d',\n",
       " 'Q38.e',\n",
       " 'Q38.f',\n",
       " 'Q38.g',\n",
       " 'Q39:1',\n",
       " 'Q39:2',\n",
       " 'Q39:3',\n",
       " 'Q39:4',\n",
       " 'Q39:5',\n",
       " 'Q39:6',\n",
       " 'Q39:7',\n",
       " 'Q39:8',\n",
       " 'Q39:9',\n",
       " 'Q39.a',\n",
       " 'Q40',\n",
       " 'Q40.a',\n",
       " 'Q41',\n",
       " 'Q42',\n",
       " 'Q43.a',\n",
       " 'Q44',\n",
       " 'Q44.a',\n",
       " 'Q45:1',\n",
       " 'Q45:2',\n",
       " 'Q45:3',\n",
       " 'Q45:4',\n",
       " 'Q45:5',\n",
       " 'Q45:6',\n",
       " 'Q45:7',\n",
       " 'Q45:8',\n",
       " 'Q45:9',\n",
       " 'Q45:10',\n",
       " 'Q45:11',\n",
       " 'Q45.a',\n",
       " 'Q46:1',\n",
       " 'Q46:2',\n",
       " 'Q46:3',\n",
       " 'Q46:4',\n",
       " 'Q46:5',\n",
       " 'Q46:6',\n",
       " 'Q46:7',\n",
       " 'Q46:8',\n",
       " 'Q46:9',\n",
       " 'Q46:10',\n",
       " 'Q46:11',\n",
       " 'Q46:12',\n",
       " 'Q46:13',\n",
       " 'Q46:14',\n",
       " 'Q46.a',\n",
       " 'Q47:1',\n",
       " 'Q47:2',\n",
       " 'Q47:3',\n",
       " 'Q47:4',\n",
       " 'Q47:5',\n",
       " 'Q47:6',\n",
       " 'Q47:7',\n",
       " 'Q47:8',\n",
       " 'Q47:9',\n",
       " 'Q47.a',\n",
       " 'Q48:1',\n",
       " 'Q48:2',\n",
       " 'Q48:3',\n",
       " 'Q48:4',\n",
       " 'Q48:5',\n",
       " 'Q48:6',\n",
       " 'Q48:7',\n",
       " 'Q48.a',\n",
       " 'Q49:1',\n",
       " 'Q49:2',\n",
       " 'Q49:3',\n",
       " 'Q49:4',\n",
       " 'Q49:5',\n",
       " 'Q49:6',\n",
       " 'Q49:7',\n",
       " 'Q49:8',\n",
       " 'Q49.a',\n",
       " 'Q50.a',\n",
       " 'Q50.b',\n",
       " 'Q50.c',\n",
       " 'Q50.d',\n",
       " 'Q50.e',\n",
       " 'Q50.f',\n",
       " 'Q50.g',\n",
       " 'Q50.h',\n",
       " 'Q50.i',\n",
       " 'Q50.j',\n",
       " 'Q50.k',\n",
       " 'Q50.l',\n",
       " 'Q50.m',\n",
       " 'Q51.a',\n",
       " 'Q51.b',\n",
       " 'Q51.c',\n",
       " 'Q52:1',\n",
       " 'Q52:2',\n",
       " 'Q52:3',\n",
       " 'Q52:4',\n",
       " 'Q52:5',\n",
       " 'Q52:6',\n",
       " 'Q52:7',\n",
       " 'Q52:8',\n",
       " 'Q52.a',\n",
       " 'Q53:1',\n",
       " 'Q53:2',\n",
       " 'Q53:3',\n",
       " 'Q53:4',\n",
       " 'Q53:5',\n",
       " 'Q53:6',\n",
       " 'Q53:7',\n",
       " 'Q53.a',\n",
       " 'Q54:1',\n",
       " 'Q54:2',\n",
       " 'Q54:3',\n",
       " 'Q54:4',\n",
       " 'Q54:5',\n",
       " 'Q54.a',\n",
       " 'Q55',\n",
       " 'Q56',\n",
       " 'Q57',\n",
       " 'Q58:1',\n",
       " 'Q58:2',\n",
       " 'Q58:3',\n",
       " 'Q58:4',\n",
       " 'Q58:5',\n",
       " 'Q58:6',\n",
       " 'Q58:7',\n",
       " 'Q58:8',\n",
       " 'Q58:9',\n",
       " 'Q58:10',\n",
       " 'Q58:11',\n",
       " 'Q58:12',\n",
       " 'Q58.a',\n",
       " 'Q59:1',\n",
       " 'Q59:2',\n",
       " 'Q59:3',\n",
       " 'Q59:4',\n",
       " 'Q59:5',\n",
       " 'Q59.a',\n",
       " 'Q60',\n",
       " 'Q61',\n",
       " 'Q62',\n",
       " 'Q63',\n",
       " 'Q64',\n",
       " 'Q65.a',\n",
       " 'Q65.b']"
      ]
     },
     "execution_count": 5,
     "metadata": {},
     "output_type": "execute_result"
    }
   ],
   "source": [
    "# check column names\n",
    "list(df.columns)"
   ]
  },
  {
   "cell_type": "markdown",
   "metadata": {},
   "source": [
    "Questions start from the 10th column."
   ]
  },
  {
   "cell_type": "code",
   "execution_count": 6,
   "metadata": {},
   "outputs": [
    {
     "name": "stdout",
     "output_type": "stream",
     "text": [
      "********\n",
      "Q1\n",
      "Which, if any, of the following degrees are you currently studying for?\n",
      "********\n",
      "Q1.a\n",
      "If other, please specify\n",
      "********\n",
      "Q2\n",
      "Hidden\n",
      "********\n",
      "Q3\n",
      "Which was the most important reason you decided to enrol in a PhD programme?\n",
      "********\n",
      "Q3.a\n",
      "If other, please specify\n",
      "********\n",
      "Q4\n",
      "Are you studying in the country you grew up in?   \n",
      "********\n",
      "Q5\n",
      "Where do you currently live?\n",
      "********\n",
      "Q6\n",
      "Which region in Asia?\n",
      "********\n",
      "Q6.a\n",
      "If other, please specify\n",
      "********\n",
      "Q7\n",
      "Which country in Australasia?\n",
      "********\n",
      "Q7.a\n",
      "If other, please specify\n",
      "********\n",
      "Q8\n",
      "Which country in Africa?\n",
      "********\n",
      "Q8.a\n",
      "If other, please specify\n",
      "********\n",
      "Q9\n",
      "Which country in Europe?\n",
      "********\n",
      "Q9.a\n",
      "If other, please specify\n",
      "********\n",
      "Q10\n",
      "Which country in North or Central America?\n",
      "********\n",
      "Q10.a\n",
      "If other, please specify\n",
      "********\n",
      "Q11\n",
      "Which country in South America?\n",
      "********\n",
      "Q11.a\n",
      "If other, please specify\n",
      "********\n",
      "Q12:1\n",
      "What prompted you to study outside your country of upbringing? \n",
      "********\n",
      "Q12:2\n",
      "What prompted you to study outside your country of upbringing? \n",
      "********\n",
      "Q12:3\n",
      "What prompted you to study outside your country of upbringing? \n",
      "********\n",
      "Q12:4\n",
      "What prompted you to study outside your country of upbringing? \n",
      "********\n",
      "Q12:5\n",
      "What prompted you to study outside your country of upbringing? \n",
      "********\n",
      "Q12:6\n",
      "What prompted you to study outside your country of upbringing? \n",
      "********\n",
      "Q12:7\n",
      "What prompted you to study outside your country of upbringing? \n",
      "********\n",
      "Q12:8\n",
      "What prompted you to study outside your country of upbringing? \n",
      "********\n",
      "Q12:9\n",
      "What prompted you to study outside your country of upbringing? \n",
      "********\n",
      "Q12:10\n",
      "What prompted you to study outside your country of upbringing? \n",
      "********\n",
      "Q12:11\n",
      "What prompted you to study outside your country of upbringing? \n",
      "********\n",
      "Q12.a\n",
      "If other, please specify\n",
      "********\n",
      "Q13\n",
      "Do you have a job alongside your studies?\n",
      "********\n",
      "Q14\n",
      "What is your main reason for having a job?\n",
      "********\n",
      "Q14.a\n",
      "If other, please specify\n",
      "********\n",
      "Q15.a\n",
      "The difficulty of getting funding / low success rates for grant applications\n",
      "********\n",
      "Q15.b\n",
      "Inability to finish my studies in the time period I had set out to \n",
      "********\n",
      "Q15.c\n",
      "Impact of a poor relationship with my supervisor/PI\n",
      "********\n",
      "Q15.d\n",
      "The number of available faculty research jobs beyond postdoc\n",
      "********\n",
      "Q15.e\n",
      "The high numbers of PhD holders who are doing or have done multiple postdocs\n",
      "********\n",
      "Q15.f\n",
      "The difficulty of maintaining a work/life balance\n",
      "********\n",
      "Q15.g\n",
      "Uncertainty about the value of a PhD\n",
      "********\n",
      "Q15.h\n",
      "Uncertainty about my job/career prospects\n",
      "********\n",
      "Q15.i\n",
      "Student debt during my PhD\n",
      "********\n",
      "Q15.j\n",
      "Financial worries after my PhD (cost of living, inability to save for a house, children, retirement)\n",
      "********\n",
      "Q15.k\n",
      "Political landscape \n",
      "********\n",
      "Q15.l\n",
      "Impostor syndrome\n",
      "********\n",
      "Q15.m\n",
      "Concern about my mental health as a result of PhD study\n",
      "********\n",
      "Q15.n\n",
      "Poor support and acknowledgement of my parenting/elder care responsibilities \n",
      "********\n",
      "Q16\n",
      "Is there anything else not mentioned that has concerned you since you started your PhD? \n",
      "********\n",
      "Q17\n",
      "Overall, what do you enjoy most about life as a PhD student?       \n",
      "********\n",
      "Q17.a\n",
      "If other, please specify\n",
      "********\n",
      "Q18.a\n",
      "How satisfied are you with your decision to pursue a PhD?\n",
      "********\n",
      "Q19.a\n",
      "How satisfied are you with your PhD experience?\n",
      "********\n",
      "Q20\n",
      "Since the very start of your graduate school experience, would you say your level of satisfaction has:\n",
      "********\n",
      "Q21.a\n",
      "Availability of funding\n",
      "********\n",
      "Q21.b\n",
      "Hours worked\n",
      "********\n",
      "Q21.c\n",
      "Social environment\n",
      "********\n",
      "Q21.d\n",
      "Degree of independence\n",
      "********\n",
      "Q21.e\n",
      "Recognition from supervisor/PI \n",
      "********\n",
      "Q21.f\n",
      "Overall relationship with supervisor/PI\n",
      "********\n",
      "Q21.g\n",
      "Opportunities to collaborate\n",
      "********\n",
      "Q21.h\n",
      "Number of publications\n",
      "********\n",
      "Q21.i\n",
      "Stipend / financial support\n",
      "********\n",
      "Q22.a\n",
      "Vacation time\n",
      "********\n",
      "Q22.b\n",
      "Benefits (health care, leave, etc.)\n",
      "********\n",
      "Q22.c\n",
      "Teaching duties\n",
      "********\n",
      "Q22.d\n",
      "Guidance received from adviser in lab/research\n",
      "********\n",
      "Q22.e\n",
      "Guidance received from other mentors in lab/research\n",
      "********\n",
      "Q22.f\n",
      "Ability to attend meetings and conferences\n",
      "********\n",
      "Q22.g\n",
      "Ability to present research at conferences\n",
      "********\n",
      "Q22.h\n",
      "Work-life balance\n",
      "********\n",
      "Q22.i\n",
      "Career pathway guidance and advice\n",
      "********\n",
      "Q23\n",
      "To what extent does your PhD programme compare to your original expectations?\n",
      "********\n",
      "Q24\n",
      "On average, how many hours a week do you typically spend on your PhD programme?\n",
      "********\n",
      "Q25\n",
      "On average, how much one-on-one contact time do you spend with your supervisor each week?\n",
      "********\n",
      "Q25.a\n",
      "If other, please specify\n",
      "********\n",
      "Q26\n",
      "Overall, how would you describe the academic system, based on your PhD experience so far? \n",
      "********\n",
      "Q27.a\n",
      "Members of my department make time for frank conversations about my career\n",
      "********\n",
      "Q27.b\n",
      "Members of my department are open to the idea of me pursuing a career outside academia\n",
      "********\n",
      "Q27.c\n",
      "Members of my department have useful advice for careers outside academia\n",
      "********\n",
      "Q27.d\n",
      "Members of my department have contacted potential employers on my behalf\n",
      "********\n",
      "Q27.e\n",
      "Members of my department have encouraged me to attend career-promoting training and events\n",
      "********\n",
      "Q27.f\n",
      "Members of my department have discouraged me from attending career-promoting training and events\n",
      "********\n",
      "Q28\n",
      "Have you ever sought help for anxiety or depression caused by PhD study?\n",
      "********\n",
      "Q29\n",
      "Did you seek help for anxiety or depression within your institution? \n",
      "********\n",
      "Q29.a\n",
      "If other, please specify\n",
      "********\n",
      "Q30.a\n",
      "Mental health and wellbeing services in my university are tailored and appropriate to the needs of PhD students\n",
      "********\n",
      "Q30.b\n",
      "My supervisor/PI has a good awareness of support services and was able to signpost me to them if needed\n",
      "********\n",
      "Q30.c\n",
      "My university offers adequate one-to-one mental health support\n",
      "********\n",
      "Q30.d\n",
      "My university offers  different types of support to promote mental health and wellbeing beyond one-to-one support (e.g. workshops, seminars, activities)\n",
      "********\n",
      "Q30.e\n",
      "My university supports good work-life balance\n",
      "********\n",
      "Q30.f\n",
      "There is a long-hours culture at my university, including sometimes working through the night\n",
      "********\n",
      "Q31\n",
      "Do you feel that you have experienced bullying in your PhD program?\n",
      "********\n",
      "Q32:1\n",
      "Who was the perpetrator(s)?\n",
      "********\n",
      "Q32:2\n",
      "Who was the perpetrator(s)?\n",
      "********\n",
      "Q32:3\n",
      "Who was the perpetrator(s)?\n",
      "********\n",
      "Q32:4\n",
      "Who was the perpetrator(s)?\n",
      "********\n",
      "Q32:5\n",
      "Who was the perpetrator(s)?\n",
      "********\n",
      "Q32:6\n",
      "Who was the perpetrator(s)?\n",
      "********\n",
      "Q32:7\n",
      "Who was the perpetrator(s)?\n",
      "********\n",
      "Q32.a\n",
      "If other, please specify\n",
      "********\n",
      "Q33\n",
      "Do you feel able to speak out about your experiences of bullying without personal repercussions?\n",
      "********\n",
      "Q34\n",
      "Do you feel that you have experienced discrimination or harassment in your PhD program?\n",
      "********\n",
      "Q35:1\n",
      "Which of the following have you experienced? \n",
      "********\n",
      "Q35:2\n",
      "Which of the following have you experienced? \n",
      "********\n",
      "Q35:3\n",
      "Which of the following have you experienced? \n",
      "********\n",
      "Q35:4\n",
      "Which of the following have you experienced? \n",
      "********\n",
      "Q35:5\n",
      "Which of the following have you experienced? \n",
      "********\n",
      "Q35:6\n",
      "Which of the following have you experienced? \n",
      "********\n",
      "Q35:7\n",
      "Which of the following have you experienced? \n",
      "********\n",
      "Q35:8\n",
      "Which of the following have you experienced? \n",
      "********\n",
      "Q35:9\n",
      "Which of the following have you experienced? \n",
      "********\n",
      "Q35.a\n",
      "If other, please specify\n",
      "********\n",
      "Q36.a\n",
      "nan\n",
      "********\n",
      "Q37.a\n",
      "Academia\n",
      "********\n",
      "Q37.b\n",
      "Industry\n",
      "********\n",
      "Q37.c\n",
      "Government\n",
      "********\n",
      "Q37.d\n",
      "Non-profit\n",
      "********\n",
      "Q37.e\n",
      "Medical\n",
      "********\n",
      "Q38.a\n",
      "Research in academia \n",
      "********\n",
      "Q38.b\n",
      "Research in industry\n",
      "********\n",
      "Q38.c\n",
      "Research within government or non-profit\n",
      "********\n",
      "Q38.d\n",
      "Non-research in academia\n",
      "********\n",
      "Q38.e\n",
      "Medical research\n",
      "********\n",
      "Q38.f\n",
      "Non-research in industry\n",
      "********\n",
      "Q38.g\n",
      "Non-research in government or non-profit\n",
      "********\n",
      "Q39:1\n",
      "If you’re unlikely to pursue an academic research career, what are the main reasons? \n",
      "********\n",
      "Q39:2\n",
      "If you’re unlikely to pursue an academic research career, what are the main reasons? \n",
      "********\n",
      "Q39:3\n",
      "If you’re unlikely to pursue an academic research career, what are the main reasons? \n",
      "********\n",
      "Q39:4\n",
      "If you’re unlikely to pursue an academic research career, what are the main reasons? \n",
      "********\n",
      "Q39:5\n",
      "If you’re unlikely to pursue an academic research career, what are the main reasons? \n",
      "********\n",
      "Q39:6\n",
      "If you’re unlikely to pursue an academic research career, what are the main reasons? \n",
      "********\n",
      "Q39:7\n",
      "If you’re unlikely to pursue an academic research career, what are the main reasons? \n",
      "********\n",
      "Q39:8\n",
      "If you’re unlikely to pursue an academic research career, what are the main reasons? \n",
      "********\n",
      "Q39:9\n",
      "If you’re unlikely to pursue an academic research career, what are the main reasons? \n",
      "********\n",
      "Q39.a\n",
      "If other, please specify\n",
      "********\n",
      "Q40\n",
      "What position do you most expect to occupy immediately after you complete your degree?\n",
      "********\n",
      "Q40.a\n",
      "If other, please specify\n",
      "********\n",
      "Q41\n",
      "What type of career you are interested in pursuing after your graduate degree?\n",
      "********\n",
      "Q42\n",
      "After completing your PhD, how long do you think it will take you to find a permanent (non-trainee) position?\n",
      "********\n",
      "Q43.a\n",
      "How much more likely are you now to pursue a research career than when you launched your PhD programme?\n",
      "********\n",
      "Q44\n",
      "What is the main reason why you are more likely to pursue a research career? \n",
      "********\n",
      "Q44.a\n",
      "If other, please specify\n",
      "********\n",
      "Q45:1\n",
      "How did you arrive at your current career decision?  Plea...\n",
      "********\n",
      "Q45:2\n",
      "How did you arrive at your current career decision?  Plea...\n",
      "********\n",
      "Q45:3\n",
      "How did you arrive at your current career decision?  Plea...\n",
      "********\n",
      "Q45:4\n",
      "How did you arrive at your current career decision?  Plea...\n",
      "********\n",
      "Q45:5\n",
      "How did you arrive at your current career decision?  Plea...\n",
      "********\n",
      "Q45:6\n",
      "How did you arrive at your current career decision?  Plea...\n",
      "********\n",
      "Q45:7\n",
      "How did you arrive at your current career decision?  Plea...\n",
      "********\n",
      "Q45:8\n",
      "How did you arrive at your current career decision?  Plea...\n",
      "********\n",
      "Q45:9\n",
      "How did you arrive at your current career decision?  Plea...\n",
      "********\n",
      "Q45:10\n",
      "How did you arrive at your current career decision?  Plea...\n",
      "********\n",
      "Q45:11\n",
      "How did you arrive at your current career decision?  Plea...\n",
      "********\n",
      "Q45.a\n",
      "If other, please specify\n",
      "********\n",
      "Q46:1\n",
      "How do you learn about available career opportunities that are beyond academia?\n",
      "********\n",
      "Q46:2\n",
      "How do you learn about available career opportunities that are beyond academia?\n",
      "********\n",
      "Q46:3\n",
      "How do you learn about available career opportunities that are beyond academia?\n",
      "********\n",
      "Q46:4\n",
      "How do you learn about available career opportunities that are beyond academia?\n",
      "********\n",
      "Q46:5\n",
      "How do you learn about available career opportunities that are beyond academia?\n",
      "********\n",
      "Q46:6\n",
      "How do you learn about available career opportunities that are beyond academia?\n",
      "********\n",
      "Q46:7\n",
      "How do you learn about available career opportunities that are beyond academia?\n",
      "********\n",
      "Q46:8\n",
      "How do you learn about available career opportunities that are beyond academia?\n",
      "********\n",
      "Q46:9\n",
      "How do you learn about available career opportunities that are beyond academia?\n",
      "********\n",
      "Q46:10\n",
      "How do you learn about available career opportunities that are beyond academia?\n",
      "********\n",
      "Q46:11\n",
      "How do you learn about available career opportunities that are beyond academia?\n",
      "********\n",
      "Q46:12\n",
      "How do you learn about available career opportunities that are beyond academia?\n",
      "********\n",
      "Q46:13\n",
      "How do you learn about available career opportunities that are beyond academia?\n",
      "********\n",
      "Q46:14\n",
      "How do you learn about available career opportunities that are beyond academia?\n",
      "********\n",
      "Q46.a\n",
      "If other, please specify\n",
      "********\n",
      "Q47:1\n",
      "Which of the following 3 things would you say are the most difficult for PhD students in your discipline?  \n",
      "********\n",
      "Q47:2\n",
      "Which of the following 3 things would you say are the most difficult for PhD students in your discipline?  \n",
      "********\n",
      "Q47:3\n",
      "Which of the following 3 things would you say are the most difficult for PhD students in your discipline?  \n",
      "********\n",
      "Q47:4\n",
      "Which of the following 3 things would you say are the most difficult for PhD students in your discipline?  \n",
      "********\n",
      "Q47:5\n",
      "Which of the following 3 things would you say are the most difficult for PhD students in your discipline?  \n",
      "********\n",
      "Q47:6\n",
      "Which of the following 3 things would you say are the most difficult for PhD students in your discipline?  \n",
      "********\n",
      "Q47:7\n",
      "Which of the following 3 things would you say are the most difficult for PhD students in your discipline?  \n",
      "********\n",
      "Q47:8\n",
      "Which of the following 3 things would you say are the most difficult for PhD students in your discipline?  \n",
      "********\n",
      "Q47:9\n",
      "Which of the following 3 things would you say are the most difficult for PhD students in your discipline?  \n",
      "********\n",
      "Q47.a\n",
      "If other, please specify\n",
      "********\n",
      "Q48:1\n",
      "Which of the following would you say are the most difficult for PhD students in the country where you are studying?\n",
      "********\n",
      "Q48:2\n",
      "Which of the following would you say are the most difficult for PhD students in the country where you are studying?\n",
      "********\n",
      "Q48:3\n",
      "Which of the following would you say are the most difficult for PhD students in the country where you are studying?\n",
      "********\n",
      "Q48:4\n",
      "Which of the following would you say are the most difficult for PhD students in the country where you are studying?\n",
      "********\n",
      "Q48:5\n",
      "Which of the following would you say are the most difficult for PhD students in the country where you are studying?\n",
      "********\n",
      "Q48:6\n",
      "Which of the following would you say are the most difficult for PhD students in the country where you are studying?\n",
      "********\n",
      "Q48:7\n",
      "Which of the following would you say are the most difficult for PhD students in the country where you are studying?\n",
      "********\n",
      "Q48.a\n",
      "If other, please specify\n",
      "********\n",
      "Q49:1\n",
      "Which of the following resources do you think PhD students need the most in order to establish a satisfying career? \n",
      "********\n",
      "Q49:2\n",
      "Which of the following resources do you think PhD students need the most in order to establish a satisfying career? \n",
      "********\n",
      "Q49:3\n",
      "Which of the following resources do you think PhD students need the most in order to establish a satisfying career? \n",
      "********\n",
      "Q49:4\n",
      "Which of the following resources do you think PhD students need the most in order to establish a satisfying career? \n",
      "********\n",
      "Q49:5\n",
      "Which of the following resources do you think PhD students need the most in order to establish a satisfying career? \n",
      "********\n",
      "Q49:6\n",
      "Which of the following resources do you think PhD students need the most in order to establish a satisfying career? \n",
      "********\n",
      "Q49:7\n",
      "Which of the following resources do you think PhD students need the most in order to establish a satisfying career? \n",
      "********\n",
      "Q49:8\n",
      "Which of the following resources do you think PhD students need the most in order to establish a satisfying career? \n",
      "********\n",
      "Q49.a\n",
      "If other, please specify\n",
      "********\n",
      "Q50.a\n",
      "Collecting data\n",
      "********\n",
      "Q50.b\n",
      "Analysing data\n",
      "********\n",
      "Q50.c\n",
      "Designing robust reproducible experiments\n",
      "********\n",
      "Q50.d\n",
      "Writing a paper for publication in a peer-reviewed journal\n",
      "********\n",
      "Q50.e\n",
      "Developing  resilience to manage rejection by a peer review panel\n",
      "********\n",
      "Q50.f\n",
      "Presenting findings to a specialist audience\n",
      "********\n",
      "Q50.g\n",
      "Presenting findings to a non-specialist (public) audience\n",
      "********\n",
      "Q50.h\n",
      "Applying for funding\n",
      "********\n",
      "Q50.i\n",
      "Finding a satisfying career\n",
      "********\n",
      "Q50.j\n",
      "Managing complex projects\n",
      "********\n",
      "Q50.k\n",
      "Developing a business plan\n",
      "********\n",
      "Q50.l\n",
      "Managing people\n",
      "********\n",
      "Q50.m\n",
      "Managing a large operational budget\n",
      "********\n",
      "Q51.a\n",
      "I feel that my programme is preparing me well for a research career\n",
      "********\n",
      "Q51.b\n",
      "I feel that my programme is preparing me well for a non-research science-related career \n",
      "********\n",
      "Q51.c\n",
      "I feel that my programme is preparing me well for a career that straddles both industry and academia\n",
      "********\n",
      "Q52:1\n",
      "Which, if any, of the following activities have you done to advance your career? \n",
      "********\n",
      "Q52:2\n",
      "Which, if any, of the following activities have you done to advance your career? \n",
      "********\n",
      "Q52:3\n",
      "Which, if any, of the following activities have you done to advance your career? \n",
      "********\n",
      "Q52:4\n",
      "Which, if any, of the following activities have you done to advance your career? \n",
      "********\n",
      "Q52:5\n",
      "Which, if any, of the following activities have you done to advance your career? \n",
      "********\n",
      "Q52:6\n",
      "Which, if any, of the following activities have you done to advance your career? \n",
      "********\n",
      "Q52:7\n",
      "Which, if any, of the following activities have you done to advance your career? \n",
      "********\n",
      "Q52:8\n",
      "Which, if any, of the following activities have you done to advance your career? \n",
      "********\n",
      "Q52.a\n",
      "If other, please specify\n",
      "********\n",
      "Q53:1\n",
      "Which of the following social media networks have you used to build your professional network? \n",
      "********\n",
      "Q53:2\n",
      "Which of the following social media networks have you used to build your professional network? \n",
      "********\n",
      "Q53:3\n",
      "Which of the following social media networks have you used to build your professional network? \n",
      "********\n",
      "Q53:4\n",
      "Which of the following social media networks have you used to build your professional network? \n",
      "********\n",
      "Q53:5\n",
      "Which of the following social media networks have you used to build your professional network? \n",
      "********\n",
      "Q53:6\n",
      "Which of the following social media networks have you used to build your professional network? \n",
      "********\n",
      "Q53:7\n",
      "Which of the following social media networks have you used to build your professional network? \n",
      "********\n",
      "Q53.a\n",
      "If other, please specify\n",
      "********\n",
      "Q54:1\n",
      "What would you do differently right now if you were starting your programme? \n",
      "********\n",
      "Q54:2\n",
      "What would you do differently right now if you were starting your programme? \n",
      "********\n",
      "Q54:3\n",
      "What would you do differently right now if you were starting your programme? \n",
      "********\n",
      "Q54:4\n",
      "What would you do differently right now if you were starting your programme? \n",
      "********\n",
      "Q54:5\n",
      "What would you do differently right now if you were starting your programme? \n",
      "********\n",
      "Q54.a\n",
      "If other, please specify\n",
      "********\n",
      "Q55\n",
      "With the benefit of hindsight, what one thing do you know now which you wish you’d known about when you started your PhD?\n",
      "********\n",
      "Q56\n",
      "What is your age?\n",
      "********\n",
      "Q57\n",
      "Are you…\n",
      "********\n",
      "Q58:1\n",
      "Which of the following best describes you?\n",
      "********\n",
      "Q58:2\n",
      "Which of the following best describes you?\n",
      "********\n",
      "Q58:3\n",
      "Which of the following best describes you?\n",
      "********\n",
      "Q58:4\n",
      "Which of the following best describes you?\n",
      "********\n",
      "Q58:5\n",
      "Which of the following best describes you?\n",
      "********\n",
      "Q58:6\n",
      "Which of the following best describes you?\n",
      "********\n",
      "Q58:7\n",
      "Which of the following best describes you?\n",
      "********\n",
      "Q58:8\n",
      "Which of the following best describes you?\n",
      "********\n",
      "Q58:9\n",
      "Which of the following best describes you?\n",
      "********\n",
      "Q58:10\n",
      "Which of the following best describes you?\n",
      "********\n",
      "Q58:11\n",
      "Which of the following best describes you?\n",
      "********\n",
      "Q58:12\n",
      "Which of the following best describes you?\n",
      "********\n",
      "Q58.a\n",
      "If other, please specify\n",
      "********\n",
      "Q59:1\n",
      "Do you have any caring responsibilities?\n",
      "********\n",
      "Q59:2\n",
      "Do you have any caring responsibilities?\n",
      "********\n",
      "Q59:3\n",
      "Do you have any caring responsibilities?\n",
      "********\n",
      "Q59:4\n",
      "Do you have any caring responsibilities?\n",
      "********\n",
      "Q59:5\n",
      "Do you have any caring responsibilities?\n",
      "********\n",
      "Q59.a\n",
      "If other, please specify\n",
      "********\n",
      "Q60\n",
      "Thank you for taking part in the survey. Are there any mo...\n",
      "********\n",
      "Q61\n",
      "Would you like to be entered into the prize draw to win G...\n",
      "********\n",
      "Q62\n",
      "Nature may want to contact you again to ask for more info...\n",
      "********\n",
      "Q63\n",
      "Springer Nature is keen to update PhD students with advic...\n",
      "********\n",
      "Q64\n",
      "Shift Learning carry out paid research in the education s...\n",
      "********\n",
      "Q65.a\n",
      "Name:\n",
      "********\n",
      "Q65.b\n",
      "Email address:\n"
     ]
    }
   ],
   "source": [
    "# print out a list of the questions\n",
    "question_list=list(df.columns)[9:]\n",
    "for q in question_list:\n",
    "    print('********')\n",
    "    print(q)\n",
    "    print(df[q][0])"
   ]
  },
  {
   "cell_type": "markdown",
   "metadata": {},
   "source": [
    "#### Target"
   ]
  },
  {
   "cell_type": "markdown",
   "metadata": {},
   "source": [
    "Our target column is Q28"
   ]
  },
  {
   "cell_type": "code",
   "execution_count": 7,
   "metadata": {},
   "outputs": [
    {
     "data": {
      "text/plain": [
       "No                                                                          4083\n",
       "Yes                                                                         2429\n",
       "Prefer not to say                                                            292\n",
       "Have you ever sought help for anxiety or depression caused by PhD study?       1\n",
       "Name: Q28, dtype: int64"
      ]
     },
     "execution_count": 7,
     "metadata": {},
     "output_type": "execute_result"
    }
   ],
   "source": [
    "# check values for target\n",
    "df['Q28'].value_counts()"
   ]
  },
  {
   "cell_type": "code",
   "execution_count": 8,
   "metadata": {},
   "outputs": [
    {
     "data": {
      "text/plain": [
       "No                                                                          0.600000\n",
       "Yes                                                                         0.356943\n",
       "Prefer not to say                                                           0.042910\n",
       "Have you ever sought help for anxiety or depression caused by PhD study?    0.000147\n",
       "Name: Q28, dtype: float64"
      ]
     },
     "execution_count": 8,
     "metadata": {},
     "output_type": "execute_result"
    }
   ],
   "source": [
    "df['Q28'].value_counts(normalize=True)"
   ]
  },
  {
   "cell_type": "markdown",
   "metadata": {},
   "source": [
    "There are 4083 Nos and 2429 Yeses. There's a little bit of class imbalance, but not too bad."
   ]
  },
  {
   "cell_type": "code",
   "execution_count": 9,
   "metadata": {},
   "outputs": [
    {
     "data": {
      "text/plain": [
       "8"
      ]
     },
     "execution_count": 9,
     "metadata": {},
     "output_type": "execute_result"
    }
   ],
   "source": [
    "# check null values\n",
    "df['Q28'].isna().sum()"
   ]
  },
  {
   "cell_type": "markdown",
   "metadata": {},
   "source": [
    "There are not many \"prefer not to say\"s or null values, so we can safely drop them."
   ]
  },
  {
   "cell_type": "code",
   "execution_count": 10,
   "metadata": {},
   "outputs": [
    {
     "data": {
      "text/html": [
       "<div>\n",
       "<style scoped>\n",
       "    .dataframe tbody tr th:only-of-type {\n",
       "        vertical-align: middle;\n",
       "    }\n",
       "\n",
       "    .dataframe tbody tr th {\n",
       "        vertical-align: top;\n",
       "    }\n",
       "\n",
       "    .dataframe thead th {\n",
       "        text-align: right;\n",
       "    }\n",
       "</style>\n",
       "<table border=\"1\" class=\"dataframe\">\n",
       "  <thead>\n",
       "    <tr style=\"text-align: right;\">\n",
       "      <th></th>\n",
       "      <th>ID.format</th>\n",
       "      <th>ID.completed</th>\n",
       "      <th>ID.language</th>\n",
       "      <th>ID.site</th>\n",
       "      <th>ID.date</th>\n",
       "      <th>ID.start</th>\n",
       "      <th>ID.endDate</th>\n",
       "      <th>ID.end</th>\n",
       "      <th>ID.time</th>\n",
       "      <th>Q1</th>\n",
       "      <th>...</th>\n",
       "      <th>Q59:4</th>\n",
       "      <th>Q59:5</th>\n",
       "      <th>Q59.a</th>\n",
       "      <th>Q60</th>\n",
       "      <th>Q61</th>\n",
       "      <th>Q62</th>\n",
       "      <th>Q63</th>\n",
       "      <th>Q64</th>\n",
       "      <th>Q65.a</th>\n",
       "      <th>Q65.b</th>\n",
       "    </tr>\n",
       "  </thead>\n",
       "  <tbody>\n",
       "    <tr>\n",
       "      <th>0</th>\n",
       "      <td>The published format which was employed</td>\n",
       "      <td>Case completed in Snap Interviewer</td>\n",
       "      <td>What language would you like to complete the s...</td>\n",
       "      <td>Questionnaire location</td>\n",
       "      <td>Date of interview</td>\n",
       "      <td>Time interview started</td>\n",
       "      <td>Completion date of interview</td>\n",
       "      <td>Time interview ended</td>\n",
       "      <td>Duration of interview</td>\n",
       "      <td>Which, if any, of the following degrees are yo...</td>\n",
       "      <td>...</td>\n",
       "      <td>Do you have any caring responsibilities?</td>\n",
       "      <td>Do you have any caring responsibilities?</td>\n",
       "      <td>If other, please specify</td>\n",
       "      <td>Thank you for taking part in the survey. Are t...</td>\n",
       "      <td>Would you like to be entered into the prize dr...</td>\n",
       "      <td>Nature may want to contact you again to ask fo...</td>\n",
       "      <td>Springer Nature is keen to update PhD students...</td>\n",
       "      <td>Shift Learning carry out paid research in the ...</td>\n",
       "      <td>Name:</td>\n",
       "      <td>Email address:</td>\n",
       "    </tr>\n",
       "    <tr>\n",
       "      <th>1</th>\n",
       "      <td>SNAP 2015 SHIFT</td>\n",
       "      <td>completed</td>\n",
       "      <td>Spanish</td>\n",
       "      <td>NaN</td>\n",
       "      <td>06/14/2019</td>\n",
       "      <td>16:46:41</td>\n",
       "      <td>06/14/2019</td>\n",
       "      <td>17:36:11</td>\n",
       "      <td>49.5</td>\n",
       "      <td>Doctorate degree (PhD/DPhil/MD)</td>\n",
       "      <td>...</td>\n",
       "      <td>NaN</td>\n",
       "      <td>NaN</td>\n",
       "      <td>NaN</td>\n",
       "      <td>Felicidades por esta encuesta. Pienso que se h...</td>\n",
       "      <td>Yes</td>\n",
       "      <td>Yes</td>\n",
       "      <td>Yes, I would like Nature Careers to contact me...</td>\n",
       "      <td>Yes, I would like to join the Shift Learning r...</td>\n",
       "      <td>1</td>\n",
       "      <td>NaN</td>\n",
       "    </tr>\n",
       "    <tr>\n",
       "      <th>2</th>\n",
       "      <td>SNAP 2015 SHIFT</td>\n",
       "      <td>completed</td>\n",
       "      <td>English</td>\n",
       "      <td>NaN</td>\n",
       "      <td>06/14/2019</td>\n",
       "      <td>17:10:02</td>\n",
       "      <td>06/14/2019</td>\n",
       "      <td>17:38:25</td>\n",
       "      <td>28.38</td>\n",
       "      <td>Doctorate degree (PhD/DPhil/MD)</td>\n",
       "      <td>...</td>\n",
       "      <td>No</td>\n",
       "      <td>NaN</td>\n",
       "      <td>NaN</td>\n",
       "      <td>NaN</td>\n",
       "      <td>Yes</td>\n",
       "      <td>Yes</td>\n",
       "      <td>Yes, I would like Nature Careers to contact me...</td>\n",
       "      <td>Yes, I would like to join the Shift Learning r...</td>\n",
       "      <td>2</td>\n",
       "      <td>NaN</td>\n",
       "    </tr>\n",
       "    <tr>\n",
       "      <th>3</th>\n",
       "      <td>SNAP 2015 SHIFT</td>\n",
       "      <td>completed</td>\n",
       "      <td>English</td>\n",
       "      <td>NaN</td>\n",
       "      <td>06/14/2019</td>\n",
       "      <td>17:15:21</td>\n",
       "      <td>06/14/2019</td>\n",
       "      <td>17:39:13</td>\n",
       "      <td>23.87</td>\n",
       "      <td>Doctorate degree (PhD/DPhil/MD)</td>\n",
       "      <td>...</td>\n",
       "      <td>No</td>\n",
       "      <td>NaN</td>\n",
       "      <td>NaN</td>\n",
       "      <td>NaN</td>\n",
       "      <td>Yes</td>\n",
       "      <td>Yes</td>\n",
       "      <td>NaN</td>\n",
       "      <td>NaN</td>\n",
       "      <td>3</td>\n",
       "      <td>NaN</td>\n",
       "    </tr>\n",
       "    <tr>\n",
       "      <th>4</th>\n",
       "      <td>SNAP 2015 SHIFT</td>\n",
       "      <td>completed</td>\n",
       "      <td>English</td>\n",
       "      <td>NaN</td>\n",
       "      <td>06/14/2019</td>\n",
       "      <td>16:51:28</td>\n",
       "      <td>06/14/2019</td>\n",
       "      <td>17:46:58</td>\n",
       "      <td>55.5</td>\n",
       "      <td>Doctorate degree (PhD/DPhil/MD)</td>\n",
       "      <td>...</td>\n",
       "      <td>No</td>\n",
       "      <td>NaN</td>\n",
       "      <td>NaN</td>\n",
       "      <td>NaN</td>\n",
       "      <td>Yes</td>\n",
       "      <td>Yes</td>\n",
       "      <td>Yes, I would like Nature Careers to contact me...</td>\n",
       "      <td>Yes, I would like to join the Shift Learning r...</td>\n",
       "      <td>4</td>\n",
       "      <td>NaN</td>\n",
       "    </tr>\n",
       "    <tr>\n",
       "      <th>...</th>\n",
       "      <td>...</td>\n",
       "      <td>...</td>\n",
       "      <td>...</td>\n",
       "      <td>...</td>\n",
       "      <td>...</td>\n",
       "      <td>...</td>\n",
       "      <td>...</td>\n",
       "      <td>...</td>\n",
       "      <td>...</td>\n",
       "      <td>...</td>\n",
       "      <td>...</td>\n",
       "      <td>...</td>\n",
       "      <td>...</td>\n",
       "      <td>...</td>\n",
       "      <td>...</td>\n",
       "      <td>...</td>\n",
       "      <td>...</td>\n",
       "      <td>...</td>\n",
       "      <td>...</td>\n",
       "      <td>...</td>\n",
       "      <td>...</td>\n",
       "    </tr>\n",
       "    <tr>\n",
       "      <th>6808</th>\n",
       "      <td>SNAP 2015 SHIFT</td>\n",
       "      <td>completed</td>\n",
       "      <td>English</td>\n",
       "      <td>NaN</td>\n",
       "      <td>06/14/2019</td>\n",
       "      <td>16:51:46</td>\n",
       "      <td>06/14/2019</td>\n",
       "      <td>17:07:47</td>\n",
       "      <td>16.02</td>\n",
       "      <td>Doctorate degree (PhD/DPhil/MD)</td>\n",
       "      <td>...</td>\n",
       "      <td>No</td>\n",
       "      <td>NaN</td>\n",
       "      <td>NaN</td>\n",
       "      <td>NaN</td>\n",
       "      <td>Yes</td>\n",
       "      <td>Yes</td>\n",
       "      <td>NaN</td>\n",
       "      <td>NaN</td>\n",
       "      <td>9835</td>\n",
       "      <td>NaN</td>\n",
       "    </tr>\n",
       "    <tr>\n",
       "      <th>6809</th>\n",
       "      <td>SNAP 2015 SHIFT</td>\n",
       "      <td>completed</td>\n",
       "      <td>English</td>\n",
       "      <td>NaN</td>\n",
       "      <td>06/14/2019</td>\n",
       "      <td>16:54:50</td>\n",
       "      <td>06/14/2019</td>\n",
       "      <td>17:08:17</td>\n",
       "      <td>13.45</td>\n",
       "      <td>Doctorate degree (PhD/DPhil/MD)</td>\n",
       "      <td>...</td>\n",
       "      <td>No</td>\n",
       "      <td>NaN</td>\n",
       "      <td>NaN</td>\n",
       "      <td>NaN</td>\n",
       "      <td>Yes</td>\n",
       "      <td>Yes</td>\n",
       "      <td>Yes, I would like Nature Careers to contact me...</td>\n",
       "      <td>Yes, I would like to join the Shift Learning r...</td>\n",
       "      <td>9836</td>\n",
       "      <td>NaN</td>\n",
       "    </tr>\n",
       "    <tr>\n",
       "      <th>6810</th>\n",
       "      <td>SNAP 2015 SHIFT</td>\n",
       "      <td>completed</td>\n",
       "      <td>English</td>\n",
       "      <td>NaN</td>\n",
       "      <td>06/14/2019</td>\n",
       "      <td>16:58:30</td>\n",
       "      <td>06/14/2019</td>\n",
       "      <td>17:19:23</td>\n",
       "      <td>20.88</td>\n",
       "      <td>Doctorate degree (PhD/DPhil/MD)</td>\n",
       "      <td>...</td>\n",
       "      <td>No</td>\n",
       "      <td>NaN</td>\n",
       "      <td>NaN</td>\n",
       "      <td>NaN</td>\n",
       "      <td>Yes</td>\n",
       "      <td>No</td>\n",
       "      <td>NaN</td>\n",
       "      <td>NaN</td>\n",
       "      <td>9837</td>\n",
       "      <td>NaN</td>\n",
       "    </tr>\n",
       "    <tr>\n",
       "      <th>6811</th>\n",
       "      <td>SNAP 2015 SHIFT</td>\n",
       "      <td>completed</td>\n",
       "      <td>English</td>\n",
       "      <td>NaN</td>\n",
       "      <td>06/14/2019</td>\n",
       "      <td>15:10:17</td>\n",
       "      <td>06/14/2019</td>\n",
       "      <td>17:21:02</td>\n",
       "      <td>130.75</td>\n",
       "      <td>Doctorate degree (PhD/DPhil/MD)</td>\n",
       "      <td>...</td>\n",
       "      <td>No</td>\n",
       "      <td>NaN</td>\n",
       "      <td>NaN</td>\n",
       "      <td>NaN</td>\n",
       "      <td>Yes</td>\n",
       "      <td>Yes</td>\n",
       "      <td>Yes, I would like Nature Careers to contact me...</td>\n",
       "      <td>Yes, I would like to join the Shift Learning r...</td>\n",
       "      <td>9838</td>\n",
       "      <td>NaN</td>\n",
       "    </tr>\n",
       "    <tr>\n",
       "      <th>6812</th>\n",
       "      <td>SNAP 2015 SHIFT</td>\n",
       "      <td>completed</td>\n",
       "      <td>English</td>\n",
       "      <td>NaN</td>\n",
       "      <td>06/14/2019</td>\n",
       "      <td>17:11:57</td>\n",
       "      <td>06/14/2019</td>\n",
       "      <td>17:27:22</td>\n",
       "      <td>15.42</td>\n",
       "      <td>Doctorate degree (PhD/DPhil/MD)</td>\n",
       "      <td>...</td>\n",
       "      <td>NaN</td>\n",
       "      <td>NaN</td>\n",
       "      <td>NaN</td>\n",
       "      <td>NaN</td>\n",
       "      <td>Yes</td>\n",
       "      <td>Yes</td>\n",
       "      <td>NaN</td>\n",
       "      <td>NaN</td>\n",
       "      <td>9839</td>\n",
       "      <td>NaN</td>\n",
       "    </tr>\n",
       "  </tbody>\n",
       "</table>\n",
       "<p>6805 rows × 274 columns</p>\n",
       "</div>"
      ],
      "text/plain": [
       "                                    ID.format  \\\n",
       "0     The published format which was employed   \n",
       "1                            SNAP 2015 SHIFT    \n",
       "2                            SNAP 2015 SHIFT    \n",
       "3                            SNAP 2015 SHIFT    \n",
       "4                            SNAP 2015 SHIFT    \n",
       "...                                       ...   \n",
       "6808                         SNAP 2015 SHIFT    \n",
       "6809                         SNAP 2015 SHIFT    \n",
       "6810                         SNAP 2015 SHIFT    \n",
       "6811                         SNAP 2015 SHIFT    \n",
       "6812                         SNAP 2015 SHIFT    \n",
       "\n",
       "                            ID.completed  \\\n",
       "0     Case completed in Snap Interviewer   \n",
       "1                              completed   \n",
       "2                              completed   \n",
       "3                              completed   \n",
       "4                              completed   \n",
       "...                                  ...   \n",
       "6808                           completed   \n",
       "6809                           completed   \n",
       "6810                           completed   \n",
       "6811                           completed   \n",
       "6812                           completed   \n",
       "\n",
       "                                            ID.language  \\\n",
       "0     What language would you like to complete the s...   \n",
       "1                                               Spanish   \n",
       "2                                               English   \n",
       "3                                               English   \n",
       "4                                               English   \n",
       "...                                                 ...   \n",
       "6808                                            English   \n",
       "6809                                            English   \n",
       "6810                                            English   \n",
       "6811                                            English   \n",
       "6812                                            English   \n",
       "\n",
       "                     ID.site            ID.date                ID.start  \\\n",
       "0     Questionnaire location  Date of interview  Time interview started   \n",
       "1                        NaN         06/14/2019                16:46:41   \n",
       "2                        NaN         06/14/2019                17:10:02   \n",
       "3                        NaN         06/14/2019                17:15:21   \n",
       "4                        NaN         06/14/2019                16:51:28   \n",
       "...                      ...                ...                     ...   \n",
       "6808                     NaN         06/14/2019                16:51:46   \n",
       "6809                     NaN         06/14/2019                16:54:50   \n",
       "6810                     NaN         06/14/2019                16:58:30   \n",
       "6811                     NaN         06/14/2019                15:10:17   \n",
       "6812                     NaN         06/14/2019                17:11:57   \n",
       "\n",
       "                        ID.endDate                ID.end  \\\n",
       "0     Completion date of interview  Time interview ended   \n",
       "1                       06/14/2019              17:36:11   \n",
       "2                       06/14/2019              17:38:25   \n",
       "3                       06/14/2019              17:39:13   \n",
       "4                       06/14/2019              17:46:58   \n",
       "...                            ...                   ...   \n",
       "6808                    06/14/2019              17:07:47   \n",
       "6809                    06/14/2019              17:08:17   \n",
       "6810                    06/14/2019              17:19:23   \n",
       "6811                    06/14/2019              17:21:02   \n",
       "6812                    06/14/2019              17:27:22   \n",
       "\n",
       "                    ID.time  \\\n",
       "0     Duration of interview   \n",
       "1                      49.5   \n",
       "2                     28.38   \n",
       "3                     23.87   \n",
       "4                      55.5   \n",
       "...                     ...   \n",
       "6808                  16.02   \n",
       "6809                  13.45   \n",
       "6810                  20.88   \n",
       "6811                 130.75   \n",
       "6812                  15.42   \n",
       "\n",
       "                                                     Q1  ...  \\\n",
       "0     Which, if any, of the following degrees are yo...  ...   \n",
       "1                       Doctorate degree (PhD/DPhil/MD)  ...   \n",
       "2                       Doctorate degree (PhD/DPhil/MD)  ...   \n",
       "3                       Doctorate degree (PhD/DPhil/MD)  ...   \n",
       "4                       Doctorate degree (PhD/DPhil/MD)  ...   \n",
       "...                                                 ...  ...   \n",
       "6808                    Doctorate degree (PhD/DPhil/MD)  ...   \n",
       "6809                    Doctorate degree (PhD/DPhil/MD)  ...   \n",
       "6810                    Doctorate degree (PhD/DPhil/MD)  ...   \n",
       "6811                    Doctorate degree (PhD/DPhil/MD)  ...   \n",
       "6812                    Doctorate degree (PhD/DPhil/MD)  ...   \n",
       "\n",
       "                                         Q59:4  \\\n",
       "0     Do you have any caring responsibilities?   \n",
       "1                                          NaN   \n",
       "2                                           No   \n",
       "3                                           No   \n",
       "4                                           No   \n",
       "...                                        ...   \n",
       "6808                                        No   \n",
       "6809                                        No   \n",
       "6810                                        No   \n",
       "6811                                        No   \n",
       "6812                                       NaN   \n",
       "\n",
       "                                         Q59:5                     Q59.a  \\\n",
       "0     Do you have any caring responsibilities?  If other, please specify   \n",
       "1                                          NaN                       NaN   \n",
       "2                                          NaN                       NaN   \n",
       "3                                          NaN                       NaN   \n",
       "4                                          NaN                       NaN   \n",
       "...                                        ...                       ...   \n",
       "6808                                       NaN                       NaN   \n",
       "6809                                       NaN                       NaN   \n",
       "6810                                       NaN                       NaN   \n",
       "6811                                       NaN                       NaN   \n",
       "6812                                       NaN                       NaN   \n",
       "\n",
       "                                                    Q60  \\\n",
       "0     Thank you for taking part in the survey. Are t...   \n",
       "1     Felicidades por esta encuesta. Pienso que se h...   \n",
       "2                                                   NaN   \n",
       "3                                                   NaN   \n",
       "4                                                   NaN   \n",
       "...                                                 ...   \n",
       "6808                                                NaN   \n",
       "6809                                                NaN   \n",
       "6810                                                NaN   \n",
       "6811                                                NaN   \n",
       "6812                                                NaN   \n",
       "\n",
       "                                                    Q61  \\\n",
       "0     Would you like to be entered into the prize dr...   \n",
       "1                                                   Yes   \n",
       "2                                                   Yes   \n",
       "3                                                   Yes   \n",
       "4                                                   Yes   \n",
       "...                                                 ...   \n",
       "6808                                                Yes   \n",
       "6809                                                Yes   \n",
       "6810                                                Yes   \n",
       "6811                                                Yes   \n",
       "6812                                                Yes   \n",
       "\n",
       "                                                    Q62  \\\n",
       "0     Nature may want to contact you again to ask fo...   \n",
       "1                                                   Yes   \n",
       "2                                                   Yes   \n",
       "3                                                   Yes   \n",
       "4                                                   Yes   \n",
       "...                                                 ...   \n",
       "6808                                                Yes   \n",
       "6809                                                Yes   \n",
       "6810                                                 No   \n",
       "6811                                                Yes   \n",
       "6812                                                Yes   \n",
       "\n",
       "                                                    Q63  \\\n",
       "0     Springer Nature is keen to update PhD students...   \n",
       "1     Yes, I would like Nature Careers to contact me...   \n",
       "2     Yes, I would like Nature Careers to contact me...   \n",
       "3                                                   NaN   \n",
       "4     Yes, I would like Nature Careers to contact me...   \n",
       "...                                                 ...   \n",
       "6808                                                NaN   \n",
       "6809  Yes, I would like Nature Careers to contact me...   \n",
       "6810                                                NaN   \n",
       "6811  Yes, I would like Nature Careers to contact me...   \n",
       "6812                                                NaN   \n",
       "\n",
       "                                                    Q64  Q65.a           Q65.b  \n",
       "0     Shift Learning carry out paid research in the ...  Name:  Email address:  \n",
       "1     Yes, I would like to join the Shift Learning r...      1             NaN  \n",
       "2     Yes, I would like to join the Shift Learning r...      2             NaN  \n",
       "3                                                   NaN      3             NaN  \n",
       "4     Yes, I would like to join the Shift Learning r...      4             NaN  \n",
       "...                                                 ...    ...             ...  \n",
       "6808                                                NaN   9835             NaN  \n",
       "6809  Yes, I would like to join the Shift Learning r...   9836             NaN  \n",
       "6810                                                NaN   9837             NaN  \n",
       "6811  Yes, I would like to join the Shift Learning r...   9838             NaN  \n",
       "6812                                                NaN   9839             NaN  \n",
       "\n",
       "[6805 rows x 274 columns]"
      ]
     },
     "execution_count": 10,
     "metadata": {},
     "output_type": "execute_result"
    }
   ],
   "source": [
    "df=df.dropna(subset=['Q28'])\n",
    "df"
   ]
  },
  {
   "cell_type": "code",
   "execution_count": 11,
   "metadata": {},
   "outputs": [
    {
     "data": {
      "text/plain": [
       "No                                                                          4083\n",
       "Yes                                                                         2429\n",
       "Prefer not to say                                                            292\n",
       "Have you ever sought help for anxiety or depression caused by PhD study?       1\n",
       "Name: Q28, dtype: int64"
      ]
     },
     "execution_count": 11,
     "metadata": {},
     "output_type": "execute_result"
    }
   ],
   "source": [
    "# check if those rows are sucessfully dropped\n",
    "df['Q28'].value_counts()"
   ]
  },
  {
   "cell_type": "code",
   "execution_count": 12,
   "metadata": {},
   "outputs": [],
   "source": [
    "# drop \"Prefer not to say\"s\n",
    "df=df[df['Q28']!='Prefer not to say']"
   ]
  },
  {
   "cell_type": "code",
   "execution_count": 13,
   "metadata": {},
   "outputs": [
    {
     "data": {
      "text/plain": [
       "No                                                                          4083\n",
       "Yes                                                                         2429\n",
       "Have you ever sought help for anxiety or depression caused by PhD study?       1\n",
       "Name: Q28, dtype: int64"
      ]
     },
     "execution_count": 13,
     "metadata": {},
     "output_type": "execute_result"
    }
   ],
   "source": [
    "# check if those rows are sucessfully dropped \n",
    "df['Q28'].value_counts()"
   ]
  },
  {
   "cell_type": "code",
   "execution_count": 14,
   "metadata": {},
   "outputs": [],
   "source": [
    "dict_target={'Yes': 1, 'No': 0}"
   ]
  },
  {
   "cell_type": "code",
   "execution_count": 15,
   "metadata": {},
   "outputs": [
    {
     "name": "stderr",
     "output_type": "stream",
     "text": [
      "<ipython-input-15-7a5e2d789d2b>:1: SettingWithCopyWarning: \n",
      "A value is trying to be set on a copy of a slice from a DataFrame.\n",
      "Try using .loc[row_indexer,col_indexer] = value instead\n",
      "\n",
      "See the caveats in the documentation: https://pandas.pydata.org/pandas-docs/stable/user_guide/indexing.html#returning-a-view-versus-a-copy\n",
      "  df['Q28']=df['Q28'].map(dict_target)\n"
     ]
    }
   ],
   "source": [
    "df['Q28']=df['Q28'].map(dict_target)"
   ]
  },
  {
   "cell_type": "code",
   "execution_count": 16,
   "metadata": {},
   "outputs": [
    {
     "data": {
      "text/plain": [
       "dtype('float64')"
      ]
     },
     "execution_count": 16,
     "metadata": {},
     "output_type": "execute_result"
    }
   ],
   "source": [
    "df['Q28'].dtype"
   ]
  },
  {
   "cell_type": "markdown",
   "metadata": {},
   "source": [
    "#### Features"
   ]
  },
  {
   "cell_type": "code",
   "execution_count": 17,
   "metadata": {},
   "outputs": [],
   "source": [
    "def info(label):\n",
    "    '''\n",
    "    input string of column name\n",
    "    output comprehensive analysis of the column\n",
    "    '''\n",
    "    print(f'column name: {label}')\n",
    "    print('     ')\n",
    "    print(f'Question: {df[label][0]}')\n",
    "    print('     ')\n",
    "    print(f'number of null values: {df[label].isna().sum()}')\n",
    "    print('     ')\n",
    "    print('Value Count:')\n",
    "    \n",
    "    print(df[label].value_counts())"
   ]
  },
  {
   "cell_type": "code",
   "execution_count": 18,
   "metadata": {},
   "outputs": [
    {
     "name": "stdout",
     "output_type": "stream",
     "text": [
      "column name: Q1\n",
      "     \n",
      "Question: Which, if any, of the following degrees are you currently studying for?\n",
      "     \n",
      "number of null values: 0\n",
      "     \n",
      "Value Count:\n",
      "Doctorate degree (PhD/DPhil/MD)                                            6294\n",
      "Dual doctorate degree (MD-PhD, PhD-PhD or other combination)                218\n",
      "Which, if any, of the following degrees are you currently studying for?       1\n",
      "Name: Q1, dtype: int64\n"
     ]
    }
   ],
   "source": [
    "# check Q1\n",
    "info('Q1')"
   ]
  },
  {
   "cell_type": "code",
   "execution_count": 19,
   "metadata": {},
   "outputs": [],
   "source": [
    "dict_Q1={'Doctorate degree (PhD/DPhil/MD)': 0, \n",
    "         'Dual doctorate degree (MD-PhD, PhD-PhD or other combination)': 1, \n",
    "         'Which, if any, of the following degrees are you currently studying for?':'dual_degree'}"
   ]
  },
  {
   "cell_type": "code",
   "execution_count": 20,
   "metadata": {},
   "outputs": [
    {
     "name": "stderr",
     "output_type": "stream",
     "text": [
      "<ipython-input-20-53e31f3f75ed>:1: SettingWithCopyWarning: \n",
      "A value is trying to be set on a copy of a slice from a DataFrame.\n",
      "Try using .loc[row_indexer,col_indexer] = value instead\n",
      "\n",
      "See the caveats in the documentation: https://pandas.pydata.org/pandas-docs/stable/user_guide/indexing.html#returning-a-view-versus-a-copy\n",
      "  df['Q1']=df['Q1'].map(dict_Q1)\n"
     ]
    }
   ],
   "source": [
    "df['Q1']=df['Q1'].map(dict_Q1)"
   ]
  },
  {
   "cell_type": "code",
   "execution_count": 21,
   "metadata": {},
   "outputs": [
    {
     "data": {
      "text/plain": [
       "0              6294\n",
       "1               218\n",
       "dual_degree       1\n",
       "Name: Q1, dtype: int64"
      ]
     },
     "execution_count": 21,
     "metadata": {},
     "output_type": "execute_result"
    }
   ],
   "source": [
    "df['Q1'].value_counts()"
   ]
  },
  {
   "cell_type": "code",
   "execution_count": 22,
   "metadata": {},
   "outputs": [
    {
     "name": "stdout",
     "output_type": "stream",
     "text": [
      "column name: Q4\n",
      "     \n",
      "Question: Are you studying in the country you grew up in?   \n",
      "     \n",
      "number of null values: 0\n",
      "     \n",
      "Value Count:\n",
      "Yes                                                   4153\n",
      " No                                                   2359\n",
      "Are you studying in the country you grew up in?          1\n",
      "Name: Q4, dtype: int64\n"
     ]
    }
   ],
   "source": [
    "info('Q4')"
   ]
  },
  {
   "cell_type": "code",
   "execution_count": 23,
   "metadata": {},
   "outputs": [],
   "source": [
    "dict_Q4={'Yes':1, ' No':0, 'Are you studying in the country you grew up in? \\xa0 ': 'home country'}"
   ]
  },
  {
   "cell_type": "code",
   "execution_count": 24,
   "metadata": {},
   "outputs": [
    {
     "name": "stderr",
     "output_type": "stream",
     "text": [
      "<ipython-input-24-80b37a29571b>:1: SettingWithCopyWarning: \n",
      "A value is trying to be set on a copy of a slice from a DataFrame.\n",
      "Try using .loc[row_indexer,col_indexer] = value instead\n",
      "\n",
      "See the caveats in the documentation: https://pandas.pydata.org/pandas-docs/stable/user_guide/indexing.html#returning-a-view-versus-a-copy\n",
      "  df['Q4']=df['Q4'].map(dict_Q4)\n"
     ]
    }
   ],
   "source": [
    "df['Q4']=df['Q4'].map(dict_Q4)"
   ]
  },
  {
   "cell_type": "code",
   "execution_count": 25,
   "metadata": {},
   "outputs": [
    {
     "data": {
      "text/plain": [
       "1               4153\n",
       "0               2359\n",
       "home country       1\n",
       "Name: Q4, dtype: int64"
      ]
     },
     "execution_count": 25,
     "metadata": {},
     "output_type": "execute_result"
    }
   ],
   "source": [
    "df['Q4'].value_counts()"
   ]
  },
  {
   "cell_type": "code",
   "execution_count": 26,
   "metadata": {},
   "outputs": [
    {
     "name": "stdout",
     "output_type": "stream",
     "text": [
      "column name: Q13\n",
      "     \n",
      "Question: Do you have a job alongside your studies?\n",
      "     \n",
      "number of null values: 0\n",
      "     \n",
      "Value Count:\n",
      "No                                           5249\n",
      "Yes                                          1263\n",
      "Do you have a job alongside your studies?       1\n",
      "Name: Q13, dtype: int64\n"
     ]
    }
   ],
   "source": [
    "info('Q13')"
   ]
  },
  {
   "cell_type": "code",
   "execution_count": 27,
   "metadata": {},
   "outputs": [
    {
     "data": {
      "text/plain": [
       "No                                           5249\n",
       "Yes                                          1263\n",
       "Do you have a job alongside your studies?       1\n",
       "Name: Q13, dtype: int64"
      ]
     },
     "execution_count": 27,
     "metadata": {},
     "output_type": "execute_result"
    }
   ],
   "source": [
    "df['Q13'].value_counts()"
   ]
  },
  {
   "cell_type": "code",
   "execution_count": 28,
   "metadata": {},
   "outputs": [
    {
     "data": {
      "text/plain": [
       "'Yes '"
      ]
     },
     "execution_count": 28,
     "metadata": {},
     "output_type": "execute_result"
    }
   ],
   "source": [
    "df[\"Q13\"][21]"
   ]
  },
  {
   "cell_type": "code",
   "execution_count": 29,
   "metadata": {},
   "outputs": [],
   "source": [
    "dict_Q13={'Yes ':1, 'No':0, 'Do you have a job alongside your studies?': 'job'}"
   ]
  },
  {
   "cell_type": "code",
   "execution_count": 30,
   "metadata": {},
   "outputs": [
    {
     "name": "stderr",
     "output_type": "stream",
     "text": [
      "<ipython-input-30-aeb4f6ca4191>:1: SettingWithCopyWarning: \n",
      "A value is trying to be set on a copy of a slice from a DataFrame.\n",
      "Try using .loc[row_indexer,col_indexer] = value instead\n",
      "\n",
      "See the caveats in the documentation: https://pandas.pydata.org/pandas-docs/stable/user_guide/indexing.html#returning-a-view-versus-a-copy\n",
      "  df['Q13']=df['Q13'].map(dict_Q13)\n"
     ]
    }
   ],
   "source": [
    "df['Q13']=df['Q13'].map(dict_Q13)"
   ]
  },
  {
   "cell_type": "code",
   "execution_count": 31,
   "metadata": {},
   "outputs": [
    {
     "name": "stdout",
     "output_type": "stream",
     "text": [
      "column name: Q31\n",
      "     \n",
      "Question: Do you feel that you have experienced bullying in your PhD program?\n",
      "     \n",
      "number of null values: 7\n",
      "     \n",
      "Value Count:\n",
      "No                                                                     4902\n",
      "Yes                                                                    1388\n",
      "Prefer not to say                                                       215\n",
      "Do you feel that you have experienced bullying in your PhD program?       1\n",
      "Name: Q31, dtype: int64\n"
     ]
    }
   ],
   "source": [
    "info('Q31')"
   ]
  },
  {
   "cell_type": "code",
   "execution_count": 32,
   "metadata": {},
   "outputs": [],
   "source": [
    "dict_Q31={'Yes':1, 'No': 0, 'Prefer not to say': 2, 'Do you feel that you have experienced bullying in your PhD program?': 'bullying'}"
   ]
  },
  {
   "cell_type": "code",
   "execution_count": 33,
   "metadata": {},
   "outputs": [
    {
     "name": "stderr",
     "output_type": "stream",
     "text": [
      "<ipython-input-33-9b6da20be755>:1: SettingWithCopyWarning: \n",
      "A value is trying to be set on a copy of a slice from a DataFrame.\n",
      "Try using .loc[row_indexer,col_indexer] = value instead\n",
      "\n",
      "See the caveats in the documentation: https://pandas.pydata.org/pandas-docs/stable/user_guide/indexing.html#returning-a-view-versus-a-copy\n",
      "  df['Q31']=df['Q31'].map(dict_Q31)\n"
     ]
    }
   ],
   "source": [
    "df['Q31']=df['Q31'].map(dict_Q31)"
   ]
  },
  {
   "cell_type": "code",
   "execution_count": 34,
   "metadata": {},
   "outputs": [
    {
     "name": "stdout",
     "output_type": "stream",
     "text": [
      "column name: Q34\n",
      "     \n",
      "Question: Do you feel that you have experienced discrimination or harassment in your PhD program?\n",
      "     \n",
      "number of null values: 24\n",
      "     \n",
      "Value Count:\n",
      "No                                                                                         4937\n",
      "Yes                                                                                        1334\n",
      "Prefer not to say                                                                           217\n",
      "Do you feel that you have experienced discrimination or harassment in your PhD program?       1\n",
      "Name: Q34, dtype: int64\n"
     ]
    }
   ],
   "source": [
    "info('Q34')"
   ]
  },
  {
   "cell_type": "code",
   "execution_count": 35,
   "metadata": {},
   "outputs": [],
   "source": [
    "dict_Q34={'Yes':1, 'No': 0, 'Prefer not to say': 2, 'Do you feel that you have experienced discrimination or harassment in your PhD program?': 'discrimination/harrassment'}"
   ]
  },
  {
   "cell_type": "code",
   "execution_count": 36,
   "metadata": {},
   "outputs": [
    {
     "name": "stderr",
     "output_type": "stream",
     "text": [
      "<ipython-input-36-d297d21c6dae>:1: SettingWithCopyWarning: \n",
      "A value is trying to be set on a copy of a slice from a DataFrame.\n",
      "Try using .loc[row_indexer,col_indexer] = value instead\n",
      "\n",
      "See the caveats in the documentation: https://pandas.pydata.org/pandas-docs/stable/user_guide/indexing.html#returning-a-view-versus-a-copy\n",
      "  df['Q34']=df['Q34'].map(dict_Q34)\n"
     ]
    }
   ],
   "source": [
    "df['Q34']=df['Q34'].map(dict_Q34)"
   ]
  },
  {
   "cell_type": "code",
   "execution_count": 37,
   "metadata": {},
   "outputs": [
    {
     "name": "stdout",
     "output_type": "stream",
     "text": [
      "column name: Q19.a\n",
      "     \n",
      "Question: How satisfied are you with your PhD experience?\n",
      "     \n",
      "number of null values: 0\n",
      "     \n",
      "Value Count:\n",
      "6                                                  2085\n",
      "5                                                  1908\n",
      "4 = Neither satisfied nor dissatisfied              717\n",
      "3                                                   659\n",
      "7 = Extremely satisfied                             592\n",
      "2                                                   360\n",
      "1 = Not at all satisfied                            191\n",
      "How satisfied are you with your PhD experience?       1\n",
      "Name: Q19.a, dtype: int64\n"
     ]
    }
   ],
   "source": [
    "info('Q19.a')"
   ]
  },
  {
   "cell_type": "markdown",
   "metadata": {},
   "source": [
    "Satisfaction is on a scale of 1 to 7, not at all satisfied to extremely satisfied. So the values just need to be reduced to numbers. "
   ]
  },
  {
   "cell_type": "code",
   "execution_count": 38,
   "metadata": {},
   "outputs": [
    {
     "name": "stderr",
     "output_type": "stream",
     "text": [
      "<ipython-input-38-a6aa1b63e538>:1: SettingWithCopyWarning: \n",
      "A value is trying to be set on a copy of a slice from a DataFrame\n",
      "\n",
      "See the caveats in the documentation: https://pandas.pydata.org/pandas-docs/stable/user_guide/indexing.html#returning-a-view-versus-a-copy\n",
      "  df['Q19.a'][1:]=df['Q19.a'][1:].map(lambda x:int(x[0]))\n",
      "/Users/elylin/opt/anaconda3/envs/learn-env/lib/python3.8/site-packages/pandas/core/indexing.py:670: SettingWithCopyWarning: \n",
      "A value is trying to be set on a copy of a slice from a DataFrame\n",
      "\n",
      "See the caveats in the documentation: https://pandas.pydata.org/pandas-docs/stable/user_guide/indexing.html#returning-a-view-versus-a-copy\n",
      "  iloc._setitem_with_indexer(indexer, value)\n",
      "/Users/elylin/opt/anaconda3/envs/learn-env/lib/python3.8/site-packages/pandas/core/series.py:1043: SettingWithCopyWarning: \n",
      "A value is trying to be set on a copy of a slice from a DataFrame\n",
      "\n",
      "See the caveats in the documentation: https://pandas.pydata.org/pandas-docs/stable/user_guide/indexing.html#returning-a-view-versus-a-copy\n",
      "  self.iloc[indexer] = extract_array(value, extract_numpy=True)\n",
      "/Users/elylin/opt/anaconda3/envs/learn-env/lib/python3.8/site-packages/IPython/core/interactiveshell.py:3417: SettingWithCopyWarning: \n",
      "A value is trying to be set on a copy of a slice from a DataFrame\n",
      "\n",
      "See the caveats in the documentation: https://pandas.pydata.org/pandas-docs/stable/user_guide/indexing.html#returning-a-view-versus-a-copy\n",
      "  exec(code_obj, self.user_global_ns, self.user_ns)\n"
     ]
    }
   ],
   "source": [
    "df['Q19.a'][1:]=df['Q19.a'][1:].map(lambda x:int(x[0]))"
   ]
  },
  {
   "cell_type": "code",
   "execution_count": 39,
   "metadata": {},
   "outputs": [
    {
     "name": "stderr",
     "output_type": "stream",
     "text": [
      "<ipython-input-39-946e16614388>:1: SettingWithCopyWarning: \n",
      "A value is trying to be set on a copy of a slice from a DataFrame\n",
      "\n",
      "See the caveats in the documentation: https://pandas.pydata.org/pandas-docs/stable/user_guide/indexing.html#returning-a-view-versus-a-copy\n",
      "  df['Q19.a'][0]='satisfaction'\n"
     ]
    }
   ],
   "source": [
    "df['Q19.a'][0]='satisfaction'"
   ]
  },
  {
   "cell_type": "code",
   "execution_count": 40,
   "metadata": {},
   "outputs": [
    {
     "data": {
      "text/plain": [
       "6               2085\n",
       "5               1908\n",
       "4                717\n",
       "3                659\n",
       "7                592\n",
       "2                360\n",
       "1                191\n",
       "satisfaction       1\n",
       "Name: Q19.a, dtype: int64"
      ]
     },
     "execution_count": 40,
     "metadata": {},
     "output_type": "execute_result"
    }
   ],
   "source": [
    "df['Q19.a'].value_counts()"
   ]
  },
  {
   "cell_type": "code",
   "execution_count": 41,
   "metadata": {},
   "outputs": [
    {
     "name": "stdout",
     "output_type": "stream",
     "text": [
      "column name: Q24\n",
      "     \n",
      "Question: On average, how many hours a week do you typically spend on your PhD programme?\n",
      "     \n",
      "number of null values: 0\n",
      "     \n",
      "Value Count:\n",
      "41-50 hours                                                                        1785\n",
      "51-60 hours                                                                        1609\n",
      "31-40 hours                                                                         783\n",
      "61-70 hours                                                                         774\n",
      "71-80 hours                                                                         425\n",
      "More than 80 hours                                                                  328\n",
      "Less than 11 hours                                                                  287\n",
      "21-30 hours                                                                         274\n",
      "11-20 hours                                                                         247\n",
      "On average, how many hours a week do you typically spend on your PhD programme?       1\n",
      "Name: Q24, dtype: int64\n"
     ]
    }
   ],
   "source": [
    "info('Q24')"
   ]
  },
  {
   "cell_type": "markdown",
   "metadata": {},
   "source": [
    "For this column, we can just take the middle of the range and cap it at 81 hours for simplicity. "
   ]
  },
  {
   "cell_type": "code",
   "execution_count": 42,
   "metadata": {},
   "outputs": [],
   "source": [
    "dict_Q24={'41-50 hours': 45, \n",
    "          '51-60 hours': 55, \n",
    "          '31-40 hours': 35, \n",
    "          '61-70 hours': 65, \n",
    "          '71-80 hours': 75, \n",
    "          'More than 80 hours':81, \n",
    "          'Less than 11 hours': 5, \n",
    "          '21-30 hours': 25, \n",
    "          '11-20 hours': 15, \n",
    "          'On average, how many hours a week do you typically spend on your PhD programme?': 'hours_worked'}"
   ]
  },
  {
   "cell_type": "code",
   "execution_count": 43,
   "metadata": {},
   "outputs": [
    {
     "name": "stderr",
     "output_type": "stream",
     "text": [
      "<ipython-input-43-894a6e5e1440>:1: SettingWithCopyWarning: \n",
      "A value is trying to be set on a copy of a slice from a DataFrame.\n",
      "Try using .loc[row_indexer,col_indexer] = value instead\n",
      "\n",
      "See the caveats in the documentation: https://pandas.pydata.org/pandas-docs/stable/user_guide/indexing.html#returning-a-view-versus-a-copy\n",
      "  df['Q24']=df['Q24'].map(dict_Q24)\n"
     ]
    }
   ],
   "source": [
    "df['Q24']=df['Q24'].map(dict_Q24)"
   ]
  },
  {
   "cell_type": "code",
   "execution_count": 44,
   "metadata": {},
   "outputs": [
    {
     "data": {
      "text/plain": [
       "45              1785\n",
       "55              1609\n",
       "35               783\n",
       "65               774\n",
       "75               425\n",
       "81               328\n",
       "5                287\n",
       "25               274\n",
       "15               247\n",
       "hours_worked       1\n",
       "Name: Q24, dtype: int64"
      ]
     },
     "execution_count": 44,
     "metadata": {},
     "output_type": "execute_result"
    }
   ],
   "source": [
    "df['Q24'].value_counts()"
   ]
  },
  {
   "cell_type": "code",
   "execution_count": 45,
   "metadata": {},
   "outputs": [
    {
     "name": "stdout",
     "output_type": "stream",
     "text": [
      "column name: Q57\n",
      "     \n",
      "Question: Are you…\n",
      "     \n",
      "number of null values: 0\n",
      "     \n",
      "Value Count:\n",
      "Female (including trans female)    3298\n",
      "Male (including trans male)        3149\n",
      "Prefer not to say                    35\n",
      "Gender queer / Non binary            30\n",
      "Are you…                              1\n",
      "Name: Q57, dtype: int64\n"
     ]
    }
   ],
   "source": [
    "info('Q57')"
   ]
  },
  {
   "cell_type": "code",
   "execution_count": 46,
   "metadata": {},
   "outputs": [],
   "source": [
    "dict_Q57={'Female (including trans female)':0, 'Male (including trans male)': 1, 'Prefer not to say': 2, 'Gender queer / Non binary': 3, 'Are you…': 'gender'}"
   ]
  },
  {
   "cell_type": "code",
   "execution_count": 47,
   "metadata": {},
   "outputs": [
    {
     "name": "stderr",
     "output_type": "stream",
     "text": [
      "<ipython-input-47-3a54b3feb3ac>:1: SettingWithCopyWarning: \n",
      "A value is trying to be set on a copy of a slice from a DataFrame.\n",
      "Try using .loc[row_indexer,col_indexer] = value instead\n",
      "\n",
      "See the caveats in the documentation: https://pandas.pydata.org/pandas-docs/stable/user_guide/indexing.html#returning-a-view-versus-a-copy\n",
      "  df['Q57']=df['Q57'].map(dict_Q57)\n"
     ]
    }
   ],
   "source": [
    "df['Q57']=df['Q57'].map(dict_Q57)"
   ]
  },
  {
   "cell_type": "code",
   "execution_count": 48,
   "metadata": {},
   "outputs": [
    {
     "data": {
      "text/plain": [
       "0         3298\n",
       "1         3149\n",
       "2           35\n",
       "3           30\n",
       "gender       1\n",
       "Name: Q57, dtype: int64"
      ]
     },
     "execution_count": 48,
     "metadata": {},
     "output_type": "execute_result"
    }
   ],
   "source": [
    "df['Q57'].value_counts()"
   ]
  },
  {
   "cell_type": "code",
   "execution_count": 49,
   "metadata": {},
   "outputs": [
    {
     "name": "stdout",
     "output_type": "stream",
     "text": [
      "column name: Q56\n",
      "     \n",
      "Question: What is your age?\n",
      "     \n",
      "number of null values: 0\n",
      "     \n",
      "Value Count:\n",
      "25 - 34              5019\n",
      "18 - 24               789\n",
      "35 - 44               530\n",
      "45 - 54               103\n",
      "55 - 64                35\n",
      "Prefer not to say      23\n",
      "65 or over             13\n",
      "What is your age?       1\n",
      "Name: Q56, dtype: int64\n"
     ]
    }
   ],
   "source": [
    "info('Q56')"
   ]
  },
  {
   "cell_type": "markdown",
   "metadata": {},
   "source": [
    "same with work hours, we can take the average of each option and cap it at 65. For people who prefer not to say, we are going to fill with majority class, which is '25-34'."
   ]
  },
  {
   "cell_type": "code",
   "execution_count": 50,
   "metadata": {},
   "outputs": [],
   "source": [
    "dict_Q56={'25 - 34':30, '18 - 24':21, '35 - 44':40, '45 - 54': 50, '55 - 64': 60, 'Prefer not to say': 30, '65 or over': 65, 'What is your age?': 'age'}"
   ]
  },
  {
   "cell_type": "code",
   "execution_count": 51,
   "metadata": {},
   "outputs": [
    {
     "name": "stderr",
     "output_type": "stream",
     "text": [
      "<ipython-input-51-1ff88bc95d50>:1: SettingWithCopyWarning: \n",
      "A value is trying to be set on a copy of a slice from a DataFrame.\n",
      "Try using .loc[row_indexer,col_indexer] = value instead\n",
      "\n",
      "See the caveats in the documentation: https://pandas.pydata.org/pandas-docs/stable/user_guide/indexing.html#returning-a-view-versus-a-copy\n",
      "  df['Q56']=df['Q56'].map(dict_Q56)\n"
     ]
    }
   ],
   "source": [
    "df['Q56']=df['Q56'].map(dict_Q56)"
   ]
  },
  {
   "cell_type": "code",
   "execution_count": 52,
   "metadata": {},
   "outputs": [
    {
     "data": {
      "text/plain": [
       "30     5042\n",
       "21      789\n",
       "40      530\n",
       "50      103\n",
       "60       35\n",
       "65       13\n",
       "age       1\n",
       "Name: Q56, dtype: int64"
      ]
     },
     "execution_count": 52,
     "metadata": {},
     "output_type": "execute_result"
    }
   ],
   "source": [
    "df['Q56'].value_counts()"
   ]
  },
  {
   "cell_type": "code",
   "execution_count": 53,
   "metadata": {},
   "outputs": [
    {
     "name": "stdout",
     "output_type": "stream",
     "text": [
      "column name: Q42\n",
      "     \n",
      "Question: After completing your PhD, how long do you think it will take you to find a permanent (non-trainee) position?\n",
      "     \n",
      "number of null values: 0\n",
      "     \n",
      "Value Count:\n",
      "Less than a year                                                                                                 1712\n",
      "1 to 2 years                                                                                                     1258\n",
      "3 to 6 years                                                                                                     1161\n",
      "2 to 3 years                                                                                                     1046\n",
      "Unsure                                                                                                            885\n",
      "More than 6 years                                                                                                 450\n",
      "After completing your PhD, how long do you think it will take you to find a permanent (non-trainee) position?       1\n",
      "Name: Q42, dtype: int64\n"
     ]
    }
   ],
   "source": [
    "info('Q42')"
   ]
  },
  {
   "cell_type": "code",
   "execution_count": 54,
   "metadata": {},
   "outputs": [],
   "source": [
    "dict_Q42={'Less than a year': 0.5, '1 to 2 years': 1.5, '3 to 6 years': 4.5, '2 to 3 years': 2.5, 'Unsure': 0, 'More than 6 years': 6, 'After completing your PhD, how long do you think it will take you to find a permanent (non-trainee) position?': 'expected_unemployment_time'}"
   ]
  },
  {
   "cell_type": "code",
   "execution_count": 55,
   "metadata": {},
   "outputs": [
    {
     "name": "stderr",
     "output_type": "stream",
     "text": [
      "<ipython-input-55-b40167300b63>:1: SettingWithCopyWarning: \n",
      "A value is trying to be set on a copy of a slice from a DataFrame.\n",
      "Try using .loc[row_indexer,col_indexer] = value instead\n",
      "\n",
      "See the caveats in the documentation: https://pandas.pydata.org/pandas-docs/stable/user_guide/indexing.html#returning-a-view-versus-a-copy\n",
      "  df['Q42']=df['Q42'].map(dict_Q42)\n"
     ]
    }
   ],
   "source": [
    "df['Q42']=df['Q42'].map(dict_Q42)"
   ]
  },
  {
   "cell_type": "code",
   "execution_count": 56,
   "metadata": {},
   "outputs": [
    {
     "data": {
      "text/plain": [
       "0.5                           1712\n",
       "1.5                           1258\n",
       "4.5                           1161\n",
       "2.5                           1046\n",
       "0                              885\n",
       "6                              450\n",
       "expected_unemployment_time       1\n",
       "Name: Q42, dtype: int64"
      ]
     },
     "execution_count": 56,
     "metadata": {},
     "output_type": "execute_result"
    }
   ],
   "source": [
    "df['Q42'].value_counts()"
   ]
  },
  {
   "cell_type": "code",
   "execution_count": 57,
   "metadata": {},
   "outputs": [],
   "source": [
    "simple_df=df[['Q1', 'Q4', 'Q13', 'Q31', 'Q34', 'Q19.a', 'Q24', 'Q57', 'Q56', 'Q42']]"
   ]
  },
  {
   "cell_type": "code",
   "execution_count": 58,
   "metadata": {},
   "outputs": [],
   "source": [
    "# make the first row column names\n",
    "simple_df.columns = simple_df.iloc[0] \n",
    "\n",
    "# drop the first row\n",
    "simple_df = simple_df.drop([0])\n"
   ]
  },
  {
   "cell_type": "code",
   "execution_count": 59,
   "metadata": {},
   "outputs": [
    {
     "data": {
      "text/html": [
       "<div>\n",
       "<style scoped>\n",
       "    .dataframe tbody tr th:only-of-type {\n",
       "        vertical-align: middle;\n",
       "    }\n",
       "\n",
       "    .dataframe tbody tr th {\n",
       "        vertical-align: top;\n",
       "    }\n",
       "\n",
       "    .dataframe thead th {\n",
       "        text-align: right;\n",
       "    }\n",
       "</style>\n",
       "<table border=\"1\" class=\"dataframe\">\n",
       "  <thead>\n",
       "    <tr style=\"text-align: right;\">\n",
       "      <th></th>\n",
       "      <th>dual_degree</th>\n",
       "      <th>home country</th>\n",
       "      <th>job</th>\n",
       "      <th>bullying</th>\n",
       "      <th>discrimination/harrassment</th>\n",
       "      <th>satisfaction</th>\n",
       "      <th>hours_worked</th>\n",
       "      <th>gender</th>\n",
       "      <th>age</th>\n",
       "      <th>expected_unemployment_time</th>\n",
       "    </tr>\n",
       "  </thead>\n",
       "  <tbody>\n",
       "    <tr>\n",
       "      <th>1</th>\n",
       "      <td>0</td>\n",
       "      <td>1</td>\n",
       "      <td>0</td>\n",
       "      <td>0</td>\n",
       "      <td>1</td>\n",
       "      <td>5</td>\n",
       "      <td>55</td>\n",
       "      <td>0</td>\n",
       "      <td>30</td>\n",
       "      <td>4.5</td>\n",
       "    </tr>\n",
       "    <tr>\n",
       "      <th>2</th>\n",
       "      <td>0</td>\n",
       "      <td>0</td>\n",
       "      <td>0</td>\n",
       "      <td>0</td>\n",
       "      <td>1</td>\n",
       "      <td>6</td>\n",
       "      <td>65</td>\n",
       "      <td>1</td>\n",
       "      <td>30</td>\n",
       "      <td>1.5</td>\n",
       "    </tr>\n",
       "    <tr>\n",
       "      <th>3</th>\n",
       "      <td>0</td>\n",
       "      <td>1</td>\n",
       "      <td>0</td>\n",
       "      <td>0</td>\n",
       "      <td>0</td>\n",
       "      <td>6</td>\n",
       "      <td>65</td>\n",
       "      <td>1</td>\n",
       "      <td>30</td>\n",
       "      <td>2.5</td>\n",
       "    </tr>\n",
       "    <tr>\n",
       "      <th>5</th>\n",
       "      <td>0</td>\n",
       "      <td>1</td>\n",
       "      <td>0</td>\n",
       "      <td>0</td>\n",
       "      <td>0</td>\n",
       "      <td>3</td>\n",
       "      <td>55</td>\n",
       "      <td>1</td>\n",
       "      <td>30</td>\n",
       "      <td>0.5</td>\n",
       "    </tr>\n",
       "    <tr>\n",
       "      <th>6</th>\n",
       "      <td>0</td>\n",
       "      <td>1</td>\n",
       "      <td>0</td>\n",
       "      <td>0</td>\n",
       "      <td>0</td>\n",
       "      <td>4</td>\n",
       "      <td>75</td>\n",
       "      <td>0</td>\n",
       "      <td>30</td>\n",
       "      <td>6</td>\n",
       "    </tr>\n",
       "    <tr>\n",
       "      <th>...</th>\n",
       "      <td>...</td>\n",
       "      <td>...</td>\n",
       "      <td>...</td>\n",
       "      <td>...</td>\n",
       "      <td>...</td>\n",
       "      <td>...</td>\n",
       "      <td>...</td>\n",
       "      <td>...</td>\n",
       "      <td>...</td>\n",
       "      <td>...</td>\n",
       "    </tr>\n",
       "    <tr>\n",
       "      <th>6806</th>\n",
       "      <td>0</td>\n",
       "      <td>1</td>\n",
       "      <td>0</td>\n",
       "      <td>0</td>\n",
       "      <td>0</td>\n",
       "      <td>6</td>\n",
       "      <td>45</td>\n",
       "      <td>1</td>\n",
       "      <td>21</td>\n",
       "      <td>1.5</td>\n",
       "    </tr>\n",
       "    <tr>\n",
       "      <th>6807</th>\n",
       "      <td>0</td>\n",
       "      <td>0</td>\n",
       "      <td>0</td>\n",
       "      <td>0</td>\n",
       "      <td>1</td>\n",
       "      <td>6</td>\n",
       "      <td>75</td>\n",
       "      <td>1</td>\n",
       "      <td>40</td>\n",
       "      <td>4.5</td>\n",
       "    </tr>\n",
       "    <tr>\n",
       "      <th>6809</th>\n",
       "      <td>0</td>\n",
       "      <td>1</td>\n",
       "      <td>0</td>\n",
       "      <td>0</td>\n",
       "      <td>0</td>\n",
       "      <td>4</td>\n",
       "      <td>35</td>\n",
       "      <td>0</td>\n",
       "      <td>30</td>\n",
       "      <td>0.5</td>\n",
       "    </tr>\n",
       "    <tr>\n",
       "      <th>6811</th>\n",
       "      <td>0</td>\n",
       "      <td>1</td>\n",
       "      <td>0</td>\n",
       "      <td>0</td>\n",
       "      <td>0</td>\n",
       "      <td>6</td>\n",
       "      <td>75</td>\n",
       "      <td>1</td>\n",
       "      <td>30</td>\n",
       "      <td>4.5</td>\n",
       "    </tr>\n",
       "    <tr>\n",
       "      <th>6812</th>\n",
       "      <td>0</td>\n",
       "      <td>0</td>\n",
       "      <td>0</td>\n",
       "      <td>0</td>\n",
       "      <td>0</td>\n",
       "      <td>5</td>\n",
       "      <td>45</td>\n",
       "      <td>0</td>\n",
       "      <td>30</td>\n",
       "      <td>0</td>\n",
       "    </tr>\n",
       "  </tbody>\n",
       "</table>\n",
       "<p>6512 rows × 10 columns</p>\n",
       "</div>"
      ],
      "text/plain": [
       "0    dual_degree home country job bullying discrimination/harrassment  \\\n",
       "1              0            1   0        0                          1   \n",
       "2              0            0   0        0                          1   \n",
       "3              0            1   0        0                          0   \n",
       "5              0            1   0        0                          0   \n",
       "6              0            1   0        0                          0   \n",
       "...          ...          ...  ..      ...                        ...   \n",
       "6806           0            1   0        0                          0   \n",
       "6807           0            0   0        0                          1   \n",
       "6809           0            1   0        0                          0   \n",
       "6811           0            1   0        0                          0   \n",
       "6812           0            0   0        0                          0   \n",
       "\n",
       "0    satisfaction hours_worked gender age expected_unemployment_time  \n",
       "1               5           55      0  30                        4.5  \n",
       "2               6           65      1  30                        1.5  \n",
       "3               6           65      1  30                        2.5  \n",
       "5               3           55      1  30                        0.5  \n",
       "6               4           75      0  30                          6  \n",
       "...           ...          ...    ...  ..                        ...  \n",
       "6806            6           45      1  21                        1.5  \n",
       "6807            6           75      1  40                        4.5  \n",
       "6809            4           35      0  30                        0.5  \n",
       "6811            6           75      1  30                        4.5  \n",
       "6812            5           45      0  30                          0  \n",
       "\n",
       "[6512 rows x 10 columns]"
      ]
     },
     "execution_count": 59,
     "metadata": {},
     "output_type": "execute_result"
    }
   ],
   "source": [
    "simple_df"
   ]
  },
  {
   "cell_type": "code",
   "execution_count": 60,
   "metadata": {},
   "outputs": [
    {
     "name": "stdout",
     "output_type": "stream",
     "text": [
      "<class 'pandas.core.frame.DataFrame'>\n",
      "Int64Index: 6512 entries, 1 to 6812\n",
      "Data columns (total 10 columns):\n",
      " #   Column                      Non-Null Count  Dtype \n",
      "---  ------                      --------------  ----- \n",
      " 0   dual_degree                 6512 non-null   object\n",
      " 1   home country                6512 non-null   object\n",
      " 2   job                         6512 non-null   object\n",
      " 3   bullying                    6505 non-null   object\n",
      " 4   discrimination/harrassment  6488 non-null   object\n",
      " 5   satisfaction                6512 non-null   object\n",
      " 6   hours_worked                6512 non-null   object\n",
      " 7   gender                      6512 non-null   object\n",
      " 8   age                         6512 non-null   object\n",
      " 9   expected_unemployment_time  6512 non-null   object\n",
      "dtypes: object(10)\n",
      "memory usage: 559.6+ KB\n"
     ]
    }
   ],
   "source": [
    "simple_df.info()"
   ]
  },
  {
   "cell_type": "code",
   "execution_count": 61,
   "metadata": {},
   "outputs": [],
   "source": [
    "# fill na for 'job', 'bullying', and 'discrimination/harrassment'\n",
    "# assume all nulls are 'prefer not to say'\n",
    "simple_df['bullying'].fillna(value=2,inplace=True)\n",
    "simple_df['discrimination/harrassment'].fillna(value=2,inplace=True)"
   ]
  },
  {
   "cell_type": "code",
   "execution_count": 62,
   "metadata": {},
   "outputs": [],
   "source": [
    "simple_df=simple_df.astype(float)"
   ]
  },
  {
   "cell_type": "markdown",
   "metadata": {},
   "source": [
    "### Train Test Split"
   ]
  },
  {
   "cell_type": "code",
   "execution_count": 63,
   "metadata": {},
   "outputs": [],
   "source": [
    "from sklearn.model_selection import train_test_split"
   ]
  },
  {
   "cell_type": "code",
   "execution_count": 64,
   "metadata": {},
   "outputs": [],
   "source": [
    "X=simple_df\n",
    "y=df['Q28'][1:]"
   ]
  },
  {
   "cell_type": "code",
   "execution_count": 65,
   "metadata": {},
   "outputs": [],
   "source": [
    "X_tr, X_test, y_tr, y_test = train_test_split(X, y, random_state=42)\n",
    "X_train, X_val, y_train, y_val = train_test_split(X_tr, y_tr, random_state=42)"
   ]
  },
  {
   "cell_type": "markdown",
   "metadata": {},
   "source": [
    "## Modeling"
   ]
  },
  {
   "cell_type": "code",
   "execution_count": 66,
   "metadata": {},
   "outputs": [],
   "source": [
    "# imports for modeling and visualization\n",
    "from sklearn.model_selection import GridSearchCV\n",
    "from sklearn.metrics import plot_confusion_matrix, plot_roc_curve, confusion_matrix\n",
    "from sklearn.metrics import accuracy_score, precision_score, recall_score, f1_score, roc_auc_score\n",
    "from sklearn.model_selection import cross_validate\n",
    "from sklearn.model_selection import cross_val_score\n",
    "import matplotlib.pyplot as plt"
   ]
  },
  {
   "cell_type": "code",
   "execution_count": 67,
   "metadata": {},
   "outputs": [],
   "source": [
    "def evaluate(model, X_tr, y_tr, X_te, y_te):\n",
    "    print('Accuracy Score:')\n",
    "    print(f'Train - {accuracy_score(y_tr, model.predict(X_tr))}')\n",
    "    print(f'Test - {accuracy_score(y_te, model.predict(X_te))}')\n",
    "    print('  ')\n",
    "    print('Precision Score:')\n",
    "    print(f'Train - {precision_score(y_tr, model.predict(X_tr))}')\n",
    "    print(f'Test - {precision_score(y_te, model.predict(X_te))}')\n",
    "    print('  ')\n",
    "    print('Recall Score: ')\n",
    "    print(f'Train - {recall_score(y_tr, model.predict(X_tr))}')\n",
    "    print(f'Test - {recall_score(y_te, model.predict(X_te))}')\n",
    "    print('  ')\n",
    "    print('F1 Score: ')\n",
    "    print(f'Train - {f1_score(y_tr, model.predict(X_tr))}')\n",
    "    print(f'Test - {f1_score(y_te, model.predict(X_te))}')\n",
    "    print('  ')\n",
    "    print('ROC_AUC: ')\n",
    "    print(f'Train - {roc_auc_score(y_tr, model.predict(X_tr))}')\n",
    "    print(f'Test - {roc_auc_score(y_te, model.predict(X_te))}')\n",
    "    print('  ')\n",
    "    print('  ')\n",
    "    print('Confusion matrix for test data')\n",
    "    return plot_confusion_matrix(model, X_te, y_te, normalize = 'true', include_values=True, display_labels = [\"Doesn't Need Help\",\"Need Help\"], cmap=plt.cm.Blues)"
   ]
  },
  {
   "cell_type": "markdown",
   "metadata": {},
   "source": [
    "#### Baseline Understanding: \n",
    "predict majority class"
   ]
  },
  {
   "cell_type": "code",
   "execution_count": 68,
   "metadata": {},
   "outputs": [
    {
     "data": {
      "text/plain": [
       "0.0    0.62326\n",
       "1.0    0.37674\n",
       "Name: Q28, dtype: float64"
      ]
     },
     "execution_count": 68,
     "metadata": {},
     "output_type": "execute_result"
    }
   ],
   "source": [
    "y_train.value_counts(normalize=True)"
   ]
  },
  {
   "cell_type": "markdown",
   "metadata": {},
   "source": [
    "If we predict the majority class of not going to need help for anxiety/depression as a result of PhD study (assuming that if people need help, they ask for help), we will be right 62.3% of the time."
   ]
  },
  {
   "cell_type": "markdown",
   "metadata": {},
   "source": [
    "#### Logistic Regression"
   ]
  },
  {
   "cell_type": "code",
   "execution_count": 69,
   "metadata": {},
   "outputs": [],
   "source": [
    "from sklearn.linear_model import LogisticRegression"
   ]
  },
  {
   "cell_type": "code",
   "execution_count": 70,
   "metadata": {},
   "outputs": [
    {
     "name": "stderr",
     "output_type": "stream",
     "text": [
      "/Users/elylin/opt/anaconda3/envs/learn-env/lib/python3.8/site-packages/sklearn/linear_model/_logistic.py:762: ConvergenceWarning: lbfgs failed to converge (status=1):\n",
      "STOP: TOTAL NO. of ITERATIONS REACHED LIMIT.\n",
      "\n",
      "Increase the number of iterations (max_iter) or scale the data as shown in:\n",
      "    https://scikit-learn.org/stable/modules/preprocessing.html\n",
      "Please also refer to the documentation for alternative solver options:\n",
      "    https://scikit-learn.org/stable/modules/linear_model.html#logistic-regression\n",
      "  n_iter_i = _check_optimize_result(\n"
     ]
    },
    {
     "data": {
      "text/plain": [
       "LogisticRegression()"
      ]
     },
     "execution_count": 70,
     "metadata": {},
     "output_type": "execute_result"
    }
   ],
   "source": [
    "lr=LogisticRegression()\n",
    "lr.fit(X_train,y_train)"
   ]
  },
  {
   "cell_type": "code",
   "execution_count": 71,
   "metadata": {
    "scrolled": true
   },
   "outputs": [
    {
     "name": "stdout",
     "output_type": "stream",
     "text": [
      "0.6696696696696697\n",
      "0.6584766584766585\n"
     ]
    }
   ],
   "source": [
    "print(lr.score(X_train,y_train))\n",
    "print(lr.score(X_val,y_val))"
   ]
  },
  {
   "cell_type": "code",
   "execution_count": 72,
   "metadata": {},
   "outputs": [
    {
     "data": {
      "text/plain": [
       "array([[-0.03934577, -0.01917845, -0.10819323,  0.56501058,  0.28529295,\n",
       "        -0.26134981,  0.00073254, -0.5353653 , -0.0175872 , -0.00121922]])"
      ]
     },
     "execution_count": 72,
     "metadata": {},
     "output_type": "execute_result"
    }
   ],
   "source": [
    "lr.coef_"
   ]
  },
  {
   "cell_type": "code",
   "execution_count": 73,
   "metadata": {},
   "outputs": [
    {
     "data": {
      "text/html": [
       "<div>\n",
       "<style scoped>\n",
       "    .dataframe tbody tr th:only-of-type {\n",
       "        vertical-align: middle;\n",
       "    }\n",
       "\n",
       "    .dataframe tbody tr th {\n",
       "        vertical-align: top;\n",
       "    }\n",
       "\n",
       "    .dataframe thead th {\n",
       "        text-align: right;\n",
       "    }\n",
       "</style>\n",
       "<table border=\"1\" class=\"dataframe\">\n",
       "  <thead>\n",
       "    <tr style=\"text-align: right;\">\n",
       "      <th></th>\n",
       "      <th>0</th>\n",
       "    </tr>\n",
       "    <tr>\n",
       "      <th>0</th>\n",
       "      <th></th>\n",
       "    </tr>\n",
       "  </thead>\n",
       "  <tbody>\n",
       "    <tr>\n",
       "      <th>dual_degree</th>\n",
       "      <td>-0.039346</td>\n",
       "    </tr>\n",
       "    <tr>\n",
       "      <th>home country</th>\n",
       "      <td>-0.019178</td>\n",
       "    </tr>\n",
       "    <tr>\n",
       "      <th>job</th>\n",
       "      <td>-0.108193</td>\n",
       "    </tr>\n",
       "    <tr>\n",
       "      <th>bullying</th>\n",
       "      <td>0.565011</td>\n",
       "    </tr>\n",
       "    <tr>\n",
       "      <th>discrimination/harrassment</th>\n",
       "      <td>0.285293</td>\n",
       "    </tr>\n",
       "    <tr>\n",
       "      <th>satisfaction</th>\n",
       "      <td>-0.261350</td>\n",
       "    </tr>\n",
       "    <tr>\n",
       "      <th>hours_worked</th>\n",
       "      <td>0.000733</td>\n",
       "    </tr>\n",
       "    <tr>\n",
       "      <th>gender</th>\n",
       "      <td>-0.535365</td>\n",
       "    </tr>\n",
       "    <tr>\n",
       "      <th>age</th>\n",
       "      <td>-0.017587</td>\n",
       "    </tr>\n",
       "    <tr>\n",
       "      <th>expected_unemployment_time</th>\n",
       "      <td>-0.001219</td>\n",
       "    </tr>\n",
       "  </tbody>\n",
       "</table>\n",
       "</div>"
      ],
      "text/plain": [
       "                                   0\n",
       "0                                   \n",
       "dual_degree                -0.039346\n",
       "home country               -0.019178\n",
       "job                        -0.108193\n",
       "bullying                    0.565011\n",
       "discrimination/harrassment  0.285293\n",
       "satisfaction               -0.261350\n",
       "hours_worked                0.000733\n",
       "gender                     -0.535365\n",
       "age                        -0.017587\n",
       "expected_unemployment_time -0.001219"
      ]
     },
     "execution_count": 73,
     "metadata": {},
     "output_type": "execute_result"
    }
   ],
   "source": [
    "fi_lr=pd.DataFrame(data=lr.coef_, columns=X_train.columns).T\n",
    "fi_lr"
   ]
  },
  {
   "cell_type": "code",
   "execution_count": 74,
   "metadata": {},
   "outputs": [],
   "source": [
    "import numpy as np"
   ]
  },
  {
   "cell_type": "code",
   "execution_count": 75,
   "metadata": {},
   "outputs": [
    {
     "data": {
      "text/plain": [
       "1.7594671367538721"
      ]
     },
     "execution_count": 75,
     "metadata": {},
     "output_type": "execute_result"
    }
   ],
   "source": [
    "np.exp(0.565011)"
   ]
  },
  {
   "cell_type": "code",
   "execution_count": 76,
   "metadata": {},
   "outputs": [
    {
     "name": "stdout",
     "output_type": "stream",
     "text": [
      "Accuracy Score:\n",
      "Train - 0.6696696696696697\n",
      "Test - 0.6584766584766585\n",
      "  \n",
      "Precision Score:\n",
      "Train - 0.6051980198019802\n",
      "Test - 0.5650557620817844\n",
      "  \n",
      "Recall Score: \n",
      "Train - 0.35434782608695653\n",
      "Test - 0.336283185840708\n",
      "  \n",
      "F1 Score: \n",
      "Train - 0.4469835466179159\n",
      "Test - 0.42163661581137307\n",
      "  \n",
      "ROC_AUC: \n",
      "Train - 0.6073096992896456\n",
      "Test - 0.5920687710738001\n",
      "  \n",
      "  \n",
      "Confusion matrix for test data\n"
     ]
    },
    {
     "data": {
      "text/plain": [
       "<sklearn.metrics._plot.confusion_matrix.ConfusionMatrixDisplay at 0x7ff2d8a02580>"
      ]
     },
     "execution_count": 76,
     "metadata": {},
     "output_type": "execute_result"
    },
    {
     "data": {
      "image/png": "[encoded data removed]",
      "text/plain": [
       "<Figure size 432x288 with 2 Axes>"
      ]
     },
     "metadata": {
      "needs_background": "light"
     },
     "output_type": "display_data"
    }
   ],
   "source": [
    "evaluate(lr, X_train, y_train, X_val, y_val)"
   ]
  },
  {
   "cell_type": "markdown",
   "metadata": {},
   "source": [
    "#### Decision Tree"
   ]
  },
  {
   "cell_type": "code",
   "execution_count": 77,
   "metadata": {},
   "outputs": [],
   "source": [
    "from sklearn.tree import DecisionTreeClassifier"
   ]
  },
  {
   "cell_type": "code",
   "execution_count": 78,
   "metadata": {},
   "outputs": [],
   "source": [
    "dt=DecisionTreeClassifier(max_depth=7,random_state=42)"
   ]
  },
  {
   "cell_type": "code",
   "execution_count": 79,
   "metadata": {},
   "outputs": [
    {
     "data": {
      "text/plain": [
       "DecisionTreeClassifier(max_depth=7, random_state=42)"
      ]
     },
     "execution_count": 79,
     "metadata": {},
     "output_type": "execute_result"
    }
   ],
   "source": [
    "dt.fit(X_train,y_train)"
   ]
  },
  {
   "cell_type": "code",
   "execution_count": 80,
   "metadata": {},
   "outputs": [
    {
     "name": "stdout",
     "output_type": "stream",
     "text": [
      "0.7078897078897078\n",
      "0.638001638001638\n"
     ]
    }
   ],
   "source": [
    "print(dt.score(X_train,y_train))\n",
    "print(dt.score(X_val,y_val))"
   ]
  },
  {
   "cell_type": "code",
   "execution_count": 81,
   "metadata": {},
   "outputs": [
    {
     "data": {
      "text/plain": [
       "array([0.01340533, 0.021807  , 0.02815645, 0.27935852, 0.0665856 ,\n",
       "       0.20235817, 0.13356991, 0.1066362 , 0.04167337, 0.10644945])"
      ]
     },
     "execution_count": 81,
     "metadata": {},
     "output_type": "execute_result"
    }
   ],
   "source": [
    "dt.feature_importances_"
   ]
  },
  {
   "cell_type": "code",
   "execution_count": 82,
   "metadata": {},
   "outputs": [
    {
     "data": {
      "text/html": [
       "<div>\n",
       "<style scoped>\n",
       "    .dataframe tbody tr th:only-of-type {\n",
       "        vertical-align: middle;\n",
       "    }\n",
       "\n",
       "    .dataframe tbody tr th {\n",
       "        vertical-align: top;\n",
       "    }\n",
       "\n",
       "    .dataframe thead th {\n",
       "        text-align: right;\n",
       "    }\n",
       "</style>\n",
       "<table border=\"1\" class=\"dataframe\">\n",
       "  <thead>\n",
       "    <tr style=\"text-align: right;\">\n",
       "      <th></th>\n",
       "      <th>0</th>\n",
       "    </tr>\n",
       "    <tr>\n",
       "      <th>0</th>\n",
       "      <th></th>\n",
       "    </tr>\n",
       "  </thead>\n",
       "  <tbody>\n",
       "    <tr>\n",
       "      <th>dual_degree</th>\n",
       "      <td>0.013405</td>\n",
       "    </tr>\n",
       "    <tr>\n",
       "      <th>home country</th>\n",
       "      <td>0.021807</td>\n",
       "    </tr>\n",
       "    <tr>\n",
       "      <th>job</th>\n",
       "      <td>0.028156</td>\n",
       "    </tr>\n",
       "    <tr>\n",
       "      <th>bullying</th>\n",
       "      <td>0.279359</td>\n",
       "    </tr>\n",
       "    <tr>\n",
       "      <th>discrimination/harrassment</th>\n",
       "      <td>0.066586</td>\n",
       "    </tr>\n",
       "    <tr>\n",
       "      <th>satisfaction</th>\n",
       "      <td>0.202358</td>\n",
       "    </tr>\n",
       "    <tr>\n",
       "      <th>hours_worked</th>\n",
       "      <td>0.133570</td>\n",
       "    </tr>\n",
       "    <tr>\n",
       "      <th>gender</th>\n",
       "      <td>0.106636</td>\n",
       "    </tr>\n",
       "    <tr>\n",
       "      <th>age</th>\n",
       "      <td>0.041673</td>\n",
       "    </tr>\n",
       "    <tr>\n",
       "      <th>expected_unemployment_time</th>\n",
       "      <td>0.106449</td>\n",
       "    </tr>\n",
       "  </tbody>\n",
       "</table>\n",
       "</div>"
      ],
      "text/plain": [
       "                                   0\n",
       "0                                   \n",
       "dual_degree                 0.013405\n",
       "home country                0.021807\n",
       "job                         0.028156\n",
       "bullying                    0.279359\n",
       "discrimination/harrassment  0.066586\n",
       "satisfaction                0.202358\n",
       "hours_worked                0.133570\n",
       "gender                      0.106636\n",
       "age                         0.041673\n",
       "expected_unemployment_time  0.106449"
      ]
     },
     "execution_count": 82,
     "metadata": {},
     "output_type": "execute_result"
    }
   ],
   "source": [
    "fi_dt=pd.DataFrame(data=dt.feature_importances_, index=X_train.columns)\n",
    "fi_dt"
   ]
  },
  {
   "cell_type": "code",
   "execution_count": 83,
   "metadata": {},
   "outputs": [
    {
     "name": "stdout",
     "output_type": "stream",
     "text": [
      "Accuracy Score:\n",
      "Train - 0.7078897078897078\n",
      "Test - 0.638001638001638\n",
      "  \n",
      "Precision Score:\n",
      "Train - 0.6802325581395349\n",
      "Test - 0.5157232704402516\n",
      "  \n",
      "Recall Score: \n",
      "Train - 0.42391304347826086\n",
      "Test - 0.36283185840707965\n",
      "  \n",
      "F1 Score: \n",
      "Train - 0.5223214285714286\n",
      "Test - 0.42597402597402595\n",
      "  \n",
      "ROC_AUC: \n",
      "Train - 0.6517287512616884\n",
      "Test - 0.5812858901918362\n",
      "  \n",
      "  \n",
      "Confusion matrix for test data\n"
     ]
    },
    {
     "data": {
      "text/plain": [
       "<sklearn.metrics._plot.confusion_matrix.ConfusionMatrixDisplay at 0x7ff2ba87db50>"
      ]
     },
     "execution_count": 83,
     "metadata": {},
     "output_type": "execute_result"
    },
    {
     "data": {
      "image/png": "[encoded data removed]",
      "text/plain": [
       "<Figure size 432x288 with 2 Axes>"
      ]
     },
     "metadata": {
      "needs_background": "light"
     },
     "output_type": "display_data"
    }
   ],
   "source": [
    "evaluate(dt,X_train,y_train, X_val, y_val)"
   ]
  },
  {
   "cell_type": "markdown",
   "metadata": {},
   "source": [
    "#### Naive Bayes"
   ]
  },
  {
   "cell_type": "code",
   "execution_count": 84,
   "metadata": {},
   "outputs": [],
   "source": [
    "from sklearn.naive_bayes import CategoricalNB"
   ]
  },
  {
   "cell_type": "code",
   "execution_count": 85,
   "metadata": {},
   "outputs": [],
   "source": [
    "nb=CategoricalNB()"
   ]
  },
  {
   "cell_type": "code",
   "execution_count": 86,
   "metadata": {},
   "outputs": [
    {
     "data": {
      "text/plain": [
       "CategoricalNB()"
      ]
     },
     "execution_count": 86,
     "metadata": {},
     "output_type": "execute_result"
    }
   ],
   "source": [
    "nb.fit(X_train,y_train)"
   ]
  },
  {
   "cell_type": "code",
   "execution_count": 87,
   "metadata": {},
   "outputs": [
    {
     "name": "stdout",
     "output_type": "stream",
     "text": [
      "0.6764946764946765\n",
      "0.6674856674856675\n"
     ]
    }
   ],
   "source": [
    "print(nb.score(X_train,y_train))\n",
    "print(nb.score(X_val,y_val))"
   ]
  },
  {
   "cell_type": "code",
   "execution_count": 88,
   "metadata": {},
   "outputs": [
    {
     "name": "stdout",
     "output_type": "stream",
     "text": [
      "Accuracy Score:\n",
      "Train - 0.6764946764946765\n",
      "Test - 0.6674856674856675\n",
      "  \n",
      "Precision Score:\n",
      "Train - 0.6012461059190031\n",
      "Test - 0.5672514619883041\n",
      "  \n",
      "Recall Score: \n",
      "Train - 0.41956521739130437\n",
      "Test - 0.42920353982300885\n",
      "  \n",
      "F1 Score: \n",
      "Train - 0.4942381562099872\n",
      "Test - 0.4886649874055416\n",
      "  \n",
      "ROC_AUC: \n",
      "Train - 0.6256827401016969\n",
      "Test - 0.6183729012509062\n",
      "  \n",
      "  \n",
      "Confusion matrix for test data\n"
     ]
    },
    {
     "data": {
      "text/plain": [
       "<sklearn.metrics._plot.confusion_matrix.ConfusionMatrixDisplay at 0x7ff2ba8feca0>"
      ]
     },
     "execution_count": 88,
     "metadata": {},
     "output_type": "execute_result"
    },
    {
     "data": {
      "image/png": "[encoded data removed]",
      "text/plain": [
       "<Figure size 432x288 with 2 Axes>"
      ]
     },
     "metadata": {
      "needs_background": "light"
     },
     "output_type": "display_data"
    }
   ],
   "source": [
    "evaluate(nb,X_train,y_train, X_val, y_val)"
   ]
  },
  {
   "cell_type": "markdown",
   "metadata": {},
   "source": [
    "#### CatBoost"
   ]
  },
  {
   "cell_type": "code",
   "execution_count": 89,
   "metadata": {},
   "outputs": [],
   "source": [
    "from catboost import CatBoostClassifier"
   ]
  },
  {
   "cell_type": "code",
   "execution_count": 90,
   "metadata": {},
   "outputs": [],
   "source": [
    "cb=CatBoostClassifier(silent=True)"
   ]
  },
  {
   "cell_type": "code",
   "execution_count": 91,
   "metadata": {},
   "outputs": [
    {
     "data": {
      "text/plain": [
       "<catboost.core.CatBoostClassifier at 0x7ff2a890a850>"
      ]
     },
     "execution_count": 91,
     "metadata": {},
     "output_type": "execute_result"
    }
   ],
   "source": [
    "cb.fit(X_train,y_train)"
   ]
  },
  {
   "cell_type": "code",
   "execution_count": 92,
   "metadata": {},
   "outputs": [
    {
     "name": "stdout",
     "output_type": "stream",
     "text": [
      "0.7725907725907726\n",
      "0.6494676494676495\n"
     ]
    }
   ],
   "source": [
    "print(cb.score(X_train,y_train))\n",
    "print(cb.score(X_val,y_val))"
   ]
  },
  {
   "cell_type": "code",
   "execution_count": 93,
   "metadata": {},
   "outputs": [
    {
     "name": "stdout",
     "output_type": "stream",
     "text": [
      "Accuracy Score:\n",
      "Train - 0.7725907725907726\n",
      "Test - 0.6494676494676495\n",
      "  \n",
      "Precision Score:\n",
      "Train - 0.782249742002064\n",
      "Test - 0.5327868852459017\n",
      "  \n",
      "Recall Score: \n",
      "Train - 0.5492753623188406\n",
      "Test - 0.4314159292035398\n",
      "  \n",
      "F1 Score: \n",
      "Train - 0.6453810131971052\n",
      "Test - 0.47677261613691935\n",
      "  \n",
      "ROC_AUC: \n",
      "Train - 0.7284265554476375\n",
      "Test - 0.604524609595268\n",
      "  \n",
      "  \n",
      "Confusion matrix for test data\n"
     ]
    },
    {
     "data": {
      "text/plain": [
       "<sklearn.metrics._plot.confusion_matrix.ConfusionMatrixDisplay at 0x7ff2ba9d8b80>"
      ]
     },
     "execution_count": 93,
     "metadata": {},
     "output_type": "execute_result"
    },
    {
     "data": {
      "image/png": "[encoded data removed]",
      "text/plain": [
       "<Figure size 432x288 with 2 Axes>"
      ]
     },
     "metadata": {
      "needs_background": "light"
     },
     "output_type": "display_data"
    }
   ],
   "source": [
    "evaluate(cb, X_train, y_train, X_val, y_val)"
   ]
  },
  {
   "cell_type": "markdown",
   "metadata": {},
   "source": [
    "#### XGBoost"
   ]
  },
  {
   "cell_type": "code",
   "execution_count": 94,
   "metadata": {},
   "outputs": [],
   "source": [
    "from xgboost import XGBClassifier"
   ]
  },
  {
   "cell_type": "code",
   "execution_count": 95,
   "metadata": {},
   "outputs": [],
   "source": [
    "xgb=XGBClassifier()"
   ]
  },
  {
   "cell_type": "code",
   "execution_count": 96,
   "metadata": {},
   "outputs": [
    {
     "data": {
      "text/plain": [
       "XGBClassifier(base_score=0.5, booster='gbtree', colsample_bylevel=1,\n",
       "              colsample_bynode=1, colsample_bytree=1, gamma=0, gpu_id=-1,\n",
       "              importance_type='gain', interaction_constraints='',\n",
       "              learning_rate=0.300000012, max_delta_step=0, max_depth=6,\n",
       "              min_child_weight=1, missing=nan, monotone_constraints='()',\n",
       "              n_estimators=100, n_jobs=0, num_parallel_tree=1, random_state=0,\n",
       "              reg_alpha=0, reg_lambda=1, scale_pos_weight=1, subsample=1,\n",
       "              tree_method='exact', validate_parameters=1, verbosity=None)"
      ]
     },
     "execution_count": 96,
     "metadata": {},
     "output_type": "execute_result"
    }
   ],
   "source": [
    "xgb.fit(X_train,y_train)"
   ]
  },
  {
   "cell_type": "code",
   "execution_count": 97,
   "metadata": {},
   "outputs": [
    {
     "name": "stdout",
     "output_type": "stream",
     "text": [
      "0.8042588042588042\n",
      "0.6363636363636364\n"
     ]
    }
   ],
   "source": [
    "print(xgb.score(X_train,y_train))\n",
    "print(xgb.score(X_val,y_val))"
   ]
  },
  {
   "cell_type": "code",
   "execution_count": 98,
   "metadata": {},
   "outputs": [
    {
     "name": "stdout",
     "output_type": "stream",
     "text": [
      "Accuracy Score:\n",
      "Train - 0.8042588042588042\n",
      "Test - 0.6363636363636364\n",
      "  \n",
      "Precision Score:\n",
      "Train - 0.8106841611996252\n",
      "Test - 0.5104712041884817\n",
      "  \n",
      "Recall Score: \n",
      "Train - 0.6268115942028986\n",
      "Test - 0.4314159292035398\n",
      "  \n",
      "F1 Score: \n",
      "Train - 0.7069881487535759\n",
      "Test - 0.4676258992805755\n",
      "  \n",
      "ROC_AUC: \n",
      "Train - 0.7691657620598374\n",
      "Test - 0.5941214886589871\n",
      "  \n",
      "  \n",
      "Confusion matrix for test data\n"
     ]
    },
    {
     "data": {
      "text/plain": [
       "<sklearn.metrics._plot.confusion_matrix.ConfusionMatrixDisplay at 0x7ff2d9460f10>"
      ]
     },
     "execution_count": 98,
     "metadata": {},
     "output_type": "execute_result"
    },
    {
     "data": {
      "image/png": "[encoded data removed]",
      "text/plain": [
       "<Figure size 432x288 with 2 Axes>"
      ]
     },
     "metadata": {
      "needs_background": "light"
     },
     "output_type": "display_data"
    }
   ],
   "source": [
    "evaluate(xgb,X_train, y_train, X_val, y_val)"
   ]
  },
  {
   "cell_type": "markdown",
   "metadata": {},
   "source": [
    "## Conclusions"
   ]
  },
  {
   "cell_type": "markdown",
   "metadata": {},
   "source": [
    "Both our logistic regression and decision tree model indicates that whether a student is bullied in school is the biggest indicator of whether they would need help with anxiety and depression. The other important factors are whether they are harrassed or discriminated against in school and how satisfied they are with the program. "
   ]
  },
  {
   "cell_type": "markdown",
   "metadata": {},
   "source": [
    "It's very hard for students to voice their concerns in school because in a lot of cases their bully is their supervisor. By having a model to analyze survey data instead of humans, students can speak their truth without fear of retaliation and still get the help they need."
   ]
  }
 ],
 "metadata": {
  "kernelspec": {
   "display_name": "Python (learn-env)",
   "language": "python",
   "name": "learn-env"
  },
  "language_info": {
   "codemirror_mode": {
    "name": "ipython",
    "version": 3
   },
   "file_extension": ".py",
   "mimetype": "text/x-python",
   "name": "python",
   "nbconvert_exporter": "python",
   "pygments_lexer": "ipython3",
   "version": "3.8.5"
  }
 },
 "nbformat": 4,
 "nbformat_minor": 4
}
