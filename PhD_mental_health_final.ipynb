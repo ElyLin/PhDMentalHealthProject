{
 "cells": [
  {
   "cell_type": "markdown",
   "metadata": {},
   "source": [
    "# PhD Student Mental Health Project"
   ]
  },
  {
   "cell_type": "markdown",
   "metadata": {},
   "source": [
    "## Overview"
   ]
  },
  {
   "cell_type": "markdown",
   "metadata": {},
   "source": [
    "This notebook contains analysis of survey data conducted by Shift Learning on PhD students. The project uses multiple machine learning models such as logistic regression and decision trees to draw insights into what risk factors contribute to mental health problems in PhD students and make recommendations on how to improve. The project also include a predictive model that can be deployed to continuously monitor student mental health."
   ]
  },
  {
   "cell_type": "markdown",
   "metadata": {},
   "source": [
    "## Business Problem"
   ]
  },
  {
   "cell_type": "markdown",
   "metadata": {},
   "source": [
    "PhD students are at high risk of mental health issues and have a high suicide rate. This project aims to help academia understand the risk factors in order to systematically improve student’s overall mental health. This project also makes recommendations on how to set up preventative measures for mental health issues among students."
   ]
  },
  {
   "cell_type": "markdown",
   "metadata": {},
   "source": [
    "#### End Users:\n",
    "- Universities, research facilities, school mental health counselors"
   ]
  },
  {
   "cell_type": "markdown",
   "metadata": {},
   "source": [
    "#### True Business Problem:\n",
    "\n",
    "- Understand risk factors that contributes to PhD students needing help for anxiety and depression.\n",
    "- create a model that helps to identify students who might need help"
   ]
  },
  {
   "cell_type": "markdown",
   "metadata": {},
   "source": [
    "#### Context:\n",
    "- False positive: predict that a student need help for anxiety/depression when they don't \n",
    "    - Outcome: trouble and disturbance to the student\n",
    "- False negative: predict that a student doesn't need help for anxiety/depression when they actually do\n",
    "    - Outcome: student not getting the help that they need"
   ]
  },
  {
   "cell_type": "markdown",
   "metadata": {},
   "source": [
    "#### Model Evaluation\n",
    "\n",
    "We will be focusing on recall because we want to minimize false negative. "
   ]
  },
  {
   "cell_type": "markdown",
   "metadata": {},
   "source": [
    "## Data Understanding"
   ]
  },
  {
   "cell_type": "markdown",
   "metadata": {},
   "source": [
    "The data is aggregated by surveying and interviewing 6,320 current PhD students all over the world in 2019. There are around 60 questions about their personal information and their opinions and concerns about their PhD program.\n",
    "Important questions include age, country of origin, country of study, whether/by whom they were bullied, whether/reason they need to work outside of their program, whether/which kind of discrimination the student faced, their career expectations, worries about the program/their future, etc.\n",
    "\n",
    "We are modeling on the assumption that if students need help with anxiety and/or depression, they would ask for it. "
   ]
  },
  {
   "cell_type": "code",
   "execution_count": 1,
   "metadata": {},
   "outputs": [],
   "source": [
    "# basic imports\n",
    "import pandas as pd\n",
    "import numpy as np\n",
    "import matplotlib.pyplot as plt\n",
    "\n",
    "# import sklearn modeling tools\n",
    "from sklearn.model_selection import train_test_split\n",
    "from sklearn.linear_model import LogisticRegression\n",
    "from sklearn.tree import DecisionTreeClassifier\n",
    "from sklearn.metrics import plot_confusion_matrix, accuracy_score, precision_score, recall_score, f1_score, roc_auc_score\n",
    "from sklearn.preprocessing import StandardScaler\n",
    "\n",
    "# import CatBoost tools\n",
    "import catboost\n",
    "from catboost import Pool\n",
    "from catboost import CatBoostClassifier\n",
    "\n",
    "# import my own evaluate function\n",
    "from utils import evaluate\n",
    "\n",
    "# import and activate warning suppression tool\n",
    "import warnings\n",
    "warnings.filterwarnings(\"ignore\")"
   ]
  },
  {
   "cell_type": "code",
   "execution_count": 2,
   "metadata": {},
   "outputs": [],
   "source": [
    "# define a function to print out information of a column\n",
    "def info(label):\n",
    "    '''\n",
    "    input string of column name\n",
    "    output comprehensive analysis of the column\n",
    "    '''\n",
    "    print(f'column name: {label}')\n",
    "    print('     ')\n",
    "    print(f'Question: {df[label][0]}')\n",
    "    print('     ')\n",
    "    print(f'number of null values: {df[label].isna().sum()}')\n",
    "    print('     ')\n",
    "    print('Value Count:')\n",
    "    \n",
    "    print(df[label].value_counts())"
   ]
  },
  {
   "cell_type": "code",
   "execution_count": 3,
   "metadata": {},
   "outputs": [],
   "source": [
    "# function for cleaning and adding the column to list for inferential model\n",
    "def process(column_name,dictionary):\n",
    "    inf_df[column_name]=inf_df[column_name].map(dictionary)\n",
    "    inf_col.append(column_name)"
   ]
  },
  {
   "cell_type": "markdown",
   "metadata": {},
   "source": [
    "### EDA"
   ]
  },
  {
   "cell_type": "code",
   "execution_count": 4,
   "metadata": {},
   "outputs": [],
   "source": [
    "# load dataframe\n",
    "df=pd.read_csv('data.csv',dtype='str')"
   ]
  },
  {
   "cell_type": "code",
   "execution_count": null,
   "metadata": {},
   "outputs": [],
   "source": [
    "# check the dataframe\n",
    "# output cleared because it's too long for github\n",
    "df"
   ]
  },
  {
   "cell_type": "markdown",
   "metadata": {},
   "source": [
    "The first row is the questions."
   ]
  },
  {
   "cell_type": "code",
   "execution_count": 6,
   "metadata": {},
   "outputs": [
    {
     "data": {
      "text/plain": [
       "(6813, 274)"
      ]
     },
     "execution_count": 6,
     "metadata": {},
     "output_type": "execute_result"
    }
   ],
   "source": [
    "# check the size of the dataset\n",
    "df.shape"
   ]
  },
  {
   "cell_type": "markdown",
   "metadata": {},
   "source": [
    "The dataset has 6812 data points and 274 columns. "
   ]
  },
  {
   "cell_type": "code",
   "execution_count": null,
   "metadata": {},
   "outputs": [],
   "source": [
    "# check column names\n",
    "# output cleared because it's too long for github\n",
    "list(df.columns)"
   ]
  },
  {
   "cell_type": "markdown",
   "metadata": {},
   "source": [
    "Survey questions start from the 10th column."
   ]
  },
  {
   "cell_type": "code",
   "execution_count": null,
   "metadata": {},
   "outputs": [],
   "source": [
    "# print out a list of the questions\n",
    "# output cleared because it's too long for github\n",
    "question_list=list(df.columns)[9:]\n",
    "for q in question_list:\n",
    "    print('********')\n",
    "    print(q)\n",
    "    print(df[q][0])"
   ]
  },
  {
   "cell_type": "markdown",
   "metadata": {},
   "source": [
    "Comprehensive exploratory data analysis was done by the original survey conductor and can be found [here](https://figshare.com/s/74a5ea79d76ad66a8af8?file=18543281)."
   ]
  },
  {
   "cell_type": "markdown",
   "metadata": {},
   "source": [
    "#### Data Limitation"
   ]
  },
  {
   "cell_type": "markdown",
   "metadata": {},
   "source": [
    "**Bias:**\n",
    "\n",
    "Data can be skewed towards overrepresented classes, notably Caucasian students.\n",
    "\n",
    "![Demographic](images/demographic.png)\n",
    "\n",
    "**Target:**\n",
    "\n",
    "Assume people who needs help would ask. Even though it would vastly underestimate the number of people who need help, it is the best metric we have now.\n",
    "\n",
    "**Question Design:**\n",
    "\n",
    "Survey questions are not specifically directed towards mental health, so the amount of information it can give is limited."
   ]
  },
  {
   "cell_type": "markdown",
   "metadata": {},
   "source": [
    "### Target"
   ]
  },
  {
   "cell_type": "markdown",
   "metadata": {},
   "source": [
    "Our target column is Q28"
   ]
  },
  {
   "cell_type": "code",
   "execution_count": 9,
   "metadata": {},
   "outputs": [
    {
     "data": {
      "text/plain": [
       "No                                                                          4083\n",
       "Yes                                                                         2429\n",
       "Prefer not to say                                                            292\n",
       "Have you ever sought help for anxiety or depression caused by PhD study?       1\n",
       "Name: Q28, dtype: int64"
      ]
     },
     "execution_count": 9,
     "metadata": {},
     "output_type": "execute_result"
    }
   ],
   "source": [
    "# check values for target\n",
    "df['Q28'].value_counts()"
   ]
  },
  {
   "cell_type": "code",
   "execution_count": 10,
   "metadata": {},
   "outputs": [
    {
     "data": {
      "text/plain": [
       "No                                                                          0.600000\n",
       "Yes                                                                         0.356943\n",
       "Prefer not to say                                                           0.042910\n",
       "Have you ever sought help for anxiety or depression caused by PhD study?    0.000147\n",
       "Name: Q28, dtype: float64"
      ]
     },
     "execution_count": 10,
     "metadata": {},
     "output_type": "execute_result"
    }
   ],
   "source": [
    "df['Q28'].value_counts(normalize=True)"
   ]
  },
  {
   "cell_type": "markdown",
   "metadata": {},
   "source": [
    "There are 4083 Nos and 2429 Yeses. There's a little bit of class imbalance, but not too bad."
   ]
  },
  {
   "cell_type": "code",
   "execution_count": 11,
   "metadata": {},
   "outputs": [
    {
     "data": {
      "text/plain": [
       "8"
      ]
     },
     "execution_count": 11,
     "metadata": {},
     "output_type": "execute_result"
    }
   ],
   "source": [
    "# check null values\n",
    "df['Q28'].isna().sum()"
   ]
  },
  {
   "cell_type": "markdown",
   "metadata": {},
   "source": [
    "There are not many \"prefer not to say\"s or null values, so we can safely drop them."
   ]
  },
  {
   "cell_type": "code",
   "execution_count": null,
   "metadata": {},
   "outputs": [],
   "source": [
    "# drop the rows that have null values in our target column\n",
    "# output cleared because it's too long for github\n",
    "df=df.dropna(subset=['Q28'])\n",
    "df"
   ]
  },
  {
   "cell_type": "code",
   "execution_count": 13,
   "metadata": {},
   "outputs": [],
   "source": [
    "# drop \"Prefer not to say\"s\n",
    "df=df[df['Q28']!='Prefer not to say']"
   ]
  },
  {
   "cell_type": "code",
   "execution_count": 14,
   "metadata": {},
   "outputs": [],
   "source": [
    "# make a dictionary for mapping target column\n",
    "dict_target={'Yes': 1, 'No': 0}"
   ]
  },
  {
   "cell_type": "code",
   "execution_count": 15,
   "metadata": {},
   "outputs": [],
   "source": [
    "# map target column into numeric values\n",
    "df['Q28']=df['Q28'].map(dict_target)"
   ]
  },
  {
   "cell_type": "markdown",
   "metadata": {},
   "source": [
    "#### Features"
   ]
  },
  {
   "cell_type": "markdown",
   "metadata": {},
   "source": [
    "There are two parts to this problem:\n",
    "- inferential modeling:\n",
    "    - figure out the risk factors for mental health issues in PhD students\n",
    "- predictive modeling:\n",
    "    - a model that can be put into use "
   ]
  },
  {
   "cell_type": "markdown",
   "metadata": {},
   "source": [
    "For these two approaches we need different data cleaning methods."
   ]
  },
  {
   "cell_type": "markdown",
   "metadata": {},
   "source": [
    "### Baseline Understanding"
   ]
  },
  {
   "cell_type": "code",
   "execution_count": 16,
   "metadata": {},
   "outputs": [
    {
     "data": {
      "text/plain": [
       "0.0    0.626996\n",
       "1.0    0.373004\n",
       "Name: Q28, dtype: float64"
      ]
     },
     "execution_count": 16,
     "metadata": {},
     "output_type": "execute_result"
    }
   ],
   "source": [
    "df['Q28'][1:].value_counts(normalize=True)"
   ]
  },
  {
   "cell_type": "markdown",
   "metadata": {},
   "source": [
    "If we predict the majority class of not going to need help for anxiety/depression as a result of PhD study (assuming that if people need help, they ask for help), we will be right 62.7% of the time."
   ]
  },
  {
   "cell_type": "markdown",
   "metadata": {},
   "source": [
    "### Inferential Modeling "
   ]
  },
  {
   "cell_type": "markdown",
   "metadata": {},
   "source": [
    "For this method, I'm going to pick out features that I think might be most relevant to mental health based on common sense and clean them up individually.\n",
    "\n",
    "The survey questions and answers can be found [here](https://figshare.com/s/74a5ea79d76ad66a8af8?file=18543278)."
   ]
  },
  {
   "cell_type": "code",
   "execution_count": 17,
   "metadata": {},
   "outputs": [],
   "source": [
    "# create a new list for all the columns that we'll be using for inferential modeling\n",
    "inf_col=[]"
   ]
  },
  {
   "cell_type": "code",
   "execution_count": 18,
   "metadata": {},
   "outputs": [],
   "source": [
    "# create a new df for inferential modeling by dropping the non-question columns\n",
    "inf_df=df.drop(columns=df.columns[:9])"
   ]
  },
  {
   "cell_type": "code",
   "execution_count": null,
   "metadata": {},
   "outputs": [],
   "source": [
    "# check dataframe\n",
    "# output cleared because it's too long for github\n",
    "inf_df"
   ]
  },
  {
   "cell_type": "markdown",
   "metadata": {},
   "source": [
    "**Dual Degree**"
   ]
  },
  {
   "cell_type": "code",
   "execution_count": 20,
   "metadata": {},
   "outputs": [
    {
     "name": "stdout",
     "output_type": "stream",
     "text": [
      "column name: Q1\n",
      "     \n",
      "Question: Which, if any, of the following degrees are you currently studying for?\n",
      "     \n",
      "number of null values: 0\n",
      "     \n",
      "Value Count:\n",
      "Doctorate degree (PhD/DPhil/MD)                                            6294\n",
      "Dual doctorate degree (MD-PhD, PhD-PhD or other combination)                218\n",
      "Which, if any, of the following degrees are you currently studying for?       1\n",
      "Name: Q1, dtype: int64\n"
     ]
    }
   ],
   "source": [
    "info('Q1')"
   ]
  },
  {
   "cell_type": "code",
   "execution_count": 21,
   "metadata": {},
   "outputs": [],
   "source": [
    "# create dictionary for converting values into numbers\n",
    "dict_Q1={'Doctorate degree (PhD/DPhil/MD)': 0, \n",
    "         'Dual doctorate degree (MD-PhD, PhD-PhD or other combination)': 1, \n",
    "         'Which, if any, of the following degrees are you currently studying for?':'dual_degree'}"
   ]
  },
  {
   "cell_type": "code",
   "execution_count": 22,
   "metadata": {
    "scrolled": true
   },
   "outputs": [],
   "source": [
    "# change values in column Q1\n",
    "inf_df['Q1']=inf_df['Q1'].replace(dict_Q1)"
   ]
  },
  {
   "cell_type": "code",
   "execution_count": 23,
   "metadata": {},
   "outputs": [],
   "source": [
    "# add processed column to list\n",
    "inf_col.append('Q1')"
   ]
  },
  {
   "cell_type": "markdown",
   "metadata": {},
   "source": [
    "The previous two steps are going to be repeated throughout the inferential modeling cleaning process so I'll write a function for it."
   ]
  },
  {
   "cell_type": "markdown",
   "metadata": {},
   "source": [
    "**Home Country**"
   ]
  },
  {
   "cell_type": "code",
   "execution_count": 24,
   "metadata": {},
   "outputs": [
    {
     "name": "stdout",
     "output_type": "stream",
     "text": [
      "column name: Q4\n",
      "     \n",
      "Question: Are you studying in the country you grew up in?   \n",
      "     \n",
      "number of null values: 0\n",
      "     \n",
      "Value Count:\n",
      "Yes                                                   4153\n",
      " No                                                   2359\n",
      "Are you studying in the country you grew up in?          1\n",
      "Name: Q4, dtype: int64\n"
     ]
    }
   ],
   "source": [
    "info('Q4')"
   ]
  },
  {
   "cell_type": "code",
   "execution_count": 25,
   "metadata": {},
   "outputs": [],
   "source": [
    "# create dictionary for value mapping\n",
    "dict_Q4={'Yes':1, \n",
    "         ' No':0,        \n",
    "         'Are you studying in the country you grew up in? \\xa0 ': 'home country'}"
   ]
  },
  {
   "cell_type": "code",
   "execution_count": 26,
   "metadata": {},
   "outputs": [],
   "source": [
    "# process the column\n",
    "process('Q4',dict_Q4)"
   ]
  },
  {
   "cell_type": "markdown",
   "metadata": {},
   "source": [
    "**Ouside Job**"
   ]
  },
  {
   "cell_type": "code",
   "execution_count": 27,
   "metadata": {},
   "outputs": [
    {
     "name": "stdout",
     "output_type": "stream",
     "text": [
      "column name: Q13\n",
      "     \n",
      "Question: Do you have a job alongside your studies?\n",
      "     \n",
      "number of null values: 0\n",
      "     \n",
      "Value Count:\n",
      "No                                           5249\n",
      "Yes                                          1263\n",
      "Do you have a job alongside your studies?       1\n",
      "Name: Q13, dtype: int64\n"
     ]
    }
   ],
   "source": [
    "info('Q13')"
   ]
  },
  {
   "cell_type": "code",
   "execution_count": 28,
   "metadata": {},
   "outputs": [],
   "source": [
    "# create dictionary for value mapping\n",
    "dict_Q13={'Yes ':1, \n",
    "          'No':0, \n",
    "          'Do you have a job alongside your studies?': 'job'}"
   ]
  },
  {
   "cell_type": "code",
   "execution_count": 29,
   "metadata": {},
   "outputs": [],
   "source": [
    "# process the column\n",
    "process('Q13',dict_Q13)"
   ]
  },
  {
   "cell_type": "markdown",
   "metadata": {},
   "source": [
    "**Bullying**"
   ]
  },
  {
   "cell_type": "code",
   "execution_count": 30,
   "metadata": {},
   "outputs": [
    {
     "name": "stdout",
     "output_type": "stream",
     "text": [
      "column name: Q31\n",
      "     \n",
      "Question: Do you feel that you have experienced bullying in your PhD program?\n",
      "     \n",
      "number of null values: 7\n",
      "     \n",
      "Value Count:\n",
      "No                                                                     4902\n",
      "Yes                                                                    1388\n",
      "Prefer not to say                                                       215\n",
      "Do you feel that you have experienced bullying in your PhD program?       1\n",
      "Name: Q31, dtype: int64\n"
     ]
    }
   ],
   "source": [
    "info('Q31')"
   ]
  },
  {
   "cell_type": "code",
   "execution_count": 31,
   "metadata": {},
   "outputs": [],
   "source": [
    "# create dictionary for value mapping\n",
    "dict_Q31={'Yes':1, \n",
    "          'No': 0, \n",
    "          'Prefer not to say': 2, \n",
    "          'Do you feel that you have experienced bullying in your PhD program?': 'bullying'}"
   ]
  },
  {
   "cell_type": "code",
   "execution_count": 32,
   "metadata": {},
   "outputs": [],
   "source": [
    "# process column\n",
    "process('Q31',dict_Q31)"
   ]
  },
  {
   "cell_type": "markdown",
   "metadata": {},
   "source": [
    "**discrimination/harrassment**"
   ]
  },
  {
   "cell_type": "code",
   "execution_count": 33,
   "metadata": {},
   "outputs": [
    {
     "name": "stdout",
     "output_type": "stream",
     "text": [
      "column name: Q34\n",
      "     \n",
      "Question: Do you feel that you have experienced discrimination or harassment in your PhD program?\n",
      "     \n",
      "number of null values: 24\n",
      "     \n",
      "Value Count:\n",
      "No                                                                                         4937\n",
      "Yes                                                                                        1334\n",
      "Prefer not to say                                                                           217\n",
      "Do you feel that you have experienced discrimination or harassment in your PhD program?       1\n",
      "Name: Q34, dtype: int64\n"
     ]
    }
   ],
   "source": [
    "info('Q34')"
   ]
  },
  {
   "cell_type": "code",
   "execution_count": 34,
   "metadata": {},
   "outputs": [],
   "source": [
    "# create dictionary for value mapping\n",
    "dict_Q34={'Yes':1, \n",
    "          'No': 0, \n",
    "          'Prefer not to say': 2, \n",
    "          'Do you feel that you have experienced discrimination or harassment in your PhD program?': 'discrimination/harrassment'}"
   ]
  },
  {
   "cell_type": "code",
   "execution_count": 35,
   "metadata": {},
   "outputs": [],
   "source": [
    "# process column\n",
    "process('Q34',dict_Q34)"
   ]
  },
  {
   "cell_type": "markdown",
   "metadata": {},
   "source": [
    "**Satisfaction**"
   ]
  },
  {
   "cell_type": "code",
   "execution_count": 36,
   "metadata": {},
   "outputs": [
    {
     "name": "stdout",
     "output_type": "stream",
     "text": [
      "column name: Q19.a\n",
      "     \n",
      "Question: How satisfied are you with your PhD experience?\n",
      "     \n",
      "number of null values: 0\n",
      "     \n",
      "Value Count:\n",
      "6                                                  2085\n",
      "5                                                  1908\n",
      "4 = Neither satisfied nor dissatisfied              717\n",
      "3                                                   659\n",
      "7 = Extremely satisfied                             592\n",
      "2                                                   360\n",
      "1 = Not at all satisfied                            191\n",
      "How satisfied are you with your PhD experience?       1\n",
      "Name: Q19.a, dtype: int64\n"
     ]
    }
   ],
   "source": [
    "info('Q19.a')"
   ]
  },
  {
   "cell_type": "markdown",
   "metadata": {},
   "source": [
    "Satisfaction is on a scale of 1 to 7, not at all satisfied to extremely satisfied. So the values just need to be reduced to numbers. "
   ]
  },
  {
   "cell_type": "code",
   "execution_count": 37,
   "metadata": {},
   "outputs": [],
   "source": [
    "# process the column values\n",
    "inf_df['Q19.a'][1:]=inf_df['Q19.a'][1:].map(lambda x:int(x[0]))\n",
    "# change the value of the first row \n",
    "inf_df['Q19.a'][0]='satisfaction'\n",
    "# add the column to our column list\n",
    "inf_col.append('Q19.a')"
   ]
  },
  {
   "cell_type": "markdown",
   "metadata": {},
   "source": [
    "**Work Hours**"
   ]
  },
  {
   "cell_type": "code",
   "execution_count": 38,
   "metadata": {},
   "outputs": [
    {
     "name": "stdout",
     "output_type": "stream",
     "text": [
      "column name: Q24\n",
      "     \n",
      "Question: On average, how many hours a week do you typically spend on your PhD programme?\n",
      "     \n",
      "number of null values: 0\n",
      "     \n",
      "Value Count:\n",
      "41-50 hours                                                                        1785\n",
      "51-60 hours                                                                        1609\n",
      "31-40 hours                                                                         783\n",
      "61-70 hours                                                                         774\n",
      "71-80 hours                                                                         425\n",
      "More than 80 hours                                                                  328\n",
      "Less than 11 hours                                                                  287\n",
      "21-30 hours                                                                         274\n",
      "11-20 hours                                                                         247\n",
      "On average, how many hours a week do you typically spend on your PhD programme?       1\n",
      "Name: Q24, dtype: int64\n"
     ]
    }
   ],
   "source": [
    "info('Q24')"
   ]
  },
  {
   "cell_type": "markdown",
   "metadata": {},
   "source": [
    "For this column, we can just take the middle of the range and cap it at 81 hours for simplicity. "
   ]
  },
  {
   "cell_type": "code",
   "execution_count": 39,
   "metadata": {},
   "outputs": [],
   "source": [
    "# create dictionary for value mapping\n",
    "dict_Q24={'41-50 hours': 45, \n",
    "          '51-60 hours': 55, \n",
    "          '31-40 hours': 35, \n",
    "          '61-70 hours': 65, \n",
    "          '71-80 hours': 75, \n",
    "          'More than 80 hours':81, \n",
    "          'Less than 11 hours': 5, \n",
    "          '21-30 hours': 25, \n",
    "          '11-20 hours': 15, \n",
    "          'On average, how many hours a week do you typically spend on your PhD programme?': 'hours_worked'}"
   ]
  },
  {
   "cell_type": "code",
   "execution_count": 40,
   "metadata": {},
   "outputs": [],
   "source": [
    "# process the column\n",
    "process('Q24', dict_Q24)"
   ]
  },
  {
   "cell_type": "markdown",
   "metadata": {},
   "source": [
    "**Gender**"
   ]
  },
  {
   "cell_type": "code",
   "execution_count": 41,
   "metadata": {},
   "outputs": [
    {
     "name": "stdout",
     "output_type": "stream",
     "text": [
      "column name: Q57\n",
      "     \n",
      "Question: Are you…\n",
      "     \n",
      "number of null values: 0\n",
      "     \n",
      "Value Count:\n",
      "Female (including trans female)    3298\n",
      "Male (including trans male)        3149\n",
      "Prefer not to say                    35\n",
      "Gender queer / Non binary            30\n",
      "Are you…                              1\n",
      "Name: Q57, dtype: int64\n"
     ]
    }
   ],
   "source": [
    "info('Q57')"
   ]
  },
  {
   "cell_type": "code",
   "execution_count": 42,
   "metadata": {},
   "outputs": [],
   "source": [
    "# create dictionary for value mapping\n",
    "dict_Q57={'Female (including trans female)':0, \n",
    "          'Male (including trans male)': 1, \n",
    "          'Prefer not to say': 2, \n",
    "          'Gender queer / Non binary': 3, \n",
    "          'Are you…': 'gender'}"
   ]
  },
  {
   "cell_type": "code",
   "execution_count": 43,
   "metadata": {},
   "outputs": [],
   "source": [
    "# process the column\n",
    "process('Q57',dict_Q57)"
   ]
  },
  {
   "cell_type": "markdown",
   "metadata": {},
   "source": [
    "**Age**"
   ]
  },
  {
   "cell_type": "code",
   "execution_count": 44,
   "metadata": {},
   "outputs": [
    {
     "name": "stdout",
     "output_type": "stream",
     "text": [
      "column name: Q56\n",
      "     \n",
      "Question: What is your age?\n",
      "     \n",
      "number of null values: 0\n",
      "     \n",
      "Value Count:\n",
      "25 - 34              5019\n",
      "18 - 24               789\n",
      "35 - 44               530\n",
      "45 - 54               103\n",
      "55 - 64                35\n",
      "Prefer not to say      23\n",
      "65 or over             13\n",
      "What is your age?       1\n",
      "Name: Q56, dtype: int64\n"
     ]
    }
   ],
   "source": [
    "info('Q56')"
   ]
  },
  {
   "cell_type": "markdown",
   "metadata": {},
   "source": [
    "Similar to the work hours column, I'll take the middle value and cap it at 65. Use majority class to fill in value for \"prefer not to say\"."
   ]
  },
  {
   "cell_type": "code",
   "execution_count": 45,
   "metadata": {},
   "outputs": [],
   "source": [
    "# create dictionary for value mapping\n",
    "dict_Q56={'25 - 34':30, \n",
    "          '18 - 24':21, \n",
    "          '35 - 44':40, \n",
    "          '45 - 54': 50, \n",
    "          '55 - 64': 60, \n",
    "          'Prefer not to say': 30, \n",
    "          '65 or over': 65, \n",
    "          'What is your age?': 'age'}"
   ]
  },
  {
   "cell_type": "code",
   "execution_count": 46,
   "metadata": {},
   "outputs": [],
   "source": [
    "# process the column\n",
    "process('Q56',dict_Q56)"
   ]
  },
  {
   "cell_type": "markdown",
   "metadata": {},
   "source": [
    "**Expected Unemployment Time**"
   ]
  },
  {
   "cell_type": "code",
   "execution_count": 47,
   "metadata": {},
   "outputs": [
    {
     "name": "stdout",
     "output_type": "stream",
     "text": [
      "column name: Q42\n",
      "     \n",
      "Question: After completing your PhD, how long do you think it will take you to find a permanent (non-trainee) position?\n",
      "     \n",
      "number of null values: 0\n",
      "     \n",
      "Value Count:\n",
      "Less than a year                                                                                                 1712\n",
      "1 to 2 years                                                                                                     1258\n",
      "3 to 6 years                                                                                                     1161\n",
      "2 to 3 years                                                                                                     1046\n",
      "Unsure                                                                                                            885\n",
      "More than 6 years                                                                                                 450\n",
      "After completing your PhD, how long do you think it will take you to find a permanent (non-trainee) position?       1\n",
      "Name: Q42, dtype: int64\n"
     ]
    }
   ],
   "source": [
    "info('Q42')"
   ]
  },
  {
   "cell_type": "markdown",
   "metadata": {},
   "source": [
    "Similar to the age column, I'll take the middle value and cap it at 6. Use most frequent class to fill in value for \"Unsure\"."
   ]
  },
  {
   "cell_type": "code",
   "execution_count": 48,
   "metadata": {},
   "outputs": [],
   "source": [
    "# create dictionary for value mapping\n",
    "dict_Q42={'Less than a year': 0.5, \n",
    "          '1 to 2 years': 1.5, \n",
    "          '3 to 6 years': 4.5, \n",
    "          '2 to 3 years': 2.5, \n",
    "          'Unsure': 0.5, \n",
    "          'More than 6 years': 6, \n",
    "          'After completing your PhD, how long do you think it will take you to find a permanent (non-trainee) position?': 'expected_unemployment_time'}"
   ]
  },
  {
   "cell_type": "code",
   "execution_count": 49,
   "metadata": {},
   "outputs": [],
   "source": [
    "# process the column\n",
    "process('Q42',dict_Q42)"
   ]
  },
  {
   "cell_type": "code",
   "execution_count": 50,
   "metadata": {},
   "outputs": [
    {
     "data": {
      "text/plain": [
       "['Q1', 'Q4', 'Q13', 'Q31', 'Q34', 'Q19.a', 'Q24', 'Q57', 'Q56', 'Q42']"
      ]
     },
     "execution_count": 50,
     "metadata": {},
     "output_type": "execute_result"
    }
   ],
   "source": [
    "# check the column list now\n",
    "inf_col"
   ]
  },
  {
   "cell_type": "code",
   "execution_count": 51,
   "metadata": {},
   "outputs": [],
   "source": [
    "# take out this subset\n",
    "inf_df=inf_df[inf_col]"
   ]
  },
  {
   "cell_type": "code",
   "execution_count": null,
   "metadata": {},
   "outputs": [],
   "source": [
    "# check dataframe\n",
    "# output cleared because it's too long for github\n",
    "inf_df"
   ]
  },
  {
   "cell_type": "code",
   "execution_count": 53,
   "metadata": {},
   "outputs": [],
   "source": [
    "# make the first row column names\n",
    "inf_df.columns = inf_df.iloc[0]\n",
    "# drop the first row\n",
    "inf_df=inf_df.drop([0])"
   ]
  },
  {
   "cell_type": "code",
   "execution_count": 54,
   "metadata": {},
   "outputs": [],
   "source": [
    "# fill na for 'job', 'bullying', and 'discrimination/harrassment'\n",
    "# assume all nulls are 'prefer not to say'\n",
    "inf_df['bullying'].fillna(value=2,inplace=True)\n",
    "inf_df['discrimination/harrassment'].fillna(value=2,inplace=True)"
   ]
  },
  {
   "cell_type": "code",
   "execution_count": 55,
   "metadata": {},
   "outputs": [],
   "source": [
    "# make all the data floats\n",
    "inf_df=inf_df.astype(float)"
   ]
  },
  {
   "cell_type": "code",
   "execution_count": null,
   "metadata": {},
   "outputs": [],
   "source": [
    "# check dataframe\n",
    "# output cleared because it's too long for github\n",
    "inf_df"
   ]
  },
  {
   "cell_type": "markdown",
   "metadata": {},
   "source": [
    "#### Train Test Split (Inferential)"
   ]
  },
  {
   "cell_type": "code",
   "execution_count": 57,
   "metadata": {},
   "outputs": [],
   "source": [
    "X_inf=inf_df\n",
    "y_inf=df['Q28'][1:]\n",
    "X_tr_inf, X_test_inf, y_tr_inf, y_test_inf = train_test_split(X_inf, y_inf, random_state=42)\n",
    "X_train_inf, X_val_inf, y_train_inf, y_val_inf = train_test_split(X_tr_inf, y_tr_inf, random_state=42)"
   ]
  },
  {
   "cell_type": "markdown",
   "metadata": {},
   "source": [
    "### Inferential Modeling"
   ]
  },
  {
   "cell_type": "markdown",
   "metadata": {},
   "source": [
    "### Logistic Regression"
   ]
  },
  {
   "cell_type": "markdown",
   "metadata": {},
   "source": [
    "#### Logistic Regression on Scaled Data for Feature Importance"
   ]
  },
  {
   "cell_type": "code",
   "execution_count": 58,
   "metadata": {},
   "outputs": [],
   "source": [
    "# instantiate scaler\n",
    "scaler=StandardScaler()\n",
    "# fit scaler on training data and transform it\n",
    "X_train_inf_scaled=scaler.fit_transform(X_train_inf)\n",
    "# transform validation and test set\n",
    "X_val_inf_scaled=scaler.transform(X_val_inf)\n",
    "X_test_inf_scaled=scaler.transform(X_test_inf)"
   ]
  },
  {
   "cell_type": "code",
   "execution_count": 59,
   "metadata": {},
   "outputs": [
    {
     "data": {
      "text/plain": [
       "LogisticRegression()"
      ]
     },
     "execution_count": 59,
     "metadata": {},
     "output_type": "execute_result"
    }
   ],
   "source": [
    "# instantiate and fit logistic regression on scaled data\n",
    "lr_scaled=LogisticRegression()\n",
    "lr_scaled.fit(X_train_inf_scaled,y_train_inf)"
   ]
  },
  {
   "cell_type": "code",
   "execution_count": 60,
   "metadata": {
    "scrolled": true
   },
   "outputs": [
    {
     "name": "stdout",
     "output_type": "stream",
     "text": [
      "Accuracy Score:\n",
      "Train - 0.6699426699426699\n",
      "Test - 0.6298116298116299\n",
      "  \n",
      "Precision Score:\n",
      "Train - 0.6080910240202275\n",
      "Test - 0.0\n",
      "  \n",
      "Recall Score: \n",
      "Train - 0.34855072463768116\n",
      "Test - 0.0\n",
      "  \n",
      "F1 Score: \n",
      "Train - 0.44311377245508987\n",
      "Test - 0.0\n",
      "  \n",
      "ROC_AUC: \n",
      "Train - 0.6063822392351786\n",
      "Test - 0.5\n",
      "  \n",
      "  \n",
      "Confusion matrix for test data\n"
     ]
    },
    {
     "data": {
      "text/plain": [
       "<sklearn.metrics._plot.confusion_matrix.ConfusionMatrixDisplay at 0x7fe27ad72670>"
      ]
     },
     "execution_count": 60,
     "metadata": {},
     "output_type": "execute_result"
    },
    {
     "data": {
      "image/png": "[encoded data removed]",
      "text/plain": [
       "<Figure size 432x288 with 2 Axes>"
      ]
     },
     "metadata": {
      "needs_background": "light"
     },
     "output_type": "display_data"
    }
   ],
   "source": [
    "evaluate(lr_scaled,X_train_inf_scaled,y_train_inf, X_val_inf, y_val_inf)"
   ]
  },
  {
   "cell_type": "code",
   "execution_count": 61,
   "metadata": {},
   "outputs": [
    {
     "data": {
      "text/html": [
       "<div>\n",
       "<style scoped>\n",
       "    .dataframe tbody tr th:only-of-type {\n",
       "        vertical-align: middle;\n",
       "    }\n",
       "\n",
       "    .dataframe tbody tr th {\n",
       "        vertical-align: top;\n",
       "    }\n",
       "\n",
       "    .dataframe thead th {\n",
       "        text-align: right;\n",
       "    }\n",
       "</style>\n",
       "<table border=\"1\" class=\"dataframe\">\n",
       "  <thead>\n",
       "    <tr style=\"text-align: right;\">\n",
       "      <th></th>\n",
       "      <th>0</th>\n",
       "    </tr>\n",
       "    <tr>\n",
       "      <th>0</th>\n",
       "      <th></th>\n",
       "    </tr>\n",
       "  </thead>\n",
       "  <tbody>\n",
       "    <tr>\n",
       "      <th>dual_degree</th>\n",
       "      <td>-0.000203</td>\n",
       "    </tr>\n",
       "    <tr>\n",
       "      <th>home country</th>\n",
       "      <td>-0.005066</td>\n",
       "    </tr>\n",
       "    <tr>\n",
       "      <th>job</th>\n",
       "      <td>-0.025679</td>\n",
       "    </tr>\n",
       "    <tr>\n",
       "      <th>bullying</th>\n",
       "      <td>0.293277</td>\n",
       "    </tr>\n",
       "    <tr>\n",
       "      <th>discrimination/harrassment</th>\n",
       "      <td>0.158266</td>\n",
       "    </tr>\n",
       "    <tr>\n",
       "      <th>satisfaction</th>\n",
       "      <td>-0.388380</td>\n",
       "    </tr>\n",
       "    <tr>\n",
       "      <th>hours_worked</th>\n",
       "      <td>0.011505</td>\n",
       "    </tr>\n",
       "    <tr>\n",
       "      <th>gender</th>\n",
       "      <td>-0.269279</td>\n",
       "    </tr>\n",
       "    <tr>\n",
       "      <th>age</th>\n",
       "      <td>-0.114616</td>\n",
       "    </tr>\n",
       "    <tr>\n",
       "      <th>expected_unemployment_time</th>\n",
       "      <td>-0.010260</td>\n",
       "    </tr>\n",
       "  </tbody>\n",
       "</table>\n",
       "</div>"
      ],
      "text/plain": [
       "                                   0\n",
       "0                                   \n",
       "dual_degree                -0.000203\n",
       "home country               -0.005066\n",
       "job                        -0.025679\n",
       "bullying                    0.293277\n",
       "discrimination/harrassment  0.158266\n",
       "satisfaction               -0.388380\n",
       "hours_worked                0.011505\n",
       "gender                     -0.269279\n",
       "age                        -0.114616\n",
       "expected_unemployment_time -0.010260"
      ]
     },
     "execution_count": 61,
     "metadata": {},
     "output_type": "execute_result"
    }
   ],
   "source": [
    "# print out coefficient of the logistic regression model in a dataframe\n",
    "coef_lr_scaled=pd.DataFrame(data=lr_scaled.coef_, columns=X_train_inf.columns).T\n",
    "coef_lr_scaled"
   ]
  },
  {
   "cell_type": "code",
   "execution_count": 62,
   "metadata": {},
   "outputs": [
    {
     "data": {
      "text/html": [
       "<div>\n",
       "<style scoped>\n",
       "    .dataframe tbody tr th:only-of-type {\n",
       "        vertical-align: middle;\n",
       "    }\n",
       "\n",
       "    .dataframe tbody tr th {\n",
       "        vertical-align: top;\n",
       "    }\n",
       "\n",
       "    .dataframe thead th {\n",
       "        text-align: right;\n",
       "    }\n",
       "</style>\n",
       "<table border=\"1\" class=\"dataframe\">\n",
       "  <thead>\n",
       "    <tr style=\"text-align: right;\">\n",
       "      <th></th>\n",
       "      <th>0</th>\n",
       "      <th>log_odds</th>\n",
       "    </tr>\n",
       "    <tr>\n",
       "      <th>0</th>\n",
       "      <th></th>\n",
       "      <th></th>\n",
       "    </tr>\n",
       "  </thead>\n",
       "  <tbody>\n",
       "    <tr>\n",
       "      <th>dual_degree</th>\n",
       "      <td>-0.000203</td>\n",
       "      <td>0.999797</td>\n",
       "    </tr>\n",
       "    <tr>\n",
       "      <th>home country</th>\n",
       "      <td>-0.005066</td>\n",
       "      <td>0.994947</td>\n",
       "    </tr>\n",
       "    <tr>\n",
       "      <th>job</th>\n",
       "      <td>-0.025679</td>\n",
       "      <td>0.974647</td>\n",
       "    </tr>\n",
       "    <tr>\n",
       "      <th>bullying</th>\n",
       "      <td>0.293277</td>\n",
       "      <td>1.340814</td>\n",
       "    </tr>\n",
       "    <tr>\n",
       "      <th>discrimination/harrassment</th>\n",
       "      <td>0.158266</td>\n",
       "      <td>1.171478</td>\n",
       "    </tr>\n",
       "    <tr>\n",
       "      <th>satisfaction</th>\n",
       "      <td>-0.388380</td>\n",
       "      <td>0.678154</td>\n",
       "    </tr>\n",
       "    <tr>\n",
       "      <th>hours_worked</th>\n",
       "      <td>0.011505</td>\n",
       "      <td>1.011572</td>\n",
       "    </tr>\n",
       "    <tr>\n",
       "      <th>gender</th>\n",
       "      <td>-0.269279</td>\n",
       "      <td>0.763930</td>\n",
       "    </tr>\n",
       "    <tr>\n",
       "      <th>age</th>\n",
       "      <td>-0.114616</td>\n",
       "      <td>0.891708</td>\n",
       "    </tr>\n",
       "    <tr>\n",
       "      <th>expected_unemployment_time</th>\n",
       "      <td>-0.010260</td>\n",
       "      <td>0.989792</td>\n",
       "    </tr>\n",
       "  </tbody>\n",
       "</table>\n",
       "</div>"
      ],
      "text/plain": [
       "                                   0  log_odds\n",
       "0                                             \n",
       "dual_degree                -0.000203  0.999797\n",
       "home country               -0.005066  0.994947\n",
       "job                        -0.025679  0.974647\n",
       "bullying                    0.293277  1.340814\n",
       "discrimination/harrassment  0.158266  1.171478\n",
       "satisfaction               -0.388380  0.678154\n",
       "hours_worked                0.011505  1.011572\n",
       "gender                     -0.269279  0.763930\n",
       "age                        -0.114616  0.891708\n",
       "expected_unemployment_time -0.010260  0.989792"
      ]
     },
     "execution_count": 62,
     "metadata": {},
     "output_type": "execute_result"
    }
   ],
   "source": [
    "# add a log odds column to this dataframe\n",
    "coef_lr_scaled['log_odds']=coef_lr_scaled[0].map(lambda x:np.exp(x))\n",
    "coef_lr_scaled"
   ]
  },
  {
   "cell_type": "markdown",
   "metadata": {},
   "source": [
    "By scaling the data, we can see that bullying has the most impact on the model result. Now let's do a logistic regression on unscaled data to figure out the impact of this feature in terms of actual numbers."
   ]
  },
  {
   "cell_type": "markdown",
   "metadata": {},
   "source": [
    "#### Logistic Regression on Unscaled Data for Numerical Impact"
   ]
  },
  {
   "cell_type": "code",
   "execution_count": 63,
   "metadata": {},
   "outputs": [
    {
     "name": "stdout",
     "output_type": "stream",
     "text": [
      "Accuracy Score:\n",
      "Train - 0.6693966693966694\n",
      "Test - 0.6552006552006552\n",
      "  \n",
      "Precision Score:\n",
      "Train - 0.6076433121019108\n",
      "Test - 0.5584905660377358\n",
      "  \n",
      "Recall Score: \n",
      "Train - 0.3456521739130435\n",
      "Test - 0.3274336283185841\n",
      "  \n",
      "F1 Score: \n",
      "Train - 0.44064665127020786\n",
      "Test - 0.41283124128312415\n",
      "  \n",
      "ROC_AUC: \n",
      "Train - 0.6053709840217867\n",
      "Test - 0.5876439923127381\n",
      "  \n",
      "  \n",
      "Confusion matrix for test data\n"
     ]
    },
    {
     "data": {
      "text/plain": [
       "<sklearn.metrics._plot.confusion_matrix.ConfusionMatrixDisplay at 0x7fe2887e0850>"
      ]
     },
     "execution_count": 63,
     "metadata": {},
     "output_type": "execute_result"
    },
    {
     "data": {
      "image/png": "[encoded data removed]",
      "text/plain": [
       "<Figure size 432x288 with 2 Axes>"
      ]
     },
     "metadata": {
      "needs_background": "light"
     },
     "output_type": "display_data"
    }
   ],
   "source": [
    "# instantiate logistic regression object\n",
    "lr=LogisticRegression()\n",
    "# fit the logistic regression\n",
    "lr.fit(X_train_inf, y_train_inf)\n",
    "# evaluate the model\n",
    "evaluate(lr,X_train_inf,y_train_inf,X_val_inf,y_val_inf)"
   ]
  },
  {
   "cell_type": "code",
   "execution_count": 64,
   "metadata": {},
   "outputs": [
    {
     "data": {
      "text/html": [
       "<div>\n",
       "<style scoped>\n",
       "    .dataframe tbody tr th:only-of-type {\n",
       "        vertical-align: middle;\n",
       "    }\n",
       "\n",
       "    .dataframe tbody tr th {\n",
       "        vertical-align: top;\n",
       "    }\n",
       "\n",
       "    .dataframe thead th {\n",
       "        text-align: right;\n",
       "    }\n",
       "</style>\n",
       "<table border=\"1\" class=\"dataframe\">\n",
       "  <thead>\n",
       "    <tr style=\"text-align: right;\">\n",
       "      <th></th>\n",
       "      <th>0</th>\n",
       "    </tr>\n",
       "    <tr>\n",
       "      <th>0</th>\n",
       "      <th></th>\n",
       "    </tr>\n",
       "  </thead>\n",
       "  <tbody>\n",
       "    <tr>\n",
       "      <th>dual_degree</th>\n",
       "      <td>-0.034009</td>\n",
       "    </tr>\n",
       "    <tr>\n",
       "      <th>home country</th>\n",
       "      <td>-0.005423</td>\n",
       "    </tr>\n",
       "    <tr>\n",
       "      <th>job</th>\n",
       "      <td>-0.071843</td>\n",
       "    </tr>\n",
       "    <tr>\n",
       "      <th>bullying</th>\n",
       "      <td>0.555394</td>\n",
       "    </tr>\n",
       "    <tr>\n",
       "      <th>discrimination/harrassment</th>\n",
       "      <td>0.302487</td>\n",
       "    </tr>\n",
       "    <tr>\n",
       "      <th>satisfaction</th>\n",
       "      <td>-0.264291</td>\n",
       "    </tr>\n",
       "    <tr>\n",
       "      <th>hours_worked</th>\n",
       "      <td>0.000697</td>\n",
       "    </tr>\n",
       "    <tr>\n",
       "      <th>gender</th>\n",
       "      <td>-0.500226</td>\n",
       "    </tr>\n",
       "    <tr>\n",
       "      <th>age</th>\n",
       "      <td>-0.020396</td>\n",
       "    </tr>\n",
       "    <tr>\n",
       "      <th>expected_unemployment_time</th>\n",
       "      <td>-0.005930</td>\n",
       "    </tr>\n",
       "  </tbody>\n",
       "</table>\n",
       "</div>"
      ],
      "text/plain": [
       "                                   0\n",
       "0                                   \n",
       "dual_degree                -0.034009\n",
       "home country               -0.005423\n",
       "job                        -0.071843\n",
       "bullying                    0.555394\n",
       "discrimination/harrassment  0.302487\n",
       "satisfaction               -0.264291\n",
       "hours_worked                0.000697\n",
       "gender                     -0.500226\n",
       "age                        -0.020396\n",
       "expected_unemployment_time -0.005930"
      ]
     },
     "execution_count": 64,
     "metadata": {},
     "output_type": "execute_result"
    }
   ],
   "source": [
    "# print out coefficient of the logistic regression model in a dataframe\n",
    "coef_lr=pd.DataFrame(data=lr.coef_, columns=X_train_inf.columns).T\n",
    "coef_lr"
   ]
  },
  {
   "cell_type": "code",
   "execution_count": 65,
   "metadata": {},
   "outputs": [],
   "source": [
    "# add a log odds column to this dataframe\n",
    "coef_lr['log_odds']=coef_lr[0].map(lambda x:np.exp(x))"
   ]
  },
  {
   "cell_type": "code",
   "execution_count": 66,
   "metadata": {},
   "outputs": [
    {
     "data": {
      "text/html": [
       "<div>\n",
       "<style scoped>\n",
       "    .dataframe tbody tr th:only-of-type {\n",
       "        vertical-align: middle;\n",
       "    }\n",
       "\n",
       "    .dataframe tbody tr th {\n",
       "        vertical-align: top;\n",
       "    }\n",
       "\n",
       "    .dataframe thead th {\n",
       "        text-align: right;\n",
       "    }\n",
       "</style>\n",
       "<table border=\"1\" class=\"dataframe\">\n",
       "  <thead>\n",
       "    <tr style=\"text-align: right;\">\n",
       "      <th></th>\n",
       "      <th>0</th>\n",
       "      <th>log_odds</th>\n",
       "    </tr>\n",
       "    <tr>\n",
       "      <th>0</th>\n",
       "      <th></th>\n",
       "      <th></th>\n",
       "    </tr>\n",
       "  </thead>\n",
       "  <tbody>\n",
       "    <tr>\n",
       "      <th>dual_degree</th>\n",
       "      <td>-0.034009</td>\n",
       "      <td>0.966562</td>\n",
       "    </tr>\n",
       "    <tr>\n",
       "      <th>home country</th>\n",
       "      <td>-0.005423</td>\n",
       "      <td>0.994592</td>\n",
       "    </tr>\n",
       "    <tr>\n",
       "      <th>job</th>\n",
       "      <td>-0.071843</td>\n",
       "      <td>0.930677</td>\n",
       "    </tr>\n",
       "    <tr>\n",
       "      <th>bullying</th>\n",
       "      <td>0.555394</td>\n",
       "      <td>1.742628</td>\n",
       "    </tr>\n",
       "    <tr>\n",
       "      <th>discrimination/harrassment</th>\n",
       "      <td>0.302487</td>\n",
       "      <td>1.353221</td>\n",
       "    </tr>\n",
       "    <tr>\n",
       "      <th>satisfaction</th>\n",
       "      <td>-0.264291</td>\n",
       "      <td>0.767750</td>\n",
       "    </tr>\n",
       "    <tr>\n",
       "      <th>hours_worked</th>\n",
       "      <td>0.000697</td>\n",
       "      <td>1.000698</td>\n",
       "    </tr>\n",
       "    <tr>\n",
       "      <th>gender</th>\n",
       "      <td>-0.500226</td>\n",
       "      <td>0.606394</td>\n",
       "    </tr>\n",
       "    <tr>\n",
       "      <th>age</th>\n",
       "      <td>-0.020396</td>\n",
       "      <td>0.979811</td>\n",
       "    </tr>\n",
       "    <tr>\n",
       "      <th>expected_unemployment_time</th>\n",
       "      <td>-0.005930</td>\n",
       "      <td>0.994087</td>\n",
       "    </tr>\n",
       "  </tbody>\n",
       "</table>\n",
       "</div>"
      ],
      "text/plain": [
       "                                   0  log_odds\n",
       "0                                             \n",
       "dual_degree                -0.034009  0.966562\n",
       "home country               -0.005423  0.994592\n",
       "job                        -0.071843  0.930677\n",
       "bullying                    0.555394  1.742628\n",
       "discrimination/harrassment  0.302487  1.353221\n",
       "satisfaction               -0.264291  0.767750\n",
       "hours_worked                0.000697  1.000698\n",
       "gender                     -0.500226  0.606394\n",
       "age                        -0.020396  0.979811\n",
       "expected_unemployment_time -0.005930  0.994087"
      ]
     },
     "execution_count": 66,
     "metadata": {},
     "output_type": "execute_result"
    }
   ],
   "source": [
    "coef_lr"
   ]
  },
  {
   "cell_type": "markdown",
   "metadata": {},
   "source": [
    "**Interpretation**\n",
    "\n",
    "holding everything else constant, the odds of needing help for anxiety and depression for students that are bullied (bullied = 1)over the odds of needing help for anxiety and depression for students that are not bullied (bullied = 0) is exp(.68) = 1.97.  In terms of percent change, we can say that the odds for getting anxiety and depression for students that are bullied are 97% higher than the odds for students that are not bullied."
   ]
  },
  {
   "cell_type": "markdown",
   "metadata": {},
   "source": [
    "#### Decision Tree"
   ]
  },
  {
   "cell_type": "code",
   "execution_count": 67,
   "metadata": {},
   "outputs": [
    {
     "name": "stdout",
     "output_type": "stream",
     "text": [
      "Accuracy Score:\n",
      "Train - 0.6661206661206661\n",
      "Test - 0.6437346437346437\n",
      "  \n",
      "Precision Score:\n",
      "Train - 0.6288998357963875\n",
      "Test - 0.5384615384615384\n",
      "  \n",
      "Recall Score: \n",
      "Train - 0.27753623188405796\n",
      "Test - 0.26327433628318586\n",
      "  \n",
      "F1 Score: \n",
      "Train - 0.3851181498240322\n",
      "Test - 0.3536404160475483\n",
      "  \n",
      "ROC_AUC: \n",
      "Train - 0.5892718391132948\n",
      "Test - 0.5653172721728024\n",
      "  \n",
      "  \n",
      "Confusion matrix for test data\n"
     ]
    },
    {
     "data": {
      "text/plain": [
       "<sklearn.metrics._plot.confusion_matrix.ConfusionMatrixDisplay at 0x7fe2887821f0>"
      ]
     },
     "execution_count": 67,
     "metadata": {},
     "output_type": "execute_result"
    },
    {
     "data": {
      "image/png": "[encoded data removed]",
      "text/plain": [
       "<Figure size 432x288 with 2 Axes>"
      ]
     },
     "metadata": {
      "needs_background": "light"
     },
     "output_type": "display_data"
    }
   ],
   "source": [
    "# instantiate, fit and evaluate decision tree model\n",
    "dt=DecisionTreeClassifier(max_depth=3,random_state=42)\n",
    "dt.fit(X_train_inf,y_train_inf)\n",
    "evaluate(dt,X_train_inf,y_train_inf,X_val_inf,y_val_inf)"
   ]
  },
  {
   "cell_type": "code",
   "execution_count": 68,
   "metadata": {},
   "outputs": [
    {
     "data": {
      "text/html": [
       "<div>\n",
       "<style scoped>\n",
       "    .dataframe tbody tr th:only-of-type {\n",
       "        vertical-align: middle;\n",
       "    }\n",
       "\n",
       "    .dataframe tbody tr th {\n",
       "        vertical-align: top;\n",
       "    }\n",
       "\n",
       "    .dataframe thead th {\n",
       "        text-align: right;\n",
       "    }\n",
       "</style>\n",
       "<table border=\"1\" class=\"dataframe\">\n",
       "  <thead>\n",
       "    <tr style=\"text-align: right;\">\n",
       "      <th></th>\n",
       "      <th>0</th>\n",
       "    </tr>\n",
       "    <tr>\n",
       "      <th>0</th>\n",
       "      <th></th>\n",
       "    </tr>\n",
       "  </thead>\n",
       "  <tbody>\n",
       "    <tr>\n",
       "      <th>dual_degree</th>\n",
       "      <td>0.000000</td>\n",
       "    </tr>\n",
       "    <tr>\n",
       "      <th>home country</th>\n",
       "      <td>0.000000</td>\n",
       "    </tr>\n",
       "    <tr>\n",
       "      <th>job</th>\n",
       "      <td>0.000000</td>\n",
       "    </tr>\n",
       "    <tr>\n",
       "      <th>bullying</th>\n",
       "      <td>0.511641</td>\n",
       "    </tr>\n",
       "    <tr>\n",
       "      <th>discrimination/harrassment</th>\n",
       "      <td>0.056412</td>\n",
       "    </tr>\n",
       "    <tr>\n",
       "      <th>satisfaction</th>\n",
       "      <td>0.272708</td>\n",
       "    </tr>\n",
       "    <tr>\n",
       "      <th>hours_worked</th>\n",
       "      <td>0.000000</td>\n",
       "    </tr>\n",
       "    <tr>\n",
       "      <th>gender</th>\n",
       "      <td>0.159238</td>\n",
       "    </tr>\n",
       "    <tr>\n",
       "      <th>age</th>\n",
       "      <td>0.000000</td>\n",
       "    </tr>\n",
       "    <tr>\n",
       "      <th>expected_unemployment_time</th>\n",
       "      <td>0.000000</td>\n",
       "    </tr>\n",
       "  </tbody>\n",
       "</table>\n",
       "</div>"
      ],
      "text/plain": [
       "                                   0\n",
       "0                                   \n",
       "dual_degree                 0.000000\n",
       "home country                0.000000\n",
       "job                         0.000000\n",
       "bullying                    0.511641\n",
       "discrimination/harrassment  0.056412\n",
       "satisfaction                0.272708\n",
       "hours_worked                0.000000\n",
       "gender                      0.159238\n",
       "age                         0.000000\n",
       "expected_unemployment_time  0.000000"
      ]
     },
     "execution_count": 68,
     "metadata": {},
     "output_type": "execute_result"
    }
   ],
   "source": [
    "#print out feature importance of the decision tree model in a dataframe\n",
    "fi_dt=pd.DataFrame(data=dt.feature_importances_, index=X_train_inf.columns)\n",
    "fi_dt"
   ]
  },
  {
   "cell_type": "markdown",
   "metadata": {},
   "source": [
    "**Interpretation**\n",
    "\n",
    "Decision tree confirms that bullying is the most important contributor to whether a student needs help for anxiety/depression."
   ]
  },
  {
   "cell_type": "markdown",
   "metadata": {},
   "source": [
    "### Predictive Modeling"
   ]
  },
  {
   "cell_type": "markdown",
   "metadata": {},
   "source": [
    "Drop columns that are totally non-related: \n",
    "\n",
    "There are two types of columns that needs dropping:\n",
    "- columns that starts with \"ID.\", these are the administrative columns of when and how the survey is done.\n",
    "- columns starting from Q60 are also administrative columns\n",
    "- columns that are 'If other, please specify'\n",
    "- columns that give away the answer, which is 'Q29' : Did you seek help for anxiety or depression within your institution? "
   ]
  },
  {
   "cell_type": "code",
   "execution_count": 69,
   "metadata": {},
   "outputs": [],
   "source": [
    "# create a list for columns that needs dropping and loop through all columns to find them\n",
    "drop_list=[]\n",
    "for c in list(df.columns):\n",
    "    if c[:2]=='ID':\n",
    "        drop_list.append(c)\n",
    "    elif c[:2]=='Q6':\n",
    "        drop_list.append(c)\n",
    "    elif df[c][0]=='If other, please specify':\n",
    "        drop_list.append(c)"
   ]
  },
  {
   "cell_type": "code",
   "execution_count": null,
   "metadata": {},
   "outputs": [],
   "source": [
    "# check drop list\n",
    "# output cleared because it's too long for github\n",
    "drop_list"
   ]
  },
  {
   "cell_type": "code",
   "execution_count": null,
   "metadata": {},
   "outputs": [],
   "source": [
    "# add question 29 because it gives out the answer\n",
    "# output cleared because it's too long for github\n",
    "drop_list.append('Q29')\n",
    "drop_list"
   ]
  },
  {
   "cell_type": "code",
   "execution_count": 72,
   "metadata": {},
   "outputs": [],
   "source": [
    "# add question 55 because it's a another short answer column and we are not dealing with natural language processing in this project\n",
    "drop_list.append('Q55')"
   ]
  },
  {
   "cell_type": "code",
   "execution_count": 73,
   "metadata": {},
   "outputs": [],
   "source": [
    "# create dataframe for predictive modeling\n",
    "df_pred=df.drop(columns=drop_list)"
   ]
  },
  {
   "cell_type": "code",
   "execution_count": null,
   "metadata": {
    "scrolled": true
   },
   "outputs": [],
   "source": [
    "# fill all null values with 0\n",
    "# output cleared because it's too long for github\n",
    "df_pred.fillna(0)"
   ]
  },
  {
   "cell_type": "code",
   "execution_count": 75,
   "metadata": {},
   "outputs": [],
   "source": [
    "# convert data type to string for catboost\n",
    "df_pred=df_pred.astype('str')"
   ]
  },
  {
   "cell_type": "markdown",
   "metadata": {},
   "source": [
    "### Train Test Split"
   ]
  },
  {
   "cell_type": "code",
   "execution_count": 76,
   "metadata": {},
   "outputs": [],
   "source": [
    "# separate X and y, drop the first column because they are questions\n",
    "X=df_pred.drop('Q28', axis=1)\n",
    "X=X.drop(index=1)\n",
    "y=df['Q28'][1:]"
   ]
  },
  {
   "cell_type": "code",
   "execution_count": 77,
   "metadata": {},
   "outputs": [],
   "source": [
    "# train test split\n",
    "X_tr, X_test, y_tr, y_test = train_test_split(X, y, random_state=42)\n",
    "X_train, X_val, y_train, y_val = train_test_split(X_tr, y_tr, random_state=42)"
   ]
  },
  {
   "cell_type": "markdown",
   "metadata": {},
   "source": [
    "### CatBoost"
   ]
  },
  {
   "cell_type": "markdown",
   "metadata": {},
   "source": [
    "**Untuned CatBoost**"
   ]
  },
  {
   "cell_type": "code",
   "execution_count": 78,
   "metadata": {},
   "outputs": [],
   "source": [
    "# instantiate catboost object\n",
    "cb=CatBoostClassifier(random_state=42, silent=True)"
   ]
  },
  {
   "cell_type": "code",
   "execution_count": null,
   "metadata": {},
   "outputs": [],
   "source": [
    "# make a list for categorical features\n",
    "# output cleared because it's too long for github\n",
    "cat_features = X.columns[np.where(X.dtypes != float)[0]].values.tolist()\n",
    "print(cat_features)"
   ]
  },
  {
   "cell_type": "code",
   "execution_count": 80,
   "metadata": {},
   "outputs": [
    {
     "data": {
      "text/plain": [
       "<catboost.core.CatBoostClassifier at 0x7fe288743850>"
      ]
     },
     "execution_count": 80,
     "metadata": {},
     "output_type": "execute_result"
    }
   ],
   "source": [
    "# fit the model on training set\n",
    "cb.fit(X_train,y_train, cat_features=cat_features)"
   ]
  },
  {
   "cell_type": "code",
   "execution_count": 81,
   "metadata": {},
   "outputs": [
    {
     "data": {
      "text/html": [
       "<div>\n",
       "<style scoped>\n",
       "    .dataframe tbody tr th:only-of-type {\n",
       "        vertical-align: middle;\n",
       "    }\n",
       "\n",
       "    .dataframe tbody tr th {\n",
       "        vertical-align: top;\n",
       "    }\n",
       "\n",
       "    .dataframe thead th {\n",
       "        text-align: right;\n",
       "    }\n",
       "</style>\n",
       "<table border=\"1\" class=\"dataframe\">\n",
       "  <thead>\n",
       "    <tr style=\"text-align: right;\">\n",
       "      <th></th>\n",
       "      <th>Feature Id</th>\n",
       "      <th>Importances</th>\n",
       "    </tr>\n",
       "  </thead>\n",
       "  <tbody>\n",
       "    <tr>\n",
       "      <th>0</th>\n",
       "      <td>Q15.m</td>\n",
       "      <td>6.113318</td>\n",
       "    </tr>\n",
       "    <tr>\n",
       "      <th>1</th>\n",
       "      <td>Q57</td>\n",
       "      <td>3.017581</td>\n",
       "    </tr>\n",
       "    <tr>\n",
       "      <th>2</th>\n",
       "      <td>Q30.a</td>\n",
       "      <td>2.657536</td>\n",
       "    </tr>\n",
       "    <tr>\n",
       "      <th>3</th>\n",
       "      <td>Q31</td>\n",
       "      <td>2.553894</td>\n",
       "    </tr>\n",
       "    <tr>\n",
       "      <th>4</th>\n",
       "      <td>Q54:4</td>\n",
       "      <td>2.158595</td>\n",
       "    </tr>\n",
       "    <tr>\n",
       "      <th>...</th>\n",
       "      <td>...</td>\n",
       "      <td>...</td>\n",
       "    </tr>\n",
       "    <tr>\n",
       "      <th>221</th>\n",
       "      <td>Q58:5</td>\n",
       "      <td>0.022251</td>\n",
       "    </tr>\n",
       "    <tr>\n",
       "      <th>222</th>\n",
       "      <td>Q35:5</td>\n",
       "      <td>0.019389</td>\n",
       "    </tr>\n",
       "    <tr>\n",
       "      <th>223</th>\n",
       "      <td>Q2</td>\n",
       "      <td>0.000000</td>\n",
       "    </tr>\n",
       "    <tr>\n",
       "      <th>224</th>\n",
       "      <td>Q16</td>\n",
       "      <td>0.000000</td>\n",
       "    </tr>\n",
       "    <tr>\n",
       "      <th>225</th>\n",
       "      <td>Q26</td>\n",
       "      <td>0.000000</td>\n",
       "    </tr>\n",
       "  </tbody>\n",
       "</table>\n",
       "<p>226 rows × 2 columns</p>\n",
       "</div>"
      ],
      "text/plain": [
       "    Feature Id  Importances\n",
       "0        Q15.m     6.113318\n",
       "1          Q57     3.017581\n",
       "2        Q30.a     2.657536\n",
       "3          Q31     2.553894\n",
       "4        Q54:4     2.158595\n",
       "..         ...          ...\n",
       "221      Q58:5     0.022251\n",
       "222      Q35:5     0.019389\n",
       "223         Q2     0.000000\n",
       "224        Q16     0.000000\n",
       "225        Q26     0.000000\n",
       "\n",
       "[226 rows x 2 columns]"
      ]
     },
     "execution_count": 81,
     "metadata": {},
     "output_type": "execute_result"
    }
   ],
   "source": [
    "# get feature importance for catboost model\n",
    "cb.get_feature_importance(prettified=True)"
   ]
  },
  {
   "cell_type": "code",
   "execution_count": 82,
   "metadata": {},
   "outputs": [
    {
     "name": "stdout",
     "output_type": "stream",
     "text": [
      "Accuracy Score:\n",
      "Train - 0.815997815997816\n",
      "Test - 0.7125307125307125\n",
      "  \n",
      "Precision Score:\n",
      "Train - 0.8268518518518518\n",
      "Test - 0.6463768115942029\n",
      "  \n",
      "Recall Score: \n",
      "Train - 0.6471014492753623\n",
      "Test - 0.49336283185840707\n",
      "  \n",
      "F1 Score: \n",
      "Train - 0.7260162601626016\n",
      "Test - 0.5595984943538268\n",
      "  \n",
      "ROC_AUC: \n",
      "Train - 0.7825958407130207\n",
      "Test - 0.6673576187900618\n",
      "  \n",
      "  \n",
      "Confusion matrix for test data\n"
     ]
    },
    {
     "data": {
      "text/plain": [
       "<sklearn.metrics._plot.confusion_matrix.ConfusionMatrixDisplay at 0x7fe299509e80>"
      ]
     },
     "execution_count": 82,
     "metadata": {},
     "output_type": "execute_result"
    },
    {
     "data": {
      "image/png": "[encoded data removed]",
      "text/plain": [
       "<Figure size 432x288 with 2 Axes>"
      ]
     },
     "metadata": {
      "needs_background": "light"
     },
     "output_type": "display_data"
    }
   ],
   "source": [
    "evaluate(cb,X_train,y_train,X_val,y_val)"
   ]
  },
  {
   "cell_type": "markdown",
   "metadata": {},
   "source": [
    "The untuned catboost model is overfitted because the training accuracy is way higher than validation set accuracy."
   ]
  },
  {
   "cell_type": "markdown",
   "metadata": {},
   "source": [
    "**Tune CatBoost by Eliminating Noise Columns**"
   ]
  },
  {
   "cell_type": "code",
   "execution_count": null,
   "metadata": {
    "scrolled": true
   },
   "outputs": [],
   "source": [
    "# code adapted from Matthew Turner, his github link (https://github.com/austint1121/Undiagnosed-ADHD-Identification)\n",
    "\n",
    "# output cleared because it's too long for github\n",
    "\n",
    "# Select categorical features by selecting anything columns that aren't a float\n",
    "categorical_features_indices = list(np.where(X_train.dtypes != float)[0])\n",
    "\n",
    "# create catboost pool as input for this new model, select X, and y, specifying categorical columns\n",
    "data = Pool(X_train, y_train, cat_features=categorical_features_indices)\n",
    "\n",
    "# Instantiate model\n",
    "model = CatBoostClassifier(random_state = 42)\n",
    "\n",
    "# select features\n",
    "summary = model.select_features(\n",
    "    data,\n",
    "    features_for_select=categorical_features_indices, \n",
    "    num_features_to_select=5, \n",
    "    steps=3,\n",
    "    algorithm=catboost.EFeaturesSelectionAlgorithm.RecursiveByShapValues,\n",
    "    shap_calc_type=catboost.EShapCalcType.Regular,\n",
    "    train_final_model=False,\n",
    "    verbose=False\n",
    ")"
   ]
  },
  {
   "cell_type": "markdown",
   "metadata": {},
   "source": [
    "Train a new model that eliminates all the feature catboost found to be redundant."
   ]
  },
  {
   "cell_type": "code",
   "execution_count": null,
   "metadata": {},
   "outputs": [],
   "source": [
    "# output cleared because it's too long for github\n",
    "\n",
    "# Instantiate model\n",
    "new_cb = CatBoostClassifier(random_state= 42)\n",
    "\n",
    "# select features and train new model with those features\n",
    "summary = new_cb.select_features(\n",
    "    data,\n",
    "    features_for_select=categorical_features_indices, \n",
    "    num_features_to_select=5, \n",
    "    steps=5,\n",
    "    algorithm=catboost.EFeaturesSelectionAlgorithm.RecursiveByShapValues,\n",
    "    shap_calc_type=catboost.EShapCalcType.Regular,\n",
    "    train_final_model=True,\n",
    "    verbose=False\n",
    ")"
   ]
  },
  {
   "cell_type": "code",
   "execution_count": 85,
   "metadata": {},
   "outputs": [
    {
     "name": "stdout",
     "output_type": "stream",
     "text": [
      "Accuracy Score:\n",
      "Train - 0.7654927654927655\n",
      "Test - 0.6912366912366913\n",
      "  \n",
      "Precision Score:\n",
      "Train - 0.7592039800995025\n",
      "Test - 0.6132930513595166\n",
      "  \n",
      "Recall Score: \n",
      "Train - 0.5528985507246377\n",
      "Test - 0.4491150442477876\n",
      "  \n",
      "F1 Score: \n",
      "Train - 0.639832285115304\n",
      "Test - 0.5185185185185185\n",
      "  \n",
      "ROC_AUC: \n",
      "Train - 0.72344883734217\n",
      "Test - 0.6413325546336467\n",
      "  \n",
      "  \n",
      "Confusion matrix for test data\n"
     ]
    },
    {
     "data": {
      "text/plain": [
       "<sklearn.metrics._plot.confusion_matrix.ConfusionMatrixDisplay at 0x7fe29a52d5e0>"
      ]
     },
     "execution_count": 85,
     "metadata": {},
     "output_type": "execute_result"
    },
    {
     "data": {
      "image/png": "[encoded data removed]",
      "text/plain": [
       "<Figure size 432x288 with 2 Axes>"
      ]
     },
     "metadata": {
      "needs_background": "light"
     },
     "output_type": "display_data"
    }
   ],
   "source": [
    "evaluate(new_cb,X_train,y_train,X_val,y_val)"
   ]
  },
  {
   "cell_type": "markdown",
   "metadata": {},
   "source": [
    "The model is not overfitted."
   ]
  },
  {
   "cell_type": "markdown",
   "metadata": {},
   "source": [
    "#### Gridsearch CatBoost"
   ]
  },
  {
   "cell_type": "markdown",
   "metadata": {},
   "source": [
    "Try gridsearch to see if there's an improvement."
   ]
  },
  {
   "cell_type": "code",
   "execution_count": 86,
   "metadata": {},
   "outputs": [],
   "source": [
    "# set up dictionary for parameters\n",
    "cb_param={'learning_rate':[0.01,0.1,0.5],\n",
    "          'depth':[3,7,10],\n",
    "          'l2_leaf_reg':[1,5,9]}"
   ]
  },
  {
   "cell_type": "code",
   "execution_count": null,
   "metadata": {},
   "outputs": [],
   "source": [
    "# output cleared because it's too long for github\n",
    "\n",
    "# instantiate model object\n",
    "gridsearch_cb=CatBoostClassifier(random_state=42)\n",
    "# fit data to model object using gridsearch\n",
    "result=gridsearch_cb.grid_search(cb_param, data, calc_cv_statistics=True, search_by_train_test_split=True, verbose=False)"
   ]
  },
  {
   "cell_type": "code",
   "execution_count": 88,
   "metadata": {},
   "outputs": [
    {
     "name": "stdout",
     "output_type": "stream",
     "text": [
      "Accuracy Score:\n",
      "Train - 0.8416598416598416\n",
      "Test - 0.7084357084357085\n",
      "  \n",
      "Precision Score:\n",
      "Train - 0.8367003367003367\n",
      "Test - 0.6263157894736842\n",
      "  \n",
      "Recall Score: \n",
      "Train - 0.7202898550724638\n",
      "Test - 0.5265486725663717\n",
      "  \n",
      "F1 Score: \n",
      "Train - 0.7741433021806854\n",
      "Test - 0.5721153846153846\n",
      "  \n",
      "ROC_AUC: \n",
      "Train - 0.8176569730903273\n",
      "Test - 0.670946637973693\n",
      "  \n",
      "  \n",
      "Confusion matrix for test data\n"
     ]
    },
    {
     "data": {
      "text/plain": [
       "<sklearn.metrics._plot.confusion_matrix.ConfusionMatrixDisplay at 0x7fe29a538af0>"
      ]
     },
     "execution_count": 88,
     "metadata": {},
     "output_type": "execute_result"
    },
    {
     "data": {
      "image/png": "[encoded data removed]",
      "text/plain": [
       "<Figure size 432x288 with 2 Axes>"
      ]
     },
     "metadata": {
      "needs_background": "light"
     },
     "output_type": "display_data"
    }
   ],
   "source": [
    "evaluate(gridsearch_cb,X_train,y_train,X_val,y_val)"
   ]
  },
  {
   "cell_type": "markdown",
   "metadata": {},
   "source": [
    "Gridsearching gave us a overfitted model."
   ]
  },
  {
   "cell_type": "markdown",
   "metadata": {},
   "source": [
    "### Evaluation"
   ]
  },
  {
   "cell_type": "markdown",
   "metadata": {},
   "source": [
    "Our best predictive model so far is the catboost model with feature selection."
   ]
  },
  {
   "cell_type": "code",
   "execution_count": 89,
   "metadata": {},
   "outputs": [
    {
     "name": "stdout",
     "output_type": "stream",
     "text": [
      "Accuracy Score:\n",
      "Train - 0.7654927654927655\n",
      "Test - 0.6934889434889435\n",
      "  \n",
      "Precision Score:\n",
      "Train - 0.7592039800995025\n",
      "Test - 0.6108597285067874\n",
      "  \n",
      "Recall Score: \n",
      "Train - 0.5528985507246377\n",
      "Test - 0.45226130653266333\n",
      "  \n",
      "F1 Score: \n",
      "Train - 0.639832285115304\n",
      "Test - 0.5197305101058711\n",
      "  \n",
      "ROC_AUC: \n",
      "Train - 0.72344883734217\n",
      "Test - 0.6427164922576022\n",
      "  \n",
      "  \n",
      "Confusion matrix for test data\n"
     ]
    },
    {
     "data": {
      "text/plain": [
       "<sklearn.metrics._plot.confusion_matrix.ConfusionMatrixDisplay at 0x7fe258230d60>"
      ]
     },
     "execution_count": 89,
     "metadata": {},
     "output_type": "execute_result"
    },
    {
     "data": {
      "image/png": "[encoded data removed]",
      "text/plain": [
       "<Figure size 432x288 with 2 Axes>"
      ]
     },
     "metadata": {
      "needs_background": "light"
     },
     "output_type": "display_data"
    }
   ],
   "source": [
    "# evaluate final model on test set\n",
    "evaluate(new_cb, X_train, y_train, X_test, y_test)"
   ]
  },
  {
   "cell_type": "markdown",
   "metadata": {},
   "source": [
    "The model performance is consistent across training, testing and validation set. The model is not overfitted. Now let's look at feature importance."
   ]
  },
  {
   "cell_type": "code",
   "execution_count": 90,
   "metadata": {},
   "outputs": [
    {
     "data": {
      "text/html": [
       "<div>\n",
       "<style scoped>\n",
       "    .dataframe tbody tr th:only-of-type {\n",
       "        vertical-align: middle;\n",
       "    }\n",
       "\n",
       "    .dataframe tbody tr th {\n",
       "        vertical-align: top;\n",
       "    }\n",
       "\n",
       "    .dataframe thead th {\n",
       "        text-align: right;\n",
       "    }\n",
       "</style>\n",
       "<table border=\"1\" class=\"dataframe\">\n",
       "  <thead>\n",
       "    <tr style=\"text-align: right;\">\n",
       "      <th></th>\n",
       "      <th>Feature Id</th>\n",
       "      <th>Importances</th>\n",
       "    </tr>\n",
       "  </thead>\n",
       "  <tbody>\n",
       "    <tr>\n",
       "      <th>0</th>\n",
       "      <td>Q15.m</td>\n",
       "      <td>28.936742</td>\n",
       "    </tr>\n",
       "    <tr>\n",
       "      <th>1</th>\n",
       "      <td>Q30.a</td>\n",
       "      <td>23.135176</td>\n",
       "    </tr>\n",
       "    <tr>\n",
       "      <th>2</th>\n",
       "      <td>Q54:4</td>\n",
       "      <td>17.194360</td>\n",
       "    </tr>\n",
       "    <tr>\n",
       "      <th>3</th>\n",
       "      <td>Q31</td>\n",
       "      <td>16.806516</td>\n",
       "    </tr>\n",
       "    <tr>\n",
       "      <th>4</th>\n",
       "      <td>Q41</td>\n",
       "      <td>13.927206</td>\n",
       "    </tr>\n",
       "    <tr>\n",
       "      <th>...</th>\n",
       "      <td>...</td>\n",
       "      <td>...</td>\n",
       "    </tr>\n",
       "    <tr>\n",
       "      <th>221</th>\n",
       "      <td>Q59:1</td>\n",
       "      <td>0.000000</td>\n",
       "    </tr>\n",
       "    <tr>\n",
       "      <th>222</th>\n",
       "      <td>Q59:2</td>\n",
       "      <td>0.000000</td>\n",
       "    </tr>\n",
       "    <tr>\n",
       "      <th>223</th>\n",
       "      <td>Q59:3</td>\n",
       "      <td>0.000000</td>\n",
       "    </tr>\n",
       "    <tr>\n",
       "      <th>224</th>\n",
       "      <td>Q59:4</td>\n",
       "      <td>0.000000</td>\n",
       "    </tr>\n",
       "    <tr>\n",
       "      <th>225</th>\n",
       "      <td>Q59:5</td>\n",
       "      <td>0.000000</td>\n",
       "    </tr>\n",
       "  </tbody>\n",
       "</table>\n",
       "<p>226 rows × 2 columns</p>\n",
       "</div>"
      ],
      "text/plain": [
       "    Feature Id  Importances\n",
       "0        Q15.m    28.936742\n",
       "1        Q30.a    23.135176\n",
       "2        Q54:4    17.194360\n",
       "3          Q31    16.806516\n",
       "4          Q41    13.927206\n",
       "..         ...          ...\n",
       "221      Q59:1     0.000000\n",
       "222      Q59:2     0.000000\n",
       "223      Q59:3     0.000000\n",
       "224      Q59:4     0.000000\n",
       "225      Q59:5     0.000000\n",
       "\n",
       "[226 rows x 2 columns]"
      ]
     },
     "execution_count": 90,
     "metadata": {},
     "output_type": "execute_result"
    }
   ],
   "source": [
    "# get feature importance for final model\n",
    "new_cb.get_feature_importance(prettified=True)"
   ]
  },
  {
   "cell_type": "markdown",
   "metadata": {},
   "source": [
    "The the top 4 features are overwhelmingly more important than the rest. Let's see what they are."
   ]
  },
  {
   "cell_type": "code",
   "execution_count": 91,
   "metadata": {
    "scrolled": true
   },
   "outputs": [
    {
     "name": "stdout",
     "output_type": "stream",
     "text": [
      "column name: Q15.m\n",
      "     \n",
      "Question: Concern about my mental health as a result of PhD study\n",
      "     \n",
      "number of null values: 3068\n",
      "     \n",
      "Value Count:\n",
      "3rd                                                        510\n",
      "2nd                                                        490\n",
      "4th                                                        452\n",
      "5th                                                        416\n",
      "1st                                                        366\n",
      "6th                                                        296\n",
      "7th                                                        246\n",
      "8th                                                        195\n",
      "9th                                                        121\n",
      "10th                                                       118\n",
      "11th                                                        87\n",
      "12th                                                        78\n",
      "13th                                                        41\n",
      "14th                                                        28\n",
      "Concern about my mental health as a result of PhD study      1\n",
      "Name: Q15.m, dtype: int64\n"
     ]
    }
   ],
   "source": [
    "info('Q15.m')"
   ]
  },
  {
   "cell_type": "markdown",
   "metadata": {},
   "source": [
    "How concerned a student is when they go into a PhD program is a strong predictor of how likely they are going to ask for help for anxiety and depression. The reason could be if the student is very concerned about their mental health, they are more mental health conscious, therefore better at recognizing when they need to ask for help. Or it could be that a student who already has a vulnerability to mental health issues would be more concerned about it.\n",
    "\n",
    "This is a innate quality of the student, not environmental. There's nothing the school can do about it so we will not focus on that."
   ]
  },
  {
   "cell_type": "code",
   "execution_count": 92,
   "metadata": {
    "scrolled": true
   },
   "outputs": [
    {
     "name": "stdout",
     "output_type": "stream",
     "text": [
      "column name: Q30.a\n",
      "     \n",
      "Question: Mental health and wellbeing services in my university are tailored and appropriate to the needs of PhD students\n",
      "     \n",
      "number of null values: 20\n",
      "     \n",
      "Value Count:\n",
      "Neither agree nor disagree                                                                                         1667\n",
      "Somewhat disagree                                                                                                  1459\n",
      "Somewhat agree                                                                                                     1436\n",
      "Strongly disagree                                                                                                  1296\n",
      "Strongly agree                                                                                                      482\n",
      "Prefer not to say                                                                                                   152\n",
      "Mental health and wellbeing services in my university are tailored and appropriate to the needs of PhD students       1\n",
      "Name: Q30.a, dtype: int64\n"
     ]
    }
   ],
   "source": [
    "info('Q30.a')"
   ]
  },
  {
   "cell_type": "markdown",
   "metadata": {},
   "source": [
    "If the university have better mental health services students are more likely to reach out for help. "
   ]
  },
  {
   "cell_type": "code",
   "execution_count": 93,
   "metadata": {
    "scrolled": true
   },
   "outputs": [
    {
     "name": "stdout",
     "output_type": "stream",
     "text": [
      "column name: Q54:4\n",
      "     \n",
      "Question: What would you do differently right now if you were starting your programme? \n",
      "     \n",
      "number of null values: 3559\n",
      "     \n",
      "Value Count:\n",
      "Nothing                                                                          2953\n",
      "What would you do differently right now if you were starting your programme?        1\n",
      "Name: Q54:4, dtype: int64\n"
     ]
    }
   ],
   "source": [
    "info('Q54:4')"
   ]
  },
  {
   "cell_type": "markdown",
   "metadata": {},
   "source": [
    "This column is either nothing or null. The ones who have nothing they would do differently are more likely to have better mental health, because they have no regrets. But the ones who wrote down something they want to do differently would be the ones that have null values in this column. That makes a lot of sense, but also the schools can't do anything about it."
   ]
  },
  {
   "cell_type": "code",
   "execution_count": 94,
   "metadata": {},
   "outputs": [
    {
     "name": "stdout",
     "output_type": "stream",
     "text": [
      "column name: Q31\n",
      "     \n",
      "Question: Do you feel that you have experienced bullying in your PhD program?\n",
      "     \n",
      "number of null values: 7\n",
      "     \n",
      "Value Count:\n",
      "No                                                                     4902\n",
      "Yes                                                                    1388\n",
      "Prefer not to say                                                       215\n",
      "Do you feel that you have experienced bullying in your PhD program?       1\n",
      "Name: Q31, dtype: int64\n"
     ]
    }
   ],
   "source": [
    "info('Q31')"
   ]
  },
  {
   "cell_type": "markdown",
   "metadata": {},
   "source": [
    "Bullying is a strong factor in needing mental health help. This result is very consistent with our inferential model."
   ]
  },
  {
   "cell_type": "markdown",
   "metadata": {},
   "source": [
    "Our logistic regression shows that a student is twice as likely to seek help if they are bullied VS if they are not bullied. That means if student A normally has 20% likelihood of seeking mental health help. He gets bullied the next day, his likelihood of seeking help will rise to 40%. That is quite a strong impact.\n",
    "\n",
    "If we look deeper into this issue, we can see that nearly half are bullied by their supervisors, who hold a lot of power over their life and their future. \n",
    "\n",
    "![perpetrator](images/perpetrator.png)\n",
    "\n",
    "Which explains why 57% of the students feel unable to speak out about their experience, fearing retaliation. \n",
    "\n",
    "![silence](images/silence.png)\n",
    "\n",
    "(These two images are from the [EDA report by the surveyer](https://figshare.com/s/74a5ea79d76ad66a8af8?file=18543281) that I mentioned before.)\n"
   ]
  },
  {
   "cell_type": "markdown",
   "metadata": {},
   "source": [
    "#### Score Evaluation\n",
    "\n",
    "- Our model has an accuracy of 70%.\n",
    "\n",
    "- Our model has a recall of 0.43, which means out of all the students who need mental health help, 42% will be caught by our model, 57% will fall through the crack.\n",
    "\n",
    "- Even though this is not very accurate , it is still way better than not doing anything."
   ]
  },
  {
   "cell_type": "markdown",
   "metadata": {},
   "source": [
    "## Conclusions"
   ]
  },
  {
   "cell_type": "markdown",
   "metadata": {},
   "source": [
    "### Recommendations:\n",
    "- Hammer down on bullying\n",
    "- Automate student mental health monitoring procedure with predictive model\n",
    "- Work with mental health professionals to develop better questions for survey\n",
    "\n",
    "Both our logistic regression and decision tree model indicates that whether a student is bullied in school is the biggest indicator of whether they would need help with anxiety and depression. Our more complicated catboost model confirms that it is the most important enironmental contributor to student mental health problems.\n",
    "\n",
    "It's very hard for students to voice their concerns in school because in a lot of cases their bully is their supervisor. By having an automated procedure in place, student can be best protected against their bullies. They will be able to speak out without fear of retaliation and still get the help they need.\n",
    "\n",
    "According to Stanford's [statistics](https://irds.stanford.edu/data-findings/doctoral-degree-programs-enrollment-and-demographics), there are 4720 new PhD students enrolled in 2021. Even though our model's predictive power is limited, it's going to be able to pick out 43% of the 36% of students who needs help with anxiety and depression, that's 730 students who gets the attention and care they need instead of suffering in silence. "
   ]
  }
 ],
 "metadata": {
  "kernelspec": {
   "display_name": "Python (learn-env)",
   "language": "python",
   "name": "learn-env"
  },
  "language_info": {
   "codemirror_mode": {
    "name": "ipython",
    "version": 3
   },
   "file_extension": ".py",
   "mimetype": "text/x-python",
   "name": "python",
   "nbconvert_exporter": "python",
   "pygments_lexer": "ipython3",
   "version": "3.8.5"
  }
 },
 "nbformat": 4,
 "nbformat_minor": 4
}
